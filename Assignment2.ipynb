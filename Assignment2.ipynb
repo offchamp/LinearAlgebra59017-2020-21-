{
  "nbformat": 4,
  "nbformat_minor": 0,
  "metadata": {
    "colab": {
      "name": "Assignment2.ipynb",
      "provenance": [],
      "collapsed_sections": [
        "CYA6egtE1Kj7",
        "rvvyKj--4RO4",
        "YrxGEpjN7eIN",
        "etWZWPHo9w5O",
        "RXl1UOun_Pr6",
        "VTFwtc6IBPhu",
        "Ayvs8HU4K89C",
        "L9EORghxJlmp"
      ],
      "include_colab_link": true
    },
    "kernelspec": {
      "name": "python3",
      "display_name": "Python 3"
    },
    "language_info": {
      "name": "python"
    }
  },
  "cells": [
    {
      "cell_type": "markdown",
      "metadata": {
        "id": "view-in-github",
        "colab_type": "text"
      },
      "source": [
        "<a href=\"https://colab.research.google.com/github/offchamp/LinearAlgebra59017-2020-21-/blob/main/Assignment2.ipynb\" target=\"_parent\"><img src=\"https://colab.research.google.com/assets/colab-badge.svg\" alt=\"Open In Colab\"/></a>"
      ]
    },
    {
      "cell_type": "markdown",
      "metadata": {
        "id": "47LKEbE407CH"
      },
      "source": [
        "# Welcome to Python Fundamentals\n",
        "In this module, we are going to  establish our skills in Python porgramming. In this notebook we are going to cover:\n",
        "*   Variables and Data types\n",
        "*   operations\n",
        "*   Input and output operations\n",
        "*   Logic controls\n",
        "*   Iterables\n",
        "*   Functions\n",
        "\n",
        "\n",
        "\n",
        "\n",
        "\n",
        "\n",
        "\n",
        "\n",
        "\n",
        "\n",
        "\n",
        "\n",
        "\n",
        "\n"
      ]
    },
    {
      "cell_type": "markdown",
      "metadata": {
        "id": "CYA6egtE1Kj7"
      },
      "source": [
        "#Variables and Data Types [1], [2]\n",
        "### A variable is a name associated with a memory location in the computer, where you can store a value that can change or vary. Data type is an attribute associated with a piece of data that tells a computer system how to interpret its value."
      ]
    },
    {
      "cell_type": "code",
      "metadata": {
        "id": "y3fPoNg_2ear"
      },
      "source": [
        "x = 1 \n",
        "a, b = 3, -2\n"
      ],
      "execution_count": 1,
      "outputs": []
    },
    {
      "cell_type": "code",
      "metadata": {
        "id": "Sw2PK7n528AY",
        "colab": {
          "base_uri": "https://localhost:8080/"
        },
        "outputId": "b2f5bcdf-81f2-4b1b-acb8-ffb89829171c"
      },
      "source": [
        "type(x)"
      ],
      "execution_count": null,
      "outputs": [
        {
          "output_type": "execute_result",
          "data": {
            "text/plain": [
              "int"
            ]
          },
          "metadata": {},
          "execution_count": 2
        }
      ]
    },
    {
      "cell_type": "code",
      "metadata": {
        "id": "B0abUnHQ3AzP",
        "colab": {
          "base_uri": "https://localhost:8080/"
        },
        "outputId": "1cd56c20-9864-4307-e16d-3325a85dca77"
      },
      "source": [
        "y= 3.0\n",
        "type(y)\n"
      ],
      "execution_count": null,
      "outputs": [
        {
          "output_type": "execute_result",
          "data": {
            "text/plain": [
              "float"
            ]
          },
          "metadata": {},
          "execution_count": 3
        }
      ]
    },
    {
      "cell_type": "code",
      "metadata": {
        "colab": {
          "base_uri": "https://localhost:8080/"
        },
        "id": "br4WlV_W3XPZ",
        "outputId": "387a4ebc-060c-495a-98d5-9310547e1695"
      },
      "source": [
        "x= float(x)\n",
        "type(x)\n",
        "x"
      ],
      "execution_count": null,
      "outputs": [
        {
          "output_type": "execute_result",
          "data": {
            "text/plain": [
              "1.0"
            ]
          },
          "metadata": {},
          "execution_count": 5
        }
      ]
    },
    {
      "cell_type": "code",
      "metadata": {
        "colab": {
          "base_uri": "https://localhost:8080/"
        },
        "id": "BtUMTj6V3qP_",
        "outputId": "da1c92b0-3592-496b-a246-5c376115c8bb"
      },
      "source": [
        "s,t,u=\"1\", \"3\", 'three'\n",
        "type(u)"
      ],
      "execution_count": null,
      "outputs": [
        {
          "output_type": "execute_result",
          "data": {
            "text/plain": [
              "str"
            ]
          },
          "metadata": {},
          "execution_count": 6
        }
      ]
    },
    {
      "cell_type": "markdown",
      "metadata": {
        "id": "RcHQLjEE4Ng3"
      },
      "source": [
        "#Operations"
      ]
    },
    {
      "cell_type": "markdown",
      "metadata": {
        "id": "rvvyKj--4RO4"
      },
      "source": [
        "#Arithmetic [3]\n",
        "### Arithmetic operators are used to performing mathematical operations like addition, subtraction, multiplication, and division."
      ]
    },
    {
      "cell_type": "code",
      "metadata": {
        "id": "0bImT7BC4GuQ"
      },
      "source": [
        "w, x, y, z = 4.0, -3.0, 1, -32\n"
      ],
      "execution_count": 21,
      "outputs": []
    },
    {
      "cell_type": "code",
      "metadata": {
        "colab": {
          "base_uri": "https://localhost:8080/"
        },
        "id": "5DN6EZ1W5Jnv",
        "outputId": "c2ac9acc-3468-4ac8-80cb-d97eae307fd4"
      },
      "source": [
        "### Addition\n",
        "S = w + x\n",
        "S"
      ],
      "execution_count": 22,
      "outputs": [
        {
          "output_type": "execute_result",
          "data": {
            "text/plain": [
              "1.0"
            ]
          },
          "metadata": {},
          "execution_count": 22
        }
      ]
    },
    {
      "cell_type": "code",
      "metadata": {
        "colab": {
          "base_uri": "https://localhost:8080/"
        },
        "id": "TyDNRcje53ez",
        "outputId": "10d8c9cc-d098-4914-8156-9a04e1f84e2f"
      },
      "source": [
        "### Subtraction\n",
        "D = y - z\n",
        "D"
      ],
      "execution_count": 23,
      "outputs": [
        {
          "output_type": "execute_result",
          "data": {
            "text/plain": [
              "33"
            ]
          },
          "metadata": {},
          "execution_count": 23
        }
      ]
    },
    {
      "cell_type": "code",
      "metadata": {
        "colab": {
          "base_uri": "https://localhost:8080/"
        },
        "id": "AAjg2MES6kFA",
        "outputId": "52e4506f-c3e3-4373-a840-c5fbe631fb1e"
      },
      "source": [
        "### Multiplication\n",
        "P= w*z\n",
        "P"
      ],
      "execution_count": 24,
      "outputs": [
        {
          "output_type": "execute_result",
          "data": {
            "text/plain": [
              "-128.0"
            ]
          },
          "metadata": {},
          "execution_count": 24
        }
      ]
    },
    {
      "cell_type": "code",
      "metadata": {
        "colab": {
          "base_uri": "https://localhost:8080/"
        },
        "id": "yYr4GWoL6vCo",
        "outputId": "ad32d7e7-baee-46d2-d6a8-a3fc425fe20c"
      },
      "source": [
        "### Division\n",
        "Q = y/x\n",
        "Q"
      ],
      "execution_count": 25,
      "outputs": [
        {
          "output_type": "execute_result",
          "data": {
            "text/plain": [
              "-0.3333333333333333"
            ]
          },
          "metadata": {},
          "execution_count": 25
        }
      ]
    },
    {
      "cell_type": "code",
      "metadata": {
        "colab": {
          "base_uri": "https://localhost:8080/"
        },
        "id": "yBH7Aueo7GGp",
        "outputId": "399df1a9-d5b1-475b-acbf-adf63673ad4c"
      },
      "source": [
        "QF = w//z\n",
        "QF"
      ],
      "execution_count": 26,
      "outputs": [
        {
          "output_type": "execute_result",
          "data": {
            "text/plain": [
              "-1.0"
            ]
          },
          "metadata": {},
          "execution_count": 26
        }
      ]
    },
    {
      "cell_type": "code",
      "metadata": {
        "colab": {
          "base_uri": "https://localhost:8080/"
        },
        "id": "qW4QNVXj7M9P",
        "outputId": "3472feb9-2275-45e6-c0aa-ec90e914a24d"
      },
      "source": [
        "### Exponintiation\n",
        "E = w**w\n",
        "E"
      ],
      "execution_count": 27,
      "outputs": [
        {
          "output_type": "execute_result",
          "data": {
            "text/plain": [
              "256.0"
            ]
          },
          "metadata": {},
          "execution_count": 27
        }
      ]
    },
    {
      "cell_type": "code",
      "metadata": {
        "colab": {
          "base_uri": "https://localhost:8080/"
        },
        "id": "RUVdViZA7V9X",
        "outputId": "cb73f21f-57f2-43d1-82f9-ee38a04e5b0d"
      },
      "source": [
        "### Modulo\n",
        "mod = z%x\n",
        "mod"
      ],
      "execution_count": 28,
      "outputs": [
        {
          "output_type": "execute_result",
          "data": {
            "text/plain": [
              "-2.0"
            ]
          },
          "metadata": {},
          "execution_count": 28
        }
      ]
    },
    {
      "cell_type": "markdown",
      "metadata": {
        "id": "YrxGEpjN7eIN"
      },
      "source": [
        "#Assignment [4]\n",
        "### Assignment Operators in Python are used for assigning the value of the right operand to the left operand. Various assignment operators used in Python are (+=, – = , *=, /= , etc.)."
      ]
    },
    {
      "cell_type": "code",
      "metadata": {
        "id": "w-wUr4Lf7hMv"
      },
      "source": [
        "A, B, C, D= 0, 100, 2, 1"
      ],
      "execution_count": null,
      "outputs": []
    },
    {
      "cell_type": "code",
      "metadata": {
        "colab": {
          "base_uri": "https://localhost:8080/"
        },
        "id": "JadblGZu7uWv",
        "outputId": "7ade3316-0aff-4d1e-b197-9e921066a4e7"
      },
      "source": [
        "A += w\n",
        "A "
      ],
      "execution_count": null,
      "outputs": [
        {
          "output_type": "execute_result",
          "data": {
            "text/plain": [
              "4.0"
            ]
          },
          "metadata": {},
          "execution_count": 16
        }
      ]
    },
    {
      "cell_type": "code",
      "metadata": {
        "colab": {
          "base_uri": "https://localhost:8080/"
        },
        "id": "K8m6BYsM7z1G",
        "outputId": "3abb9170-4b74-4361-dcf0-9ada017158e0"
      },
      "source": [
        "B -= x\n",
        "B"
      ],
      "execution_count": null,
      "outputs": [
        {
          "output_type": "execute_result",
          "data": {
            "text/plain": [
              "103.0"
            ]
          },
          "metadata": {},
          "execution_count": 17
        }
      ]
    },
    {
      "cell_type": "code",
      "metadata": {
        "id": "rLiuzlaP76Ju",
        "colab": {
          "base_uri": "https://localhost:8080/"
        },
        "outputId": "15576dac-c1b5-4d41-fef9-6afe364ffac0"
      },
      "source": [
        "C *= w\n",
        "C"
      ],
      "execution_count": null,
      "outputs": [
        {
          "output_type": "execute_result",
          "data": {
            "text/plain": [
              "8.0"
            ]
          },
          "metadata": {},
          "execution_count": 18
        }
      ]
    },
    {
      "cell_type": "code",
      "metadata": {
        "id": "vjuk15sQ86A4",
        "colab": {
          "base_uri": "https://localhost:8080/"
        },
        "outputId": "7d5284f0-10ef-4c7b-e166-d8a2bf5b7ae6"
      },
      "source": [
        "D /= x\n",
        "D"
      ],
      "execution_count": null,
      "outputs": [
        {
          "output_type": "execute_result",
          "data": {
            "text/plain": [
              "-0.3333333333333333"
            ]
          },
          "metadata": {},
          "execution_count": 19
        }
      ]
    },
    {
      "cell_type": "code",
      "metadata": {
        "id": "3o2Rbn-99Ll_",
        "colab": {
          "base_uri": "https://localhost:8080/"
        },
        "outputId": "f2e05545-b05e-4b22-c602-c8e462bcfa5b"
      },
      "source": [
        "E **= y\n",
        "E"
      ],
      "execution_count": null,
      "outputs": [
        {
          "output_type": "execute_result",
          "data": {
            "text/plain": [
              "256.0"
            ]
          },
          "metadata": {},
          "execution_count": 20
        }
      ]
    },
    {
      "cell_type": "markdown",
      "metadata": {
        "id": "etWZWPHo9w5O"
      },
      "source": [
        "#Comparators [4]\n",
        "### Comparison Operators In Python compares the values on either side of the operand and determines the relation between them. It is also referred to as relational operators. Various comparison operators in python are ( ==, != , <>, >,<=, etc.)"
      ]
    },
    {
      "cell_type": "code",
      "metadata": {
        "id": "55UuK-2K9zKm"
      },
      "source": [
        "size_1, size_2, size_3, = 1, 2.0, \"1\"\n",
        "true_size = 1.0"
      ],
      "execution_count": null,
      "outputs": []
    },
    {
      "cell_type": "code",
      "metadata": {
        "id": "XQ57hE8p98pf",
        "colab": {
          "base_uri": "https://localhost:8080/"
        },
        "outputId": "875ba4e0-8d7f-4ea7-e1d0-134e65d8cba2"
      },
      "source": [
        "##Equality\n",
        "size_1 == true_size\n",
        "\n"
      ],
      "execution_count": null,
      "outputs": [
        {
          "output_type": "execute_result",
          "data": {
            "text/plain": [
              "True"
            ]
          },
          "metadata": {},
          "execution_count": 22
        }
      ]
    },
    {
      "cell_type": "code",
      "metadata": {
        "id": "byNwXL4c-Uf3",
        "colab": {
          "base_uri": "https://localhost:8080/"
        },
        "outputId": "41bd5c7b-1a79-4345-a92b-4787f690a171"
      },
      "source": [
        "## Non Equality\n",
        "size_2 != true_size"
      ],
      "execution_count": null,
      "outputs": [
        {
          "output_type": "execute_result",
          "data": {
            "text/plain": [
              "True"
            ]
          },
          "metadata": {},
          "execution_count": 23
        }
      ]
    },
    {
      "cell_type": "code",
      "metadata": {
        "id": "ofmu2QQV-bNh"
      },
      "source": [
        "## Inequality\n",
        "s1 = size_1 > size_2\n",
        "s2 = size_1 < size_2/2\n",
        "s3 = true_size >= size_1\n",
        "s4 = size_2 <= true_size\n"
      ],
      "execution_count": null,
      "outputs": []
    },
    {
      "cell_type": "markdown",
      "metadata": {
        "id": "RXl1UOun_Pr6"
      },
      "source": [
        "#Logical Operations [4]\n",
        "Logical operators in Python are used for conditional statements are true or false. Logical operators in Python are AND, OR and NOT. For logical operators following condition are applied.\n",
        "\n",
        "\n"
      ]
    },
    {
      "cell_type": "code",
      "metadata": {
        "id": "-GNmfaKe_VA3",
        "colab": {
          "base_uri": "https://localhost:8080/"
        },
        "outputId": "88c6abea-6ca3-4795-833f-b9fa2edc290d"
      },
      "source": [
        "size_1 == true_size\n",
        "size_1 "
      ],
      "execution_count": null,
      "outputs": [
        {
          "output_type": "execute_result",
          "data": {
            "text/plain": [
              "1"
            ]
          },
          "metadata": {},
          "execution_count": 25
        }
      ]
    },
    {
      "cell_type": "code",
      "metadata": {
        "colab": {
          "base_uri": "https://localhost:8080/"
        },
        "id": "XTfLRN2n_iTv",
        "outputId": "8e1a2beb-e2ce-4d3e-b94e-be536103cc62"
      },
      "source": [
        "size_1 is true_size"
      ],
      "execution_count": null,
      "outputs": [
        {
          "output_type": "execute_result",
          "data": {
            "text/plain": [
              "False"
            ]
          },
          "metadata": {},
          "execution_count": 26
        }
      ]
    },
    {
      "cell_type": "code",
      "metadata": {
        "colab": {
          "base_uri": "https://localhost:8080/"
        },
        "id": "g5HBk7rW_4C_",
        "outputId": "5ecd972e-f390-48bf-8a31-b7a450451bbd"
      },
      "source": [
        "size_1 is not true_size"
      ],
      "execution_count": null,
      "outputs": [
        {
          "output_type": "execute_result",
          "data": {
            "text/plain": [
              "True"
            ]
          },
          "metadata": {},
          "execution_count": 27
        }
      ]
    },
    {
      "cell_type": "code",
      "metadata": {
        "colab": {
          "base_uri": "https://localhost:8080/"
        },
        "id": "XyblFqWv_6fX",
        "outputId": "f5c844c8-0040-4b97-f5f3-4507c3d9c3c5"
      },
      "source": [
        "P, Q = True, False  \n",
        "conj = P and Q \n",
        "conj\n"
      ],
      "execution_count": null,
      "outputs": [
        {
          "output_type": "execute_result",
          "data": {
            "text/plain": [
              "False"
            ]
          },
          "metadata": {},
          "execution_count": 28
        }
      ]
    },
    {
      "cell_type": "code",
      "metadata": {
        "colab": {
          "base_uri": "https://localhost:8080/"
        },
        "id": "K_xiaDwFAP0_",
        "outputId": "329ad6fc-4007-4562-d5a7-dc7a15096911"
      },
      "source": [
        "disj = P or Q\n",
        "disj"
      ],
      "execution_count": null,
      "outputs": [
        {
          "output_type": "execute_result",
          "data": {
            "text/plain": [
              "True"
            ]
          },
          "metadata": {},
          "execution_count": 29
        }
      ]
    },
    {
      "cell_type": "code",
      "metadata": {
        "colab": {
          "base_uri": "https://localhost:8080/"
        },
        "id": "vq1CXxQeAeMH",
        "outputId": "c950d5c7-e1f9-41a4-bf74-eed6a6ec498c"
      },
      "source": [
        "nand = not(P and Q)\n",
        "nand"
      ],
      "execution_count": null,
      "outputs": [
        {
          "output_type": "execute_result",
          "data": {
            "text/plain": [
              "True"
            ]
          },
          "metadata": {},
          "execution_count": 30
        }
      ]
    },
    {
      "cell_type": "code",
      "metadata": {
        "id": "UzHCeh2eAxQX",
        "colab": {
          "base_uri": "https://localhost:8080/"
        },
        "outputId": "a3948df3-9d77-48a8-aca6-d48498401617"
      },
      "source": [
        "xor = (not P and Q) or (P and not Q)\n",
        "xor"
      ],
      "execution_count": null,
      "outputs": [
        {
          "output_type": "execute_result",
          "data": {
            "text/plain": [
              "True"
            ]
          },
          "metadata": {},
          "execution_count": 31
        }
      ]
    },
    {
      "cell_type": "markdown",
      "metadata": {
        "id": "VTFwtc6IBPhu"
      },
      "source": [
        "# Input and Output [5]\n",
        "### Input is any information or data sent to the computer from the user through the keyboard is called input. Output is the information produced by the computer to the user is called output.\n"
      ]
    },
    {
      "cell_type": "code",
      "metadata": {
        "colab": {
          "base_uri": "https://localhost:8080/"
        },
        "id": "Go5xLQ3eBSM-",
        "outputId": "e9075cad-ebf9-487b-e1a9-222e1b7fc868"
      },
      "source": [
        "print(\"Hello World!\")"
      ],
      "execution_count": 29,
      "outputs": [
        {
          "output_type": "stream",
          "name": "stdout",
          "text": [
            "Hello World!\n"
          ]
        }
      ]
    },
    {
      "cell_type": "code",
      "metadata": {
        "id": "bwzeEOOLBfYe"
      },
      "source": [
        "cnt = 14000"
      ],
      "execution_count": 30,
      "outputs": []
    },
    {
      "cell_type": "code",
      "metadata": {
        "colab": {
          "base_uri": "https://localhost:8080/"
        },
        "id": "2HMp8fWeBhvO",
        "outputId": "187e08ac-5440-40df-8f2d-5485d07d4bd4"
      },
      "source": [
        "string = \"Hello World\"\n",
        "print(string, \" Current Covid count is:\", cnt)\n",
        "cnt += 10000"
      ],
      "execution_count": 31,
      "outputs": [
        {
          "output_type": "stream",
          "name": "stdout",
          "text": [
            "Hello World  Current Covid count is: 14000\n"
          ]
        }
      ]
    },
    {
      "cell_type": "code",
      "metadata": {
        "colab": {
          "base_uri": "https://localhost:8080/"
        },
        "id": "Rs4It2xuBmrn",
        "outputId": "5e47b05a-f5dc-4cb7-8feb-c89a3d16e70b"
      },
      "source": [
        "print(f\"{string}, current count is:{cnt}\")\n"
      ],
      "execution_count": 32,
      "outputs": [
        {
          "output_type": "stream",
          "name": "stdout",
          "text": [
            "Hello World, current count is:24000\n"
          ]
        }
      ]
    },
    {
      "cell_type": "code",
      "metadata": {
        "colab": {
          "base_uri": "https://localhost:8080/"
        },
        "id": "hqgcObgoDZCZ",
        "outputId": "ec7f276f-8cd4-4a42-87b6-222fa0bcf0da"
      },
      "source": [
        "sem_grade = 86.25\n",
        "name = \"John\"\n",
        "print (\"Hello {}, your semestral grade is {}\".format(name, sem_grade))"
      ],
      "execution_count": 33,
      "outputs": [
        {
          "output_type": "stream",
          "name": "stdout",
          "text": [
            "Hello John, your semestral grade is 86.25\n"
          ]
        }
      ]
    },
    {
      "cell_type": "code",
      "metadata": {
        "colab": {
          "base_uri": "https://localhost:8080/"
        },
        "id": "CsGbq0noC0gn",
        "outputId": "7e40abea-5e18-44df-f06d-3f8d9a51ba94"
      },
      "source": [
        "pg, mg, fg = 0.3, 0.3, 0.4\n",
        "print(\"The  weights of your semestral grades are:\\\n",
        "\\n\\t {:.2%} for Prelims\\\n",
        "\\n\\t {:.2%} for Midterms, and\\\n",
        "\\n\\t {:.2%} for Finals.\".format(pg, mg, fg))\n"
      ],
      "execution_count": 34,
      "outputs": [
        {
          "output_type": "stream",
          "name": "stdout",
          "text": [
            "The  weights of your semestral grades are:\n",
            "\t 30.00% for Prelims\n",
            "\t 30.00% for Midterms, and\n",
            "\t 40.00% for Finals.\n"
          ]
        }
      ]
    },
    {
      "cell_type": "code",
      "metadata": {
        "id": "NsfdlKE8E-Fv",
        "colab": {
          "base_uri": "https://localhost:8080/"
        },
        "outputId": "12db5083-73da-423b-eaa4-3ba26be33180"
      },
      "source": [
        "e = input(\"Enter a number: \")"
      ],
      "execution_count": 36,
      "outputs": [
        {
          "name": "stdout",
          "output_type": "stream",
          "text": [
            "Enter a number: 10\n"
          ]
        }
      ]
    },
    {
      "cell_type": "code",
      "metadata": {
        "colab": {
          "base_uri": "https://localhost:8080/"
        },
        "id": "sjuqD5V0Fh6W",
        "outputId": "d821fb38-c677-45b9-abad-b0510e576326"
      },
      "source": [
        "9\n",
        "name = input(\"Enter your name: \")\n",
        "pg = input(\"Enter Prelim grade: \")\n",
        "mg = input(\"Enter Midterm grade \")\n",
        "fg = input(\"Enter Final grade: \")\n",
        "sem_grade = None \n",
        "print(\"Hello {}, your semestral grade is: {}\".format(name, sem_grade))"
      ],
      "execution_count": 37,
      "outputs": [
        {
          "output_type": "stream",
          "name": "stdout",
          "text": [
            "Enter your name: ems\n",
            "Enter Prelim grade: 90\n",
            "Enter Midterm grade 0\n",
            "Enter Final grade: 0\n",
            "Hello ems, your semestral grade is: None\n"
          ]
        }
      ]
    },
    {
      "cell_type": "markdown",
      "metadata": {
        "id": "W0Yv8-sSKnop"
      },
      "source": [
        "# Looping Statements [6]\n",
        "### Loops can execute a block of code number of times until a certain condition is met."
      ]
    },
    {
      "cell_type": "markdown",
      "metadata": {
        "id": "Ayvs8HU4K89C"
      },
      "source": [
        "# While [6]\n",
        "### While Loop is used to repeat a block of code. Instead of running the code block once, It executes the code block multiple times until a certain condition is met."
      ]
    },
    {
      "cell_type": "code",
      "metadata": {
        "colab": {
          "base_uri": "https://localhost:8080/"
        },
        "id": "Jv36VHA7AGkf",
        "outputId": "d73be5e1-3aad-4509-e5ad-5da7a7a94a99"
      },
      "source": [
        "##  while loops \n",
        "i, j = 0, 10\n",
        "while(i<=j):\n",
        "  print(f\"{i}\\t|\\t{j}\")\n",
        "  i += 1\n",
        "  "
      ],
      "execution_count": 2,
      "outputs": [
        {
          "output_type": "stream",
          "name": "stdout",
          "text": [
            "0\t|\t10\n",
            "1\t|\t10\n",
            "2\t|\t10\n",
            "3\t|\t10\n",
            "4\t|\t10\n",
            "5\t|\t10\n",
            "6\t|\t10\n",
            "7\t|\t10\n",
            "8\t|\t10\n",
            "9\t|\t10\n",
            "10\t|\t10\n"
          ]
        }
      ]
    },
    {
      "cell_type": "markdown",
      "metadata": {
        "id": "L9EORghxJlmp"
      },
      "source": [
        "# For [6]\n",
        "### For loop is used to iterate over elements of a sequence. It is often used when you have a piece of code which you want to repeat “n” number of time."
      ]
    },
    {
      "cell_type": "code",
      "metadata": {
        "colab": {
          "base_uri": "https://localhost:8080/"
        },
        "id": "r-3HTvsKNglE",
        "outputId": "dd5101d9-4f07-4033-c549-495e52f1d5c4"
      },
      "source": [
        "# for(int = 0); i<10; i++){\n",
        "# printf(i)\n",
        "# }\n",
        "\n",
        "i=0\n",
        "for i in range (11):\n",
        "  print(i)\n",
        "  "
      ],
      "execution_count": 4,
      "outputs": [
        {
          "output_type": "stream",
          "name": "stdout",
          "text": [
            "0\n",
            "1\n",
            "2\n",
            "3\n",
            "4\n",
            "5\n",
            "6\n",
            "7\n",
            "8\n",
            "9\n",
            "10\n"
          ]
        }
      ]
    },
    {
      "cell_type": "code",
      "metadata": {
        "colab": {
          "base_uri": "https://localhost:8080/"
        },
        "id": "4Ye5e7AROFxU",
        "outputId": "155b066a-cdc9-4c2d-971a-2413d7ef8c09"
      },
      "source": [
        "playlist = [\"Bahay Kubo\", \"Magandang Kanta\" , \"Buko\"]\n",
        "print('Now Playing:\\n')\n",
        "for song in playlist:\n",
        "  print(song)\n",
        "  "
      ],
      "execution_count": 5,
      "outputs": [
        {
          "output_type": "stream",
          "name": "stdout",
          "text": [
            "Now Playing:\n",
            "\n",
            "Bahay Kubo\n",
            "Magandang Kanta\n",
            "Buko\n"
          ]
        }
      ]
    },
    {
      "cell_type": "code",
      "metadata": {
        "colab": {
          "base_uri": "https://localhost:8080/"
        },
        "id": "p5dEShBddNj-",
        "outputId": "d1ae3d59-d921-4e27-e6c4-3bac96acafb7"
      },
      "source": [
        "num_1, num_2 =  14, 12 \n",
        "if(num_1 == num_2):\n",
        "  print(\"HAHA\")\n",
        "elif(num_1>num_2):\n",
        "  print(\"HOHO\")\n",
        "else:\n",
        "  print (\"HUHU\")"
      ],
      "execution_count": 6,
      "outputs": [
        {
          "output_type": "stream",
          "name": "stdout",
          "text": [
            "HOHO\n"
          ]
        }
      ]
    },
    {
      "cell_type": "code",
      "metadata": {
        "id": "DU23XjKyeIB1"
      },
      "source": [
        "# void Deleteuser (int userid){\n",
        "# delete(userid);\n",
        "#}\n",
        "\n",
        "def delete_user (userid):\n",
        "  print(\"Successfully deleted user {}\". format(userid))"
      ],
      "execution_count": 9,
      "outputs": []
    },
    {
      "cell_type": "code",
      "metadata": {
        "colab": {
          "base_uri": "https://localhost:8080/"
        },
        "id": "wm3mQFobkHwp",
        "outputId": "0676226e-b783-49e8-9de5-bc8b202a7108"
      },
      "source": [
        "userid = 2020_100100\n",
        "delete_user(2020_100100)"
      ],
      "execution_count": 10,
      "outputs": [
        {
          "output_type": "stream",
          "name": "stdout",
          "text": [
            "Successfully deleted user 2020100100\n"
          ]
        }
      ]
    },
    {
      "cell_type": "code",
      "metadata": {
        "id": "pnYkej8YkUC_"
      },
      "source": [
        "added1, added2 = 5, 6"
      ],
      "execution_count": null,
      "outputs": []
    },
    {
      "cell_type": "code",
      "metadata": {
        "id": "IlJsSqbGlaYb"
      },
      "source": [
        "def add(added1, added2):\n",
        "  sum =added1 + added2\n",
        "  return sum "
      ],
      "execution_count": 11,
      "outputs": []
    },
    {
      "cell_type": "code",
      "metadata": {
        "colab": {
          "base_uri": "https://localhost:8080/"
        },
        "id": "kUOX9c-pDcRk",
        "outputId": "0cffe0ba-29f0-4460-ee98-c3b9c107a4ed"
      },
      "source": [
        "add(5, 4)\n"
      ],
      "execution_count": 12,
      "outputs": [
        {
          "output_type": "execute_result",
          "data": {
            "text/plain": [
              "9"
            ]
          },
          "metadata": {},
          "execution_count": 12
        }
      ]
    },
    {
      "cell_type": "markdown",
      "metadata": {
        "id": "al2uuWNRDhh2"
      },
      "source": [
        "# References:\n",
        "[1] Variables and Data Types (2021).(https://csawesome.runestone.academy/runestone/books/published/csawesome/Unit1-Getting-Started/topic-1-3-variables.html)\n",
        "    \n",
        "[2] What are Data Types and Why are They Important? (2021).(https://dataled.academy/guides/data-types/)\n",
        "\n",
        "[3] Python Operators (2021).(https://www.geeksforgeeks.org/python-operators/)\n",
        "\n",
        "[4] Python Operators: Arithmetic, Logical, Comparison, Assignment, Bitwise & Precedence(2021).(https://www.guru99.com/python-operators-complete-tutorial.html)\n",
        "\n",
        "[5] Python Input and Output Statements(2021).(https://www.tutorialspoint.com/python/python_loops.htm)\n",
        "\n",
        "[6] Python For & While Loops: Enumerate, Break, Continue Statement\n",
        "(2021).(https://www.guru99.com/python-loops-while-for-break-continue-enumerate.html)\n",
        "\n",
        "\n"
      ]
    }
  ]
}