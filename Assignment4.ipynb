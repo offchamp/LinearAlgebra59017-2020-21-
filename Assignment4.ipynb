{
  "nbformat": 4,
  "nbformat_minor": 0,
  "metadata": {
    "kernelspec": {
      "display_name": "Python 3",
      "language": "python",
      "name": "python3"
    },
    "language_info": {
      "codemirror_mode": {
        "name": "ipython",
        "version": 3
      },
      "file_extension": ".py",
      "mimetype": "text/x-python",
      "name": "python",
      "nbconvert_exporter": "python",
      "pygments_lexer": "ipython3",
      "version": "3.8.3"
    },
    "colab": {
      "name": "Assignment4.ipynb",
      "provenance": [],
      "collapsed_sections": [
        "fKS9O9p6IfrI",
        "Ay9_A1AnIfrN",
        "wOqY4OL6IfrQ",
        "GoI65w8gIfrZ",
        "SDneQveAIfre",
        "BH5DsrBcIfre",
        "CV40q5YlIfrf"
      ],
      "include_colab_link": true
    }
  },
  "cells": [
    {
      "cell_type": "markdown",
      "metadata": {
        "id": "view-in-github",
        "colab_type": "text"
      },
      "source": [
        "<a href=\"https://colab.research.google.com/github/offchamp/LinearAlgebra59017-2020-21-/blob/main/Assignment4.ipynb\" target=\"_parent\"><img src=\"https://colab.research.google.com/assets/colab-badge.svg\" alt=\"Open In Colab\"/></a>"
      ]
    },
    {
      "cell_type": "markdown",
      "metadata": {
        "id": "oIhcJPw4Ifq7"
      },
      "source": [
        "# Linear Algebra for ECE\n",
        "## Laboratory 4 : Matrices\n",
        "#### A matrix  (whose plural is matrices) is a rectangular array of numbers, symbols, or expressions, arranged in rows and columns."
      ]
    },
    {
      "cell_type": "markdown",
      "metadata": {
        "id": "5AZfT1ngIfrC"
      },
      "source": [
        "Now that you have a fundamental knowledge about Python, we'll try to look into greater dimensions."
      ]
    },
    {
      "cell_type": "markdown",
      "metadata": {
        "id": "z3yQzzctIfrD"
      },
      "source": [
        "### Objectives\n",
        "At the end of this activity you will be able to:\n",
        "1. Be familiar with matrices and their relation to linear equations.\n",
        "2. Perform basic matrix operations.\n",
        "3. Program and translate matrix equations and operations using Python."
      ]
    },
    {
      "cell_type": "markdown",
      "metadata": {
        "id": "xfXvXLl-IfrE"
      },
      "source": [
        "# Discussion"
      ]
    },
    {
      "cell_type": "code",
      "metadata": {
        "id": "2pbwsjOgIfrF"
      },
      "source": [
        "import numpy as np\n",
        "import matplotlib.pyplot as plt\n",
        "import scipy.linalg as la\n",
        "import math\n",
        "%matplotlib inline"
      ],
      "execution_count": null,
      "outputs": []
    },
    {
      "cell_type": "markdown",
      "metadata": {
        "id": "OoHJrqIuIfrG"
      },
      "source": [
        "### Matrices [1]\n",
        "matrix, a set of numbers arranged in rows and columns so as to form a rectangular array. The numbers are called the elements, or entries, of the matrix."
      ]
    },
    {
      "cell_type": "markdown",
      "metadata": {
        "id": "rmoXv48oIfrG"
      },
      "source": [
        "The notation and use of matrices is probably one of the fundamentals of modern computing. Matrices are also handy representations of complex equations or multiple inter-related equations from 2-dimensional equations to even hundreds and thousands of them."
      ]
    },
    {
      "cell_type": "markdown",
      "metadata": {
        "id": "vMNHzYdvIfrG"
      },
      "source": [
        "Let's say for example you have $A$ and $B$ as system of equation."
      ]
    },
    {
      "cell_type": "markdown",
      "metadata": {
        "id": "UGBWeAoeIfrH"
      },
      "source": [
        "$$\n",
        "A = \\left\\{\n",
        "    \\begin{array}\\\n",
        "        x + y \\\\ \n",
        "        4x - 10y\n",
        "    \\end{array}\n",
        "\\right. \\\\\n",
        "B = \\left\\{\n",
        "    \\begin{array}\\\n",
        "        x+y+z \\\\ \n",
        "        3x -2y -z \\\\\n",
        "        -x + 4y +2z\n",
        "    \\end{array}\n",
        "\\right. $$"
      ]
    },
    {
      "cell_type": "markdown",
      "metadata": {
        "id": "dHxKG8C6IfrH"
      },
      "source": [
        "We could see that $A$ is a system of 2 equations with 2 parameters. While $B$ is a system of 3 equations with 3 parameters. We can represent them as matrices as:"
      ]
    },
    {
      "cell_type": "markdown",
      "metadata": {
        "id": "kA8oyF0GIfrI"
      },
      "source": [
        "$$\n",
        "A=\\begin{bmatrix} 1 & 1 \\\\ 4 & {-10}\\end{bmatrix} \\\\\n",
        "B=\\begin{bmatrix} 1 & 1 & 1 \\\\ 3 & -2 & -1 \\\\ -1 & 4 & 2\\end{bmatrix}\n",
        "$$"
      ]
    },
    {
      "cell_type": "markdown",
      "metadata": {
        "id": "HEJFn3phIfrI"
      },
      "source": [
        "So assuming that you already discussed the fundamental representation of matrices, their types, and operations. We'll proceed in doing them in here in Python."
      ]
    },
    {
      "cell_type": "markdown",
      "metadata": {
        "id": "fKS9O9p6IfrI"
      },
      "source": [
        "### Declaring Matrices"
      ]
    },
    {
      "cell_type": "markdown",
      "metadata": {
        "id": "7_nn4LJyIfrJ"
      },
      "source": [
        "Just like our previous laboratory activity, we'll represent system of linear equations as a matrix. The entities or numbers in matrices are called the elements of a matrix. These elements are arranged and ordered in rows and columns which form the list/array-like structure of matrices. And just like arrays, these elements are indexed according to their position with respect to their rows and columns. This can be reprsented just like the equation below. Whereas $A$ is a matrix consisting of elements denoted by $a_{i,j}$. Denoted by $i$ is the number of rows in the matrix while $j$ stands for the number of columns.<br>\n",
        "Do note that the $size$ of a matrix is $i\\times j$."
      ]
    },
    {
      "cell_type": "markdown",
      "metadata": {
        "id": "dk6N1g_OIfrJ"
      },
      "source": [
        "$$A=\\begin{bmatrix}\n",
        "a_{(0,0)}&a_{(0,1)}&\\dots&a_{(0,j-1)}\\\\\n",
        "a_{(1,0)}&a_{(1,1)}&\\dots&a_{(1,j-1)}\\\\\n",
        "\\vdots&\\vdots&\\ddots&\\vdots&\\\\\n",
        "a_{(i-1,0)}&a_{(i-1,1)}&\\dots&a_{(i-1,j-1)}\n",
        "\\end{bmatrix}\n",
        "$$"
      ]
    },
    {
      "cell_type": "markdown",
      "metadata": {
        "id": "hHWR-lfaIfrJ"
      },
      "source": [
        "We already gone over some of the types of matrices as vectors but we'll further discuss them in this laboratory activity. Since you already know how to describe vectors using <b>shape</b>, <b>dimensions</b> and <b>size</b> attributes, we'll use them to analyze these matrices."
      ]
    },
    {
      "cell_type": "code",
      "metadata": {
        "id": "2tH_3EyEIfrK"
      },
      "source": [
        "## Since we'll keep on describing matrices. Let's make a function.\n",
        "def describe_mat(matrix):\n",
        "    print(f'Matrix:\\n{matrix}\\n\\nShape:\\t{matrix.shape}\\nRank:\\t{matrix.ndim}\\n')"
      ],
      "execution_count": null,
      "outputs": []
    },
    {
      "cell_type": "code",
      "metadata": {
        "id": "GtlANSbsIfrK",
        "colab": {
          "base_uri": "https://localhost:8080/"
        },
        "outputId": "f106f487-e9f2-4097-ea9d-79b023f52e43"
      },
      "source": [
        "## Declaring a 2 x 2 matrix\n",
        "A = np.array([\n",
        "    [1, 2],\n",
        "    [3, 1]\n",
        "])\n",
        "describe_mat(A)"
      ],
      "execution_count": null,
      "outputs": [
        {
          "output_type": "stream",
          "name": "stdout",
          "text": [
            "Matrix:\n",
            "[[1 2]\n",
            " [3 1]]\n",
            "\n",
            "Shape:\t(2, 2)\n",
            "Rank:\t2\n",
            "\n"
          ]
        }
      ]
    },
    {
      "cell_type": "code",
      "metadata": {
        "id": "d25x10ZgIfrL",
        "colab": {
          "base_uri": "https://localhost:8080/"
        },
        "outputId": "d39ee193-d1ae-4e9c-ebb7-eaf9ec8d02b1"
      },
      "source": [
        "G = np.array([\n",
        "    [1,1],\n",
        "    [2,2]\n",
        "])\n",
        "describe_mat(G)"
      ],
      "execution_count": null,
      "outputs": [
        {
          "output_type": "stream",
          "name": "stdout",
          "text": [
            "Matrix:\n",
            "[[1 1]\n",
            " [2 2]]\n",
            "\n",
            "Shape:\t(2, 2)\n",
            "Rank:\t2\n",
            "\n"
          ]
        }
      ]
    },
    {
      "cell_type": "code",
      "metadata": {
        "id": "SdPbu_jlIfrM",
        "colab": {
          "base_uri": "https://localhost:8080/"
        },
        "outputId": "68848efb-6787-4573-bf4e-262a6f63bd12"
      },
      "source": [
        "## Declaring a 3 x 2 matrix\n",
        "B = np.array([\n",
        "    [8, 2],\n",
        "    [5, 4],\n",
        "    [1, 1]\n",
        "])\n",
        "describe_mat(B)"
      ],
      "execution_count": null,
      "outputs": [
        {
          "output_type": "stream",
          "name": "stdout",
          "text": [
            "Matrix:\n",
            "[[8 2]\n",
            " [5 4]\n",
            " [1 1]]\n",
            "\n",
            "Shape:\t(3, 2)\n",
            "Rank:\t2\n",
            "\n"
          ]
        }
      ]
    },
    {
      "cell_type": "code",
      "metadata": {
        "id": "sfLJuskKIfrM",
        "colab": {
          "base_uri": "https://localhost:8080/"
        },
        "outputId": "f1e29381-f592-41f1-98cf-86c8e966d339"
      },
      "source": [
        "H = np.array([1,2,3,4,5])\n",
        "describe_mat(H)"
      ],
      "execution_count": null,
      "outputs": [
        {
          "output_type": "stream",
          "name": "stdout",
          "text": [
            "Matrix:\n",
            "[1 2 3 4 5]\n",
            "\n",
            "Shape:\t(5,)\n",
            "Rank:\t1\n",
            "\n"
          ]
        }
      ]
    },
    {
      "cell_type": "markdown",
      "metadata": {
        "id": "Ay9_A1AnIfrN"
      },
      "source": [
        "## Categorizing Matrices"
      ]
    },
    {
      "cell_type": "markdown",
      "metadata": {
        "id": "qtSnxYlbIfrN"
      },
      "source": [
        "There are several ways of classifying matrices. Once could be according to their <b>shape</b> and another is according to their <b>element values</b>. We'll try to go through them."
      ]
    },
    {
      "cell_type": "markdown",
      "metadata": {
        "id": "ijUKSsPyIfrN"
      },
      "source": [
        "### According to shape"
      ]
    },
    {
      "cell_type": "markdown",
      "metadata": {
        "id": "fA-Wrv8dIfrN"
      },
      "source": [
        "#### Row and Column Matrices"
      ]
    },
    {
      "cell_type": "markdown",
      "metadata": {
        "id": "FhH0IVzXIfrO"
      },
      "source": [
        "Row and column matrices are common in vector and matrix computations. They can also represent row and column spaces of a bigger vector space. Row and column matrices are represented by a single column or single row. So with that being, the shape of row matrices would be $1 \\times j$ and column matrices would be $i \\times 1$."
      ]
    },
    {
      "cell_type": "code",
      "metadata": {
        "id": "jTlVpfeKIfrO",
        "colab": {
          "base_uri": "https://localhost:8080/",
          "height": 304
        },
        "outputId": "3f7c1afc-529f-4639-a459-cdeb1f730fac"
      },
      "source": [
        "## Declaring a Row Matrix\n",
        "\n",
        "row_mat_1D = np.array([\n",
        "    1, 3, 2\n",
        "]) ## this is a 1-D Matrix with a shape of (3,), it's not really considered as a row matrix.\n",
        "row_mat_2D = np.array([\n",
        "    [1,2,3]\n",
        "]) ## this is a 2-D Matrix with a shape of (1,3)\n",
        "describe_mat(row_mat_1D)\n",
        "describe_mat(row_mat_2D)"
      ],
      "execution_count": null,
      "outputs": [
        {
          "output_type": "error",
          "ename": "IndexError",
          "evalue": "ignored",
          "traceback": [
            "\u001b[0;31m---------------------------------------------------------------------------\u001b[0m",
            "\u001b[0;31mIndexError\u001b[0m                                Traceback (most recent call last)",
            "\u001b[0;32m<ipython-input-48-7c86a0ac3c8d>\u001b[0m in \u001b[0;36m<module>\u001b[0;34m()\u001b[0m\n\u001b[1;32m      7\u001b[0m     \u001b[0;34m[\u001b[0m\u001b[0;36m1\u001b[0m\u001b[0;34m,\u001b[0m\u001b[0;36m2\u001b[0m\u001b[0;34m,\u001b[0m\u001b[0;36m3\u001b[0m\u001b[0;34m]\u001b[0m\u001b[0;34m\u001b[0m\u001b[0;34m\u001b[0m\u001b[0m\n\u001b[1;32m      8\u001b[0m ]) ## this is a 2-D Matrix with a shape of (1,3)\n\u001b[0;32m----> 9\u001b[0;31m \u001b[0mdescribe_mat\u001b[0m\u001b[0;34m(\u001b[0m\u001b[0mrow_mat_1D\u001b[0m\u001b[0;34m)\u001b[0m\u001b[0;34m\u001b[0m\u001b[0;34m\u001b[0m\u001b[0m\n\u001b[0m\u001b[1;32m     10\u001b[0m \u001b[0mdescribe_mat\u001b[0m\u001b[0;34m(\u001b[0m\u001b[0mrow_mat_2D\u001b[0m\u001b[0;34m)\u001b[0m\u001b[0;34m\u001b[0m\u001b[0;34m\u001b[0m\u001b[0m\n",
            "\u001b[0;32m<ipython-input-46-25bd6deead20>\u001b[0m in \u001b[0;36mdescribe_mat\u001b[0;34m(matrix)\u001b[0m\n\u001b[1;32m      1\u001b[0m \u001b[0;32mdef\u001b[0m \u001b[0mdescribe_mat\u001b[0m\u001b[0;34m(\u001b[0m\u001b[0mmatrix\u001b[0m\u001b[0;34m)\u001b[0m\u001b[0;34m:\u001b[0m\u001b[0;34m\u001b[0m\u001b[0;34m\u001b[0m\u001b[0m\n\u001b[0;32m----> 2\u001b[0;31m     \u001b[0mis_square\u001b[0m \u001b[0;34m=\u001b[0m \u001b[0;32mTrue\u001b[0m \u001b[0;32mif\u001b[0m \u001b[0mmatrix\u001b[0m\u001b[0;34m.\u001b[0m\u001b[0mshape\u001b[0m\u001b[0;34m[\u001b[0m\u001b[0;36m0\u001b[0m\u001b[0;34m]\u001b[0m \u001b[0;34m==\u001b[0m \u001b[0mmatrix\u001b[0m\u001b[0;34m.\u001b[0m\u001b[0mshape\u001b[0m\u001b[0;34m[\u001b[0m\u001b[0;36m1\u001b[0m\u001b[0;34m]\u001b[0m \u001b[0;32melse\u001b[0m \u001b[0;32mFalse\u001b[0m\u001b[0;34m\u001b[0m\u001b[0;34m\u001b[0m\u001b[0m\n\u001b[0m\u001b[1;32m      3\u001b[0m     \u001b[0mprint\u001b[0m\u001b[0;34m(\u001b[0m\u001b[0;34mf'Matrix:\\n{matrix}\\n\\nShape:\\t{matrix.shape}\\nRank:\\t{matrix.ndim}\\nIs Square: {is_square}\\n'\u001b[0m\u001b[0;34m)\u001b[0m\u001b[0;34m\u001b[0m\u001b[0;34m\u001b[0m\u001b[0m\n",
            "\u001b[0;31mIndexError\u001b[0m: tuple index out of range"
          ]
        }
      ]
    },
    {
      "cell_type": "code",
      "metadata": {
        "id": "hA5AQp_GIfrO",
        "colab": {
          "base_uri": "https://localhost:8080/"
        },
        "outputId": "f89a842f-05d2-4cb8-e765-d670b6c51475"
      },
      "source": [
        "## Declaring a Column Matrix\n",
        "\n",
        "col_mat = np.array([\n",
        "    [1],\n",
        "    [2],\n",
        "    [5]\n",
        "]) ## this is a 2-D Matrix with a shape of (3,1)\n",
        "describe_mat(col_mat)"
      ],
      "execution_count": null,
      "outputs": [
        {
          "output_type": "stream",
          "name": "stdout",
          "text": [
            "Matrix:\n",
            "[[1]\n",
            " [2]\n",
            " [5]]\n",
            "\n",
            "Shape:\t(3, 1)\n",
            "Rank:\t2\n",
            "Is Square: False\n",
            "\n"
          ]
        }
      ]
    },
    {
      "cell_type": "markdown",
      "metadata": {
        "id": "GXWatcVbEFYD"
      },
      "source": [
        ""
      ]
    },
    {
      "cell_type": "markdown",
      "metadata": {
        "id": "wOqY4OL6IfrQ"
      },
      "source": [
        "#### Square Matrices"
      ]
    },
    {
      "cell_type": "markdown",
      "metadata": {
        "id": "DXRUyt6_IfrQ"
      },
      "source": [
        "Square matrices are matrices that have the same row and column sizes. We could say a matrix is square if $i = j$. We can tweak our matrix descriptor function to determine square matrices."
      ]
    },
    {
      "cell_type": "code",
      "metadata": {
        "id": "CvQUhuM4IfrR"
      },
      "source": [
        "def describe_mat(matrix):\n",
        "    is_square = True if matrix.shape[0] == matrix.shape[1] else False \n",
        "    print(f'Matrix:\\n{matrix}\\n\\nShape:\\t{matrix.shape}\\nRank:\\t{matrix.ndim}\\nIs Square: {is_square}\\n')"
      ],
      "execution_count": null,
      "outputs": []
    },
    {
      "cell_type": "code",
      "metadata": {
        "id": "fYldnZYcIfrR",
        "colab": {
          "base_uri": "https://localhost:8080/"
        },
        "outputId": "8bfa844c-b1fd-48fd-d716-498d80141513"
      },
      "source": [
        "square_mat = np.array([\n",
        "    [1,2,5],\n",
        "    [3,3,8],\n",
        "    [6,1,2]\n",
        "])\n",
        "\n",
        "non_square_mat = np.array([\n",
        "    [1,2,5],\n",
        "    [3,3,8]\n",
        "])\n",
        "describe_mat(square_mat)\n",
        "describe_mat(non_square_mat)"
      ],
      "execution_count": null,
      "outputs": [
        {
          "output_type": "stream",
          "name": "stdout",
          "text": [
            "Matrix:\n",
            "[[1 2 5]\n",
            " [3 3 8]\n",
            " [6 1 2]]\n",
            "\n",
            "Shape:\t(3, 3)\n",
            "Rank:\t2\n",
            "Is Square: True\n",
            "\n",
            "Matrix:\n",
            "[[1 2 5]\n",
            " [3 3 8]]\n",
            "\n",
            "Shape:\t(2, 3)\n",
            "Rank:\t2\n",
            "Is Square: False\n",
            "\n"
          ]
        }
      ]
    },
    {
      "cell_type": "markdown",
      "metadata": {
        "id": "ZMBb5OJ4IfrR"
      },
      "source": [
        "### According to element values"
      ]
    },
    {
      "cell_type": "markdown",
      "metadata": {
        "id": "UYpPhQIaIfrR"
      },
      "source": [
        "#### Null Matrix"
      ]
    },
    {
      "cell_type": "markdown",
      "metadata": {
        "id": "HTASw0AOIfrS"
      },
      "source": [
        "A Null Matrix is a matrix that has no elements. It is always a subspace of any vector or matrix."
      ]
    },
    {
      "cell_type": "code",
      "metadata": {
        "id": "twSRZ3rbIfrS"
      },
      "source": [
        "def describe_mat(matrix):\n",
        "    if matrix.size > 0:\n",
        "        is_square = True if matrix.shape[0] == matrix.shape[1] else False \n",
        "        print(f'Matrix:\\n{matrix}\\n\\nShape:\\t{matrix.shape}\\nRank:\\t{matrix.ndim}\\nIs Square: {is_square}\\n')\n",
        "    else:\n",
        "        print('Matrix is Null')"
      ],
      "execution_count": null,
      "outputs": []
    },
    {
      "cell_type": "code",
      "metadata": {
        "id": "N1_ZOBKnIfrS",
        "colab": {
          "base_uri": "https://localhost:8080/"
        },
        "outputId": "c41effd6-e2f9-4bda-face-cea87fe55b15"
      },
      "source": [
        "null_mat = np.array([])\n",
        "describe_mat(null_mat)"
      ],
      "execution_count": null,
      "outputs": [
        {
          "output_type": "stream",
          "name": "stdout",
          "text": [
            "Matrix is Null\n"
          ]
        }
      ]
    },
    {
      "cell_type": "markdown",
      "metadata": {
        "id": "94tdqW_WIfrS"
      },
      "source": [
        "#### Zero Matrix"
      ]
    },
    {
      "cell_type": "markdown",
      "metadata": {
        "id": "3RowK1awIfrT"
      },
      "source": [
        "A zero matrix can be any rectangular matrix but with all elements having a value of 0."
      ]
    },
    {
      "cell_type": "code",
      "metadata": {
        "id": "4OTDdIJpIfrT",
        "colab": {
          "base_uri": "https://localhost:8080/"
        },
        "outputId": "92e935e4-2845-4af1-a701-5bc2f0c57d6f"
      },
      "source": [
        "zero_mat_row = np.zeros((1,2))\n",
        "zero_mat_sqr = np.zeros((2,2))\n",
        "zero_mat_rct = np.zeros((3,2))\n",
        "\n",
        "print(f'Zero Row Matrix: \\n{zero_mat_row}')\n",
        "print(f'Zero Square Matrix: \\n{zero_mat_sqr}')\n",
        "print(f'Zero Rectangular Matrix: \\n{zero_mat_rct}')"
      ],
      "execution_count": null,
      "outputs": [
        {
          "output_type": "stream",
          "name": "stdout",
          "text": [
            "Zero Row Matrix: \n",
            "[[0. 0.]]\n",
            "Zero Square Matrix: \n",
            "[[0. 0.]\n",
            " [0. 0.]]\n",
            "Zero Rectangular Matrix: \n",
            "[[0. 0.]\n",
            " [0. 0.]\n",
            " [0. 0.]]\n"
          ]
        }
      ]
    },
    {
      "cell_type": "markdown",
      "metadata": {
        "id": "lbaJywWGIfrT"
      },
      "source": [
        "#### Ones Matrix"
      ]
    },
    {
      "cell_type": "markdown",
      "metadata": {
        "id": "8Gm8dcEGIfrU"
      },
      "source": [
        "A ones matrix, just like the zero matrix, can be any rectangular matrix but all of its elements are 1s instead of 0s."
      ]
    },
    {
      "cell_type": "code",
      "metadata": {
        "id": "p3pKYJ7tIfrV",
        "colab": {
          "base_uri": "https://localhost:8080/"
        },
        "outputId": "287882f2-207a-4f4d-dc64-54a15ab19023"
      },
      "source": [
        "ones_mat_row = np.ones((1,2))\n",
        "ones_mat_sqr = np.ones((2,2))\n",
        "ones_mat_rct = np.ones((3,2))\n",
        "\n",
        "print(f'Ones Row Matrix: \\n{ones_mat_row}')\n",
        "print(f'Ones Square Matrix: \\n{ones_mat_sqr}')\n",
        "print(f'Ones Rectangular Matrix: \\n{ones_mat_rct}')"
      ],
      "execution_count": null,
      "outputs": [
        {
          "output_type": "stream",
          "name": "stdout",
          "text": [
            "Ones Row Matrix: \n",
            "[[1. 1.]]\n",
            "Ones Square Matrix: \n",
            "[[1. 1.]\n",
            " [1. 1.]]\n",
            "Ones Rectangular Matrix: \n",
            "[[1. 1.]\n",
            " [1. 1.]\n",
            " [1. 1.]]\n"
          ]
        }
      ]
    },
    {
      "cell_type": "markdown",
      "metadata": {
        "id": "bmAN6cw9IfrV"
      },
      "source": [
        "#### Diagonal Matrix"
      ]
    },
    {
      "cell_type": "markdown",
      "metadata": {
        "id": "Gca0d_gEIfrV"
      },
      "source": [
        "A diagonal matrix is a square matrix that has values only at the diagonal of the matrix. "
      ]
    },
    {
      "cell_type": "code",
      "metadata": {
        "id": "EEbog8hUIfrW",
        "colab": {
          "base_uri": "https://localhost:8080/"
        },
        "outputId": "338b387a-864c-4296-85e6-3a7c4968f28a"
      },
      "source": [
        "np.array([\n",
        "    [2,0,0],\n",
        "    [0,3,0],\n",
        "    [0,0,5]\n",
        "])\n",
        "# a[1,1], a[2,2], a[3,3], ... a[n-1,n-1]"
      ],
      "execution_count": null,
      "outputs": [
        {
          "output_type": "execute_result",
          "data": {
            "text/plain": [
              "array([[2, 0, 0],\n",
              "       [0, 3, 0],\n",
              "       [0, 0, 5]])"
            ]
          },
          "metadata": {},
          "execution_count": 6
        }
      ]
    },
    {
      "cell_type": "code",
      "metadata": {
        "id": "wHIIyLy-IfrW",
        "colab": {
          "base_uri": "https://localhost:8080/"
        },
        "outputId": "dea9e4e4-f43f-4ba3-a0f8-cca95acba153"
      },
      "source": [
        "d = np.diag([2,3,5,7])\n",
        "np.diag(d).shape == d.shape[0] == d.shape[1]\n"
      ],
      "execution_count": null,
      "outputs": [
        {
          "output_type": "execute_result",
          "data": {
            "text/plain": [
              "False"
            ]
          },
          "metadata": {},
          "execution_count": 7
        }
      ]
    },
    {
      "cell_type": "markdown",
      "metadata": {
        "id": "PHjuyEhgIfrW"
      },
      "source": [
        "#### Identity Matrix"
      ]
    },
    {
      "cell_type": "markdown",
      "metadata": {
        "id": "T8H7CS0VIfrX"
      },
      "source": [
        "An identity matrix is a special diagonal matrix in which the values at the diagonal are ones."
      ]
    },
    {
      "cell_type": "code",
      "metadata": {
        "id": "rBpX9tvlIfrX",
        "colab": {
          "base_uri": "https://localhost:8080/"
        },
        "outputId": "a2ce9652-8f69-4909-f4b1-80c42382bd7c"
      },
      "source": [
        "np.eye(5)"
      ],
      "execution_count": null,
      "outputs": [
        {
          "output_type": "execute_result",
          "data": {
            "text/plain": [
              "array([[1., 0., 0., 0., 0.],\n",
              "       [0., 1., 0., 0., 0.],\n",
              "       [0., 0., 1., 0., 0.],\n",
              "       [0., 0., 0., 1., 0.],\n",
              "       [0., 0., 0., 0., 1.]])"
            ]
          },
          "metadata": {},
          "execution_count": 28
        }
      ]
    },
    {
      "cell_type": "code",
      "metadata": {
        "id": "FCUnfPVUIfrX",
        "colab": {
          "base_uri": "https://localhost:8080/"
        },
        "outputId": "aa770c28-cfc2-4895-ea52-7468acc5d685"
      },
      "source": [
        "np.identity(5)"
      ],
      "execution_count": null,
      "outputs": [
        {
          "output_type": "execute_result",
          "data": {
            "text/plain": [
              "array([[1., 0., 0., 0., 0.],\n",
              "       [0., 1., 0., 0., 0.],\n",
              "       [0., 0., 1., 0., 0.],\n",
              "       [0., 0., 0., 1., 0.],\n",
              "       [0., 0., 0., 0., 1.]])"
            ]
          },
          "metadata": {},
          "execution_count": 29
        }
      ]
    },
    {
      "cell_type": "markdown",
      "metadata": {
        "id": "AmFuUYK-IfrY"
      },
      "source": [
        "#### Upper Triangular Matrix"
      ]
    },
    {
      "cell_type": "markdown",
      "metadata": {
        "id": "OKc2vrotIfrY"
      },
      "source": [
        "An upper triangular matrix is a matrix that has no values below the diagonal. "
      ]
    },
    {
      "cell_type": "code",
      "metadata": {
        "id": "6Y97Cf2dIfrY",
        "colab": {
          "base_uri": "https://localhost:8080/"
        },
        "outputId": "f86c25f2-c44b-4e64-89f6-27763c2876d3"
      },
      "source": [
        "np.array([\n",
        "    [1,2,3],\n",
        "    [0,3,1],\n",
        "    [0,0,5]\n",
        "])"
      ],
      "execution_count": null,
      "outputs": [
        {
          "output_type": "execute_result",
          "data": {
            "text/plain": [
              "array([[1, 2, 3],\n",
              "       [0, 3, 1],\n",
              "       [0, 0, 5]])"
            ]
          },
          "metadata": {},
          "execution_count": 28
        }
      ]
    },
    {
      "cell_type": "markdown",
      "metadata": {
        "id": "OCo9DMx-IfrY"
      },
      "source": [
        "#### Lower Triangular Matrix"
      ]
    },
    {
      "cell_type": "markdown",
      "metadata": {
        "id": "yUn0BrexIfrY"
      },
      "source": [
        "A lower triangular matrix is a matrix that has no values above the diagonal."
      ]
    },
    {
      "cell_type": "code",
      "metadata": {
        "id": "24C8ufD4IfrZ",
        "colab": {
          "base_uri": "https://localhost:8080/"
        },
        "outputId": "121b8948-4d6b-49f8-b758-308de91ceb6e"
      },
      "source": [
        "np.array([\n",
        "    [1,0,0],\n",
        "    [5,3,0],\n",
        "    [7,8,5]\n",
        "])"
      ],
      "execution_count": null,
      "outputs": [
        {
          "output_type": "execute_result",
          "data": {
            "text/plain": [
              "array([[1, 0, 0],\n",
              "       [5, 3, 0],\n",
              "       [7, 8, 5]])"
            ]
          },
          "metadata": {},
          "execution_count": 29
        }
      ]
    },
    {
      "cell_type": "markdown",
      "metadata": {
        "id": "GoI65w8gIfrZ"
      },
      "source": [
        "## Practice"
      ]
    },
    {
      "cell_type": "markdown",
      "metadata": {
        "id": "0FnWxIO-IfrZ"
      },
      "source": [
        "1. Given the linear combination below, try to create a corresponding matrix representing it."
      ]
    },
    {
      "cell_type": "markdown",
      "metadata": {
        "id": "mQHWB7CBIfrZ"
      },
      "source": [
        "$$\\theta = 5x + 3y - z$$"
      ]
    },
    {
      "cell_type": "code",
      "metadata": {
        "id": "oa1p8WDCIfrZ"
      },
      "source": [
        ""
      ],
      "execution_count": null,
      "outputs": []
    },
    {
      "cell_type": "markdown",
      "metadata": {
        "id": "O-mXYIEcIfra"
      },
      "source": [
        "2. Given the system of linear combinations below, try to encode it as a matrix. Also describe the matrix."
      ]
    },
    {
      "cell_type": "markdown",
      "metadata": {
        "id": "5rsz78fcIfra"
      },
      "source": [
        "$$\n",
        "A = \\left\\{\\begin{array}\n",
        "5x_1 + 2x_2 +x_3\\\\\n",
        "4x_2 - x_3\\\\\n",
        "10x_3\n",
        "\\end{array}\\right.\n",
        "$$"
      ]
    },
    {
      "cell_type": "code",
      "metadata": {
        "id": "uiHCSSsUIfra"
      },
      "source": [
        ""
      ],
      "execution_count": null,
      "outputs": []
    },
    {
      "cell_type": "markdown",
      "metadata": {
        "id": "9GE3XH5dIfra"
      },
      "source": [
        "3. Given the matrix below, express it as a linear combination in a markdown."
      ]
    },
    {
      "cell_type": "code",
      "metadata": {
        "id": "yTyAfGnQIfrb"
      },
      "source": [
        "G = np.array([\n",
        "    [1,7,8],\n",
        "    [2,2,2],\n",
        "    [4,6,7]\n",
        "])\n"
      ],
      "execution_count": null,
      "outputs": []
    },
    {
      "cell_type": "markdown",
      "metadata": {
        "id": "iFi-YaEFIfrb"
      },
      "source": [
        "4. Given the matrix below, display the output as a LaTeX makdown also express it as a system of linear combinations."
      ]
    },
    {
      "cell_type": "code",
      "metadata": {
        "id": "zXF2QjjRIfrd",
        "colab": {
          "base_uri": "https://localhost:8080/"
        },
        "outputId": "fd925f9c-1747-46cd-9239-1151e03a8a04"
      },
      "source": [
        "H = np.tril(G)\n",
        "H"
      ],
      "execution_count": null,
      "outputs": [
        {
          "output_type": "execute_result",
          "data": {
            "text/plain": [
              "array([[1, 0, 0],\n",
              "       [2, 2, 0],\n",
              "       [4, 6, 7]])"
            ]
          },
          "metadata": {},
          "execution_count": 31
        }
      ]
    },
    {
      "cell_type": "markdown",
      "metadata": {
        "id": "mfSTAHWnIfrd"
      },
      "source": [
        "\n",
        "# Matrix Algebra [2]\n",
        "generalized algebra that deals with the operations and relations among matrices"
      ]
    },
    {
      "cell_type": "markdown",
      "metadata": {
        "id": "SDneQveAIfre"
      },
      "source": [
        "### Addition"
      ]
    },
    {
      "cell_type": "code",
      "metadata": {
        "id": "b_3fGY_OIfre",
        "colab": {
          "base_uri": "https://localhost:8080/"
        },
        "outputId": "5495c488-4106-475e-809e-06c02a900e9d"
      },
      "source": [
        "A = np.array([\n",
        "    [1,2],\n",
        "    [2,3],\n",
        "    [4,1]\n",
        "])\n",
        "B = np.array([\n",
        "    [2,2],\n",
        "    [0,0],\n",
        "    [1,1]\n",
        "])\n",
        "A+B"
      ],
      "execution_count": null,
      "outputs": [
        {
          "output_type": "execute_result",
          "data": {
            "text/plain": [
              "array([[3, 4],\n",
              "       [2, 3],\n",
              "       [5, 2]])"
            ]
          },
          "metadata": {},
          "execution_count": 10
        }
      ]
    },
    {
      "cell_type": "code",
      "metadata": {
        "id": "vccc1a0vIfre",
        "colab": {
          "base_uri": "https://localhost:8080/"
        },
        "outputId": "3931c3e3-4734-4375-fcd0-9d91376c7b76"
      },
      "source": [
        "2+A ##Broadcasting\n",
        "# 2*np.ones(A.shape)+A"
      ],
      "execution_count": null,
      "outputs": [
        {
          "output_type": "execute_result",
          "data": {
            "text/plain": [
              "array([[3, 4],\n",
              "       [4, 5],\n",
              "       [6, 3]])"
            ]
          },
          "metadata": {},
          "execution_count": 33
        }
      ]
    },
    {
      "cell_type": "markdown",
      "metadata": {
        "id": "BH5DsrBcIfre"
      },
      "source": [
        "### Subtraction"
      ]
    },
    {
      "cell_type": "code",
      "metadata": {
        "collapsed": true,
        "jupyter": {
          "outputs_hidden": true
        },
        "id": "U9QRMNzpIfrf",
        "colab": {
          "base_uri": "https://localhost:8080/"
        },
        "outputId": "6da37ae7-f313-4965-bf76-d8af47765957"
      },
      "source": [
        "A-B"
      ],
      "execution_count": null,
      "outputs": [
        {
          "output_type": "execute_result",
          "data": {
            "text/plain": [
              "array([[-1,  0],\n",
              "       [ 2,  3],\n",
              "       [ 3,  0]])"
            ]
          },
          "metadata": {},
          "execution_count": 11
        }
      ]
    },
    {
      "cell_type": "code",
      "metadata": {
        "id": "cG-mLLrJIfrf",
        "colab": {
          "base_uri": "https://localhost:8080/"
        },
        "outputId": "afe6c616-6dc5-4369-9fd1-b22460401a2c"
      },
      "source": [
        "3-B == 3*np.ones(B.shape)-B"
      ],
      "execution_count": null,
      "outputs": [
        {
          "output_type": "execute_result",
          "data": {
            "text/plain": [
              "array([[ True,  True],\n",
              "       [ True,  True],\n",
              "       [ True,  True]])"
            ]
          },
          "metadata": {},
          "execution_count": 12
        }
      ]
    },
    {
      "cell_type": "markdown",
      "metadata": {
        "id": "CV40q5YlIfrf"
      },
      "source": [
        "### Element-wise Multiplication [3]\n",
        "is used when we want to compute the multiplication of two array. It returns the product of arr1 and arr2, element-wise.\n",
        " eto last"
      ]
    },
    {
      "cell_type": "code",
      "metadata": {
        "id": "OtFq5mpcIfrf",
        "colab": {
          "base_uri": "https://localhost:8080/"
        },
        "outputId": "b2b76c4a-efef-42a7-93f7-70479ca780f0"
      },
      "source": [
        "A*B\n",
        "np.multiply(A,B)"
      ],
      "execution_count": null,
      "outputs": [
        {
          "output_type": "execute_result",
          "data": {
            "text/plain": [
              "array([[2, 4],\n",
              "       [0, 0],\n",
              "       [4, 1]])"
            ]
          },
          "metadata": {},
          "execution_count": 36
        }
      ]
    },
    {
      "cell_type": "code",
      "metadata": {
        "id": "lRKOpw5tIfrg",
        "colab": {
          "base_uri": "https://localhost:8080/"
        },
        "outputId": "b8fe7f80-65bf-4b31-d659-0c4757cb2adb"
      },
      "source": [
        "2*A"
      ],
      "execution_count": null,
      "outputs": [
        {
          "output_type": "execute_result",
          "data": {
            "text/plain": [
              "array([[2, 4],\n",
              "       [4, 6],\n",
              "       [8, 2]])"
            ]
          },
          "metadata": {},
          "execution_count": 37
        }
      ]
    },
    {
      "cell_type": "code",
      "metadata": {
        "id": "bbyz0Z2pHTB1",
        "colab": {
          "base_uri": "https://localhost:8080/",
          "height": 184
        },
        "outputId": "d43b6c26-a206-4f7f-836e-2866ef3c33c4"
      },
      "source": [
        "A@B"
      ],
      "execution_count": null,
      "outputs": [
        {
          "output_type": "error",
          "ename": "ValueError",
          "evalue": "ignored",
          "traceback": [
            "\u001b[0;31m---------------------------------------------------------------------------\u001b[0m",
            "\u001b[0;31mValueError\u001b[0m                                Traceback (most recent call last)",
            "\u001b[0;32m<ipython-input-15-5016aafd2858>\u001b[0m in \u001b[0;36m<module>\u001b[0;34m()\u001b[0m\n\u001b[0;32m----> 1\u001b[0;31m \u001b[0mA\u001b[0m\u001b[0;34m@\u001b[0m\u001b[0mB\u001b[0m\u001b[0;34m\u001b[0m\u001b[0;34m\u001b[0m\u001b[0m\n\u001b[0m",
            "\u001b[0;31mValueError\u001b[0m: matmul: Input operand 1 has a mismatch in its core dimension 0, with gufunc signature (n?,k),(k,m?)->(n?,m?) (size 3 is different from 2)"
          ]
        }
      ]
    },
    {
      "cell_type": "code",
      "metadata": {
        "id": "8iLA6q_lIfrg",
        "colab": {
          "base_uri": "https://localhost:8080/"
        },
        "outputId": "5d188fb0-cb0f-4396-9dfb-312d729f3547"
      },
      "source": [
        "alpha=10**-10\n",
        "A/(alpha+B)"
      ],
      "execution_count": null,
      "outputs": [
        {
          "output_type": "execute_result",
          "data": {
            "text/plain": [
              "array([[5.e-01, 1.e+00],\n",
              "       [2.e+10, 3.e+10],\n",
              "       [4.e+00, 1.e+00]])"
            ]
          },
          "metadata": {},
          "execution_count": 39
        }
      ]
    },
    {
      "cell_type": "code",
      "metadata": {
        "id": "gQm11rgpIfrg",
        "colab": {
          "base_uri": "https://localhost:8080/"
        },
        "outputId": "f2e97a0d-6dea-4a28-e889-ba6e21223811"
      },
      "source": [
        "np.add(A,B)"
      ],
      "execution_count": null,
      "outputs": [
        {
          "output_type": "execute_result",
          "data": {
            "text/plain": [
              "array([[3, 4],\n",
              "       [2, 3],\n",
              "       [5, 2]])"
            ]
          },
          "metadata": {},
          "execution_count": 40
        }
      ]
    },
    {
      "cell_type": "markdown",
      "metadata": {
        "id": "HUOT_9BWIfrg"
      },
      "source": [
        "## Activity"
      ]
    },
    {
      "cell_type": "markdown",
      "metadata": {
        "id": "8GUiKVDeIfrh"
      },
      "source": [
        "### Task 1"
      ]
    },
    {
      "cell_type": "markdown",
      "metadata": {
        "id": "jj9MWQHdIfrh"
      },
      "source": [
        "Create a function named `mat_desc()` that througouhly describes a matrix, it should: <br>\n",
        "1. Displays the shape, size, and rank of the matrix. <br>\n",
        "2. Displays whether the matrix is square or non-square. <br>\n",
        "3. Displays whether the matrix is an empty matrix. <br>\n",
        "4. Displays if the matrix is an identity, ones, or zeros matrix <br>\n",
        "   \n",
        "Use 5 sample matrices in which their shapes are not lower than $(3,3)$.\n",
        "In your methodology, create a flowchart discuss the functions and methods you have done. Present your results in the results section showing the description of each matrix you have declared."
      ]
    },
    {
      "cell_type": "code",
      "metadata": {
        "id": "C4kEil7TIfrh"
      },
      "source": [
        "## Function area\n",
        "I = np.identity(3)\n",
        "J = np.identity(4)\n",
        "K = np.identity(5)\n",
        "L = np.identity(6)\n",
        "def mat_desc(matrix):\n",
        "    if matrix.size > 0:\n",
        "        is_square = True if matrix.shape[0] == matrix.shape[1] else False \n",
        "        print(f'Matrix:\\n{matrix}\\n\\nShape:\\t{matrix.shape}\\nRank:\\t{matrix.ndim}\\nSquare Matrix: {is_square}')\n",
        "    else:\n",
        "        print('Matrix is Null')\n",
        "    ## Zero Identifier\n",
        "    if np.all(matrix == 0):\n",
        "        print('Zero Matrix: True')\n",
        "    else:\n",
        "        print('Zero Matrix: False')\n",
        "    ## Ones Identifier\n",
        "    if np.all(matrix == 1):\n",
        "        print('One Matrix: True')\n",
        "    else:\n",
        "        print('One Matrix: False')\n",
        "    ## Identity Identifier using else if statement\n",
        "    if np.all(matrix == I):\n",
        "        print('Identity Matrix: True')\n",
        "    elif np.all(matrix == J):\n",
        "        print('Identity Matrix: True')\n",
        "    elif np.all(matrix == K):\n",
        "        print('Identity Matrix: True')\n",
        "    elif np.all(matrix == L):\n",
        "        print('Identity Matrix: True')\n",
        "    else:\n",
        "        print('Identity Matrix: False')\n",
        "      \n"
      ],
      "execution_count": null,
      "outputs": []
    },
    {
      "cell_type": "code",
      "metadata": {
        "id": "WIdSjZKcIfrh"
      },
      "source": [
        "## Matrix declarations\n",
        "Task1Sample1 = np.array([\n",
        "    [1,0,0],\n",
        "    [0,1,6],\n",
        "    [0,0,9]\n",
        "])\n",
        "\n",
        "Task1Sample2 = np.identity(5)\n",
        "\n",
        "Task1Sample3 = np.ones((3,3))\n",
        "\n",
        "Task1Sample4 = np.zeros((5,4))\n",
        "\n",
        "Task1Sample5 = np.array([])\n",
        "\n"
      ],
      "execution_count": null,
      "outputs": []
    },
    {
      "cell_type": "code",
      "metadata": {
        "id": "uwD8YeVbIfrh",
        "colab": {
          "base_uri": "https://localhost:8080/"
        },
        "outputId": "e0442e50-2398-4da0-9712-4f8fa4225526"
      },
      "source": [
        "## Test Areas\n",
        "mat_desc(Task1Sample1)"
      ],
      "execution_count": null,
      "outputs": [
        {
          "output_type": "stream",
          "name": "stdout",
          "text": [
            "Matrix:\n",
            "[[1 0 0]\n",
            " [0 1 6]\n",
            " [0 0 9]]\n",
            "\n",
            "Shape:\t(3, 3)\n",
            "Rank:\t2\n",
            "Square Matrix: True\n",
            "Zero Matrix: False\n",
            "One Matrix: False\n",
            "Identity Matrix: False\n"
          ]
        },
        {
          "output_type": "stream",
          "name": "stderr",
          "text": [
            "/usr/local/lib/python3.7/dist-packages/ipykernel_launcher.py:25: DeprecationWarning: elementwise comparison failed; this will raise an error in the future.\n",
            "/usr/local/lib/python3.7/dist-packages/ipykernel_launcher.py:27: DeprecationWarning: elementwise comparison failed; this will raise an error in the future.\n",
            "/usr/local/lib/python3.7/dist-packages/ipykernel_launcher.py:29: DeprecationWarning: elementwise comparison failed; this will raise an error in the future.\n"
          ]
        }
      ]
    },
    {
      "cell_type": "markdown",
      "metadata": {
        "id": "wIxFRVQzla4c"
      },
      "source": [
        "![Screenshot (1003).png](data:image/png;base64,iVBORw0KGgoAAAANSUhEUgAAAT0AAAH/CAYAAAAluwoiAAAAAXNSR0IArs4c6QAAAARnQU1BAACxjwv8YQUAAAAJcEhZcwAADsMAAA7DAcdvqGQAAAAhdEVYdENyZWF0aW9uIFRpbWUAMjAyMTowOToyNSAyMzoyODo1OTq16fcAAHGOSURBVHhe7Z0LXFTV+vcfu1JvFyjtSFnHsSwpK7E8JWUXukp3SDvJSVPRUpBOAnYRywzqpKDnGGiaaObRThp4zBxTCysNMgtMjNG8UF4ClYTUE6T23+/+rdlbhmFmZIa9Z/bMfr59VjP7mT0/tmvWPLP2Ws96Vrs9e/ZIF1xwATly7Ngx8XjKKaeIRxVv7WDfvn3E+qwPWN8O6zcRCP121dXVUseOHZVDO1r+0ZqaGmJ91gesb4f1mwiE/knKI8MwjClgp8cwjKlgp8cwjKngiQwZ1rfD+nZYv4lQ1OeeHsMwpoJnb2VY3w7r22H9JkJRn3t6DMOYCnZ6DMOYCnZ6DMOYCp69lWF9O6xvh/WbCEV9dnoyrG9HK/3t27fTzp07ae/eveL1uro6Onz4MP3222/0f//3f3TSSSfRaaedRv/v//0/Ovfcc+m8886jP/3pT9S5c2eyWCzCrsL1z/oqWunz7K0M69vxRX/lypW0detW+u6776ihoYFOP/104bxQOnXqJJwZnNrZZ59NYWFhwuGBI0eO0P/+9z+qr6+n/fv3088//ywcJRwmnCTOg8YVV1xBcXFxwjmqaHn9/PmaT5+dngzr22mN/ZdffqGlS5fSmjVrRK+tR48edPPNN9N1110nztGSXbt2UUlJCX355ZfCOXbt2pXuu+8+uuaaa8Trvly/M/z5mk+fJzKYVvHBBx/QkCFDaPz48XTxxRdTQUEBzZkzh5555hldHB7A33nsscdo6tSp9O6779Jf//pX+uyzz2jw4MH0j3/8g3766SflTIZpPez0GLfU1tbShAkTKCkpSYzBzZ49m95880264447lDP8C3p6o0ePpnnz5tFDDz0krgXX9sUXXyhnMMyJYafHtODXX3+lF198URQ4l3feeYfi4+OVV43B1VdfTTk5OTR9+nT69ttvRe+PnR/TGtpt27ZNcpwtAxirAeqgs4q3doDBatYPHn3cRm7evJnS0tKEYwkmXnvtNfrhhx9o1KhRdNFFFylWbesH6Fn/gPX11SdMZDhz9OhRUZzx1g5YPzj0y8rKpIEDB0r//e9/FUtw8vPPP0vDhg2Tpk2bpliCo/6Bt3bA+t7rt3SNjOmQHYSYmMBtLG5ng5nIyEiaOXMmhYeHk+z86ODBg8orDGOHnZ7JSUlJoTPOOIPy8vKoXbt2ijX4efzxx+mFF16g1NRUKi8vV6wMw07P1AwdOpT69+8vJgFCkS5duoje64wZM6i4uFixMmaHl6HJmFH/6aefFuEfaqBvqDN8+HBKSEhoEW7D7cd8+tzTMyHJycnits8sDg9gnG/RokV8q8vw7C1wZwehpp+ZmSktXbpUOTIfmKH+3//+pxxx+wHu7CAU9bmnZyKWLVsmJi3uv/9+xWI+EHD97LPPKkeMGWGnZyIWLlwovvRmBllbrr32WrGWmDEn7PRMwuuvvy7WqTJEI0eOpA8//FA5YswGz97KhLo+AnUxeYGsKIydJUuWiIQKffv25fZjMn3u6ZkAxKo98cQTyhEDsPIEaaoY83FyRkbG+HPOOUcs1lULwCM8Z1vsKFjwy/qB1UcPDzF5THOQnAATOwhidqwzgEet6p/bp7H07e9gQhakXj///POVI8YRZGHmdFTmg51eiINg3Jtuukk5YhxB6iz09hhzwU4vxNm2bZuf8+LVU9HoBEqZlEvZAxMofWm9bCun3ElW+8tuKJfP93yGPvzxxx/KM8YsnIQEfJj90Kuwvueitz42RsGuZP6jhIprYylzVBqNfTeHEiLqiDYVk3V5ERVtqqfS6ZmUNCSJ0udgOVg5FU3KpqTRk2jJcisVLbLZJfwI0uC7qjetCrdPzyUQ+tzTC3Gw12yLzLG6Ekc5L0ZQwfD7KCYuW3aBEUTdLRTVLY7iO1cT9UqhvNfGUlRVMdmoioqromjW5Ay6plsUxfWLUjT8x6mnnqo8Y8zCSZjNwKyHXoX1PRe99fGlxq+b39htpQJbb7mXt4xKPhxKdTMLZNemUF9CBZPzaP76KmpUTBaL/x2dI7i9dVVvWhVun55LIPS5pxfiYKNtBGj6jU4xFLk6nRJTUyhleA7V9IkjuZ9HlsPzqWCj/HpYBJ1RU0rFy6uanKFMlKWO5r/t/wwo2HScMRe82bdMKOsjFfyVV15Jt912m2JhHEGG5ffee085sqNl/XP7NJ4+9/RCnO7du9PXX3+tHDGOHDhwgGMYTQg7vRDn8ssvp02bNilHjCMrV66k3r17K0eMWeB9b2VCXf+f//wnPffcc34OXTE+WI88fvx4bj8m0+cxPZlQ18dExuLFi+nll19WrMyOHTto+vTpYlNzbj/m0m/pGpmQA3th7Ny5U/zqMXYmT54s0m0x5oOdnkkYNWqUuJVjiL799ls6++yzqXPnzoqFMRPs9ExCjx49KCwsjD7//HPFYl6mTp1Kr776qnLEmA3OnCxjJn1s8I2xrDPPPFOxmIuxY8dSnz596M477xTH3H7Mp889PZPxwgsvmHYsC8lUIyIijjs8xqSE4r6W3uq4s4NQ1P/000+l4cOHK0fm4IMPPpAyMjKUoya4/ZhPn3t6JuSWW26hhx9+mGTHp1hCGywzW7t2LU2cOFGxMGaGnZ5Jueuuu2jQoEE0ePBgqq9Hos/QBKEpyI48adIkxcKYHXZ6JgZp5F955RX6+9//TqtXr1asoYF8u0NPPfUUdejQQUxeMIwKz97KsD6J1RpYxhMKoRxWq5Xef/99sQPcVVddFRT1D1jfjt763NNjBOjxIf3UwIEDxZK1YGTXrl00bNgw+v7776mgoEA4PIZxhtfeyrC+HdUOh1FaWiocYGxsrLAZmdraWsrNzRVjk0is4LzSQuv60bv+WV9ffe7pMS3AWNg777wjUlJhsmPhwoXKK8aioqKCUlNTady4cZSYmEhvvvkmZ5JhTgg7PcYtcChz584VqXuefPJJEdhcVlamvBoYsHn522+/LXqhS5YsET07rDBBslSGaQ3s9JgT8uijj9KsWbNED/Czzz4TvT+kZFq+fDk1NDQoZ+nHd999R1OmTBF/FxMuFouFZs+eTZmZmXTRRRcpZzFM6+DZWxnWt+ONff/+/cIBfvLJJ2JzHWQtufbaa8XkAbI1O//N1tDY2Cg2J7fZbLRx40b66aefRC+zZ8+edOuttwp9oMX1q/Dnaz59dnoyrG+nLfro8WEMcPPmzSIYeO/evSJWTpIkOvnkk0VBSAwmG7AtJRIeYPtFFPWcc889l7p06SKcJpwnenFc/6yvopU+r72VcWcHrK+t/oQJEyS5B6dY7Gip740dsL759HlMj2EYU8FOj2EYU8FOj2EYU8FOj2EYU8H73sqwvh1/6GN/CsT9Oa6c0FIf6Hn9gPWDW59nb2Xc2QHra6vPs7es70gg9Fu6RoZhmBCGnR7DMKaCnR7DMKbi5NGjR48/44wzxGCgWrCsQx0cbIsd5fDhw8T6rK/asUHP1VdfLdbqOtrx6Hw+Ctc/6/tqR3Glzz09hmFMxckZGRnjzznnHDHdqxaARyzgbYsdBVPGrM/6qv3LL78UWVOw6bajHY/BcP3e2FFY33j69ncwDMOYBHZ6DMOYCnZ6DMOYCp699WBHYX1t9Xn2lvUdSyD0uafHMIyp4NlbD3YU1tdWn2dvWd+xBELf/g6GYRiTwE6PYRhTwU6PYRhTwbO3HuworK+tPs/esr5jCYQ+9/QYhjEVPHvrwY7C+trq8+wt6zuWQOjb38EwDGMS2OkxDGMq2OkxDGMq2OkxDGMqeN9bGda34w993veW9R0JhH477AvZsWNH5dAO4l4AZkMc8dYOampqiPVZf/ny5XTeeefRypUr6cEHHySr1UovvPCCeC0Yrh+wvp1g12/pGhlGB1asWEEPPfQQzZ07lwYMGEDz5s0TDZJh/A07PcYvPPfcc6Knt337dqqqqqKxY8e2+AVmGH/ATo/xC5GRkTRkyBDxvHv37vTwww+L5wzjb9rt2bNHuuCCC5RDO1reU+/bt49Yn/XB7t276bbbbqOXXnqJBg4cqFiD5/pZ306w67PTk/GH/vvvv0/btm2j008/XbHaaWxspLCwMOXIjpazV0bTP3TokFgAftpppylWbfWBntcPAqFfX19P48aNE4kaHOHvl/f6PHsro7f+wYMHKTk5mbKysqhdu3aKlWFaR0NDA2VnZ4tJIOf2w98v7/XZ6cnorb9u3Tr65ptvhONjGG9B2/nqq68oJSVFsTTB3y/v9Vv2xxnNqayspKuuuko5YhjvQPvp1q2bcsS0FXZ6fmDz5s105ZVXKkcM4x3ff/89tx8NOQmDpOge6lXMro+4NAxkOw+mMkxr+Omnn8TkF2IcXbUv/v56Lq70uaenMzabjW9tGZ/Bre0VV1yhHDFacBKmxzEAqFcxu/6WLVvY6TE+A6eHYG5XbQuFv7+eiyt97unpyG+//UY7duzg8RjGJ7j96AM7PR3BrzQaLMfmMb7A7Ucf2OnpCBot39oyvqI6PUZbePb2BKUt+hxqwLQFtB9MYrhqW2rh76/n4kqfe3o6gVADrDHlUBXGF9B+ONRJH07i2R/PxVf9H374gXt5jM+oQyOu2pZj4e+v5+JKn3t6OsHjeUxb4PE8/WCnpwP6hxrYKHdkrvz/tlM+KZesynNQNDKGElJTKCU1iRIG5lK5fS23ezblUu5i5XkbKBoZQYnz6u0Hi+W/r4FmsKK2H/7R1Ad2ejqg/krrH2pQTkWy00ofkkjZ7xVR7vAkSplTrtjzKX1kEmUvqrKfOSedkoanKMd4PZuSRk+iJcutVLTI0X32pMSpeZQ3dRZlXV1FxZvrqXR6JiUNSaJ0od2klbtccVIy9ctzKX9tI9WvzadM+TqSxhQIh1n/VT6lyO/Nfj2bCr6RT9xWRNnyccoUKzW9G8TSGaWZtKBWOZSpWWqVr1Rmt5Ws8ntrlhZQ7iRZO7WAFsyTr2FgNlnl84V9imwfnU+ltfVkfbuIxL960wJasAFPggv/tR9zwk5PB/x3ays7pa0WypmdTlRaTfEzcyimqljuAVZRSbVsnzaLotfnU9F3uTT/cDLNmpknH+fSgnr5fVVRNGtyBl3TLYri+kUpeqCM5is9vayt0RTXuZqoVwrlvTaWoqC9O5/m1yTKWlkUc4pNOK669ZmUuSmWkm8mqqYYSpmcRWO7wmHaqGAhUdrsWZTcsYzKd1VR7sQy6j0hi9LaWymrWW8ukuImxFLJSwuOO8M6+f3CedXbyLYLx6XUeNcsmtXHRmXtc2jWyAYqWWM/L+wR2Z5KVDinmqIai2mB7CSLF5QQdRZSQQXf2urLySNGjBh/5MgROnz4cLOC/SJRtLCbTb+wsJDi4+Nb7LepHbVUumwrdb0vgmo3R1HMTafQ+k2NFHdTNG39ppQ63BRBP5ZdTLf0iaTD36wk29HDVH/OY3S37IcPf2OlCouFImrwvg5kWybf3N4XR6rbsy0rp2vy8iit74OU8EBP6rDvQ3plwkqqOy+CGn+uIculx6h8Xwzd3as9nf3/TqXw3yqoaFsEhVVspYsTLqeSrPG08mAHivhtF9VYOlB16R90z31XU/i2VWQ96S8UsW0NNZ50jGr+r72s1YWiLrRnFRbX0S+Nhv42gzKXyI426jH6y4FSqr0phqJ+Xk2r62+hqANbiRLk4x8q5H9DDMWcVk7lB2Ko64H11HiP/Po5u2nl0mP02JNECxesoeqTYuiZvl2FfjCBneJuuukmEW7h2K7ctTf+/nqnz0lEZbTUR6gBGu348eMVqx5gTM9KcdMsZJ0URWkZJN/22eTHeHG7G5VhoYJYK0X0s1B1dRRlvWSRe2/z5R5bBNkqLJQ2OUw+D++LItukRMoMT6fCYdFCuWhkCtG0PIoXRzK7CyjppXqK7d1IhTOraej6ZKoank/UO5xKKmIof4jcm9uaRmlnZVLipnso1jaX6m/vTY2L8ql6cBkN3ZZIWbZIiqwtJlKO84/FkqWimMLHzKfk7vY/0/R366loeE8q7ruDso6lUHJFFPWsLaLquz6V35tLtow0il+cS7ld5b9J8qP8t+NkzfRDMRR3WL5NH5hHyT3qacGQWCrrV0Y5fe36wQLaz5w5c5q1Hy3bJ9Cz/QOj68tfimrJmaNHj4rijLd2YDb9pUuXSgsXLlQsgaJQyplYqTwPJHXSspmF0o6jDVLZhGQpZ6ti1pjKiTnyv7iJhv2V0qyMLKlMOQ4mrFar9P777ytHdrRsn97YQSjq85iexiCVVODHY6Iprm+k8jyQhFPcAxayLZJ7an0zKe0yxawxkX3j5H9xE40/VpFl+NhmtmCBV/HoDzs9DUGowY8//miARmuhqO7hyvMA01F2wI8PoLjrnW4xNCS8e5T8L24i/Po4itXJweoJ2g82QudQFX3htbcnKN7oV1RUUFRUlB9CDYoopXcCpWCWdUgCJU23h5J4xNd4Ovl9CXcn2f+WXETYiTfsXkC5c6qItuVT/nLFpiUY39ukPD9mpfSB+VSjHNZMT6HMr5SDFlgpf7o9nMcR26RcuXabcD7WE8zaYq3tH3/84bJ9uSr8/fVcXOlzT09DsBcGEj76hehEykM83exCit9aQAvqiaoWZTeLn3MZT+cUR1cuO43s4em0YDfi8eTzh6RTgVNsW+Rdafa/JZeh15eTdandrZQvtcoOxh4rmDkkUYkRbP5369cXy+cvoOLfLGTpIL+4oYDSEaf3ehFVKX8/98UkShxpvx4VV9fZ7DxZB/F/uWvq7G8Ap8RRYlcbFf6IgyoqrIikhPZFlJuK9+U2xfS9mEi530SSpdMZIm7Q8XWiOipBLKCI+cOxgtv4Qu1QEwww+nISr93zXLzRD9R6W0skUXWJ7LzKe1PWS2kUuTSLin5sGU9H1OgURye7htVVFDUthwaUZ1LBKcmUNSGBamY2X+1RtTCFEuIT5JJNxbIzsW22O5qqzTbZRSDmz0JZs/PtMYJOcXzUNYqiesdT7EmItbNR7ruNlDx7FuX1KKHcRfXi71smzKL83vbrseP6OpvOs+sg/i/e0qi8x070IxaqWir34DbJTjVqAEXWRlL8azmU+0gdlYuYPtkxD5hPadfb/x01Tq/jb1v6qTF/ai14ii/UDvT0rr76apdty13h76/n4kqfe3oaEcisKrZdjRQZIT85LDuENaVEvWLIUi07g3BMZoRT1NUW+f+gnkrezaG8RWVUpfqKiy0UhZn+Y2HUUFsqv7+KOvaKIsc9+S3986iwqFAuYylWsQmUnpnFgii/cArD5vv1rv6uSrX8n9zDwlNccI3sPJW/H34W/gEq7q/Tfl697Gwj5P/kv93R8X0y3ePJUlVECxZXU88nLFRpzaLceVaqPN5rk3ucDp3xlq9HUGQn+aGT/G/YX203yY4Qf7NqTTGVUjTFXKx9X4+zqvgPdnoa4b9VGArl88UYW9LABLJGJdOAXrEUVV9K1Y1VtGx1NYX1jiNLeRblz8mkZLmX0vQ1PYMiwqqpdLWVqhyHtPrEUIStkhrqS8haga++OyzUWJ5P+W9n03z5vBZ0d/q73SwUtrqArHvxYiwlWoopfXoBZc+soxi5V+YeN9cp6E0JlhLKmi7fAs+rVGwqFkrsZaOsXT0pTnhc2RmHNci9uFIq+7HlGF7L1yupYIL87xtTTJYBqouPotioOird3UBVq4qpOkz7SSK0H4wHM/rDwckyWujn5ubSPffc478xPSakQPu58847xQ+nHu0T6Nn+QbDo8+ztCUpr9A8ePMgbuDA+o2ZVufzyy122L0+Fv7+eiyt9vr3VADUgGYOmDOMt6q0tZ1XxD/L3lGd/PJXW6GNvW+7lMb6ijge7alsnKvz99Vxc6XPXRAPQaNnpMb7C7ce/sNNrI2qowZ/+9CfFwjCth9uP/2Gn10b4V5ppC9x+/A/P3p6gnEh/06ZN3GgZn2nN3raeCn9/PRdX+tzTawPGyarCBCNqVhUOSvYvJ/Hsj+fiSV9da4tzGMZb1Fvb0047zWX7ak3h76/n4kqfv61tgMdjmLbA7ScwsNNrA9xombbA7ScwsNPzEQ41YNoCt5/AwU7PR4yxFwYTrHAvL3C027Ztm+S8PyumeYHzAL23doB9J0NR/80336RDhw41y38mSZJ4dF5D6c4OoOX8d73VCSb9pUuX0kUXXURnn302nXPOOaIgDyEIhusHWuhj6eLw4cOpW7duitV+LnA+350dhOr3C+ilz6mlZHzR37lzpyb6+/bta5E40lsdo+ofOHAAW4zSzz//LB7Xr19Pu3btonvvvZcuu+wy2rt3r6hfhG6gjiMjI8WjWnD7F8r106VLF/Go4ot+qH6/gF767PRkWN+Or/rt27cXzmz37t3iET8IeDzvvPPo4osvpk6dOome3dy5c2nMmDFktVpFb69fv35C49dff6U9e/YIJ4hHteA9KIhjw/kocIxaXz9/vubSZ6cnw/p2WmM/fPjwceeGR4xt4jYfjk11cHBMqqNTmTFjhrDHxcWJ2zsMD/z5z3+mhIQEt38XvaTvvvuOfv/99+OO8JdffhE6F154IV1yySXHnSFuk739dwH+fM2nz05PhvXtONvhYODcMNMIBweng1tR1bnh8fTTT6eePXs2G89y1ikpKaE1a9ZQWlqaOIYdjgyO79JLL6UHHnjguN0Z5+s/cuSIuB7cMuM11RmefPLJLp0h7HrVjwrr2wkW/XZyg5FCdcyE9VuvDyeCJXVwIHgOJ3fqqac267mhZ+asdSJ9ZJWeMGECjRgxQrxftYPGxkbKy8s77vjacv11dXXitlp1hnjEvwXXjkYPZwgnDUd4/vnnK+8yz+cLWN8OOz0ZM+mrPSU4NUwu4BEFjgCOAU4BzgkOAreMoC3X/84771BERAQ99NBDLnXQc0SPD4vuH374YcXaRFvqB7fRcHzoreJRHTNELxP/Tvx7zzzzTJHAE8eYOAGt1VdxZweh1n5AsOvz7a1MqOqjl7VhwwZqaGgQjg1ffjQCfMHVnpvjbarW119eXk4ff/wxjRs3Thy706mvr6f8/Hy69tpr6f7771esdvSoH4xLwvmhIF5OPT733HNF3eDvwSGifhz/trd/F3D7NJ4+Oz2ZUNDfv3//8Z6bOsmAHg2+yAiCVZ0bHn3RB95cP25dX331VXryySePZxHxpI/JkOnTpwvHd9999ymv+Lf+1Z6gepuM+sRtMxyhozPEmKHaCwat1VfR6/pVWL8JV/rs9GSCTd/ZueF2FQG++DKqzg0FoSSBuv758+eLa+rfv79iPbE+Aklxq3vddddR3759hS3Q9e84c+zoDDHeqTpDLCXDI+ofEyeOBPr6HWF9O+z0ZIyqj0dn54ZHdWJBdW54P8JDjHL93377LS1evFhMYDhGybdGHz0rOL6//OUvIojZqJ8vAq9VZ6iOGcIZqo5QLTjXOV+eEa7fEbPp80SGjBH0EaALh6Y6N3yJ4ADg3FQHhw8Pz9VlWypGuH6VP/74g8aPH0/x8fEUHR2tWO20Vh8OBWN8N954o7jdDZbPFw4en5s6c4zHrVu3Hu8VqhNF6BniufPyqEBfv1n02enJ+FsfY0eqg9u8ebMYyIezUB2cY0/OEaNcvyPO+gsXLhQzxH/961/bpF9bWyscX/fu3UUAsyN6Xj/QWh8/Uo6OED1DPGLFiuoI8QhniGK06w81fb69ldFLHwuh0cDV21K1wZ911lnCoam9th49ejSLHTPK9au0Vh8zofPmzaPMzEwxG9xWfTTYf/zjH2Ji44477lCs+l2/ir/04djhCNWCtoEeP9qGensMZ4j3o80Y7fqDVZ+dnowW+up+GXBuGNtBA8ZzteHCwanxb463NaFUPxjDwzIzOHGghX5FRQW9//77wundfvvtwqbX9asEUh+z3s5rkNGW8COiOkO1d4iCH4ZQaT8qeuuz05NxtOPW7JVXXqHnn39eTA640kd4iLNzwy+0s3NDMcsyqKKiIhEXiBAVrfXVtbr33HMP3XrrrZrrB0P9Y0mgszNE+0PoDNJTOTpCNZzGlQ7aKXrjf//73xWrf64fGEWfnZ6Masdt6NixY6msrEykQUKM28aNG0XYgurc8Igvoerc1LE3XEOgrz9Q+oixe+utt8QEBn4otNbH9eNLjiVrCGWJiYkRr2mp74ge1++IVvoYB0bwOX6oHZ3h0aNHhRNECI2jM8QPMILFU1JS6Omnn6bU1FSxIiVQ1w8Coc8TGTKwf/HFF5Seni5upzBjiIF4ODmciyVScG6qg8P4CvBGHzjbQbDUD3CnP2fOHNEDw2wr0FpfvX58HpjcUB2f1voqel2/it76mP3G+DF6ho4TKOHh4WLs+F//+pc4ByFBL7/8MnXt2lW8zyjXr7d+y1SjJgMhBVgJMHLkSNq2bZuwIUgW4Ravv/66yP82bNgw8UW7+uqrRcNhmli1apX4IqkOT0/wo4PP6aOPPqLS0lLFyjij3vJiHPSJJ54QQzVTp04VmZrxg42eINr4smXLaMiQISLPIYYmzMLJGRkZ41FJiDFSC8AjPGdb7CioXKPqY7Zx2rRp4kuLXwN0+bGKARMS6PFhfAoDy2atnxPZsULh3//+txgfwuSMand3vrd2FOfrR/ICZF3G38UPEIYY1Nfc6bizowRz/aN4o4/xPNzSIrHCwIEDKTExUdhw+7d27Vrxo47hCcf3hGL92N9hQjBuh1ulp556SnxpERaBhJgvvfSSWFGQnZ0tNmFm3PPBBx+IekO8mT+Bo0OqqkWLFtG6desUK3MiMK6XlZUlxqvh8DAe+OKLL4r2j+EC3PbiVjjUMaXTw63Ru+++Kz7sa665Rtjuuusuuvvuu+mf//ynmJ3t3bu3sDOuWbFihYgxDFQ9WSwWSk5Opvfee098iZnWgbyFmJzz1P537NghbKGK6Zze559/LtaF4gPHBIUjt9xyi4j+xy8eVkowrkFv4L///S89+uijiiUwIPkoZiJxq/vNN98oVsYT3P5N5vQw6P7ZZ5+JD7xz586KtTkYkMdYHn7xsD8D05LCwkLx5TDCRtUY30OPD4PxyN/HuIfbvx3T7Hu7cuVK0W0fNWpUsyVf7vj++++PB8Q638IF4vqBEfQx4I0JIMwEAqNcP2beCwoK6PHHHz9+y6aihT7Q8/qBnvrc/h1AcLIzR48eFcUZb+3ACPoffPCB9MYbb0gHDx5ULK1j69atktxIpDVr1igWO+6ux1s7CKb637dvnzRixAhp586dyivGuv6NGzdKTz31lLRhwwbFYkcrfW/twAj63P6b09I1hhgLFiwQQa3o0jtuSdgacOuEgGXEMxUXFytW84LZWgyEI0DbiCBvHeL4EHeJkCOG278rQtrpYVMaxCE988wzPoefYCkPGgxWbCxfvlyxmg/c1mIvCTWjsVFBanxMbmDJ2qZNmxSrOeH275qQdXpvv/22uNdHPFdbwYA9Gg7imjBraTaQ7w8JBZzz2hkV5ODD5AbiMDH+aEa4/bvn5NGjR49HvBUqSC1Yy4ZH0BY7CnoH/tRHcgCsskDk/qBBg8R7tAB/A3s3YEAYiQmwzAc4Xksw1A+KtzrIyoEe1A033NDMjmLU6+/QoYMIxkUiBAQzqwHUjuejBEP9e6PP7b/JjuJKP6R6epipwYwT1mj+7W9/U6zagYwU+MVDmh8ExZqBr7/+Wizadt6aMRhA4gisLYXj++GHHxRr6MLtv5WEyuyV/EFIWVlZ0pIlS8Sx3syYMUOaNWuWcmSnLdfviLc67uygLfryr6SUnp4ubdq0SRd9FXd2oIX+unXrJPl2V5Idn2JpIhiu350dqPrc/luvHxI9PeTMQhQ5ut8PPvigYtUXxKlhgTNuJeR6VKyhBYKQcUvrHLkfbPTs2VP0fDDGp2bSCSW4/XtH0Ds9TMcjevy2224T+cH8CcZMMHaCBoexlFACCRkQzBropWZacf3119OAAQOE4wultaXc/r0nqJ0exmmQwBK/bur+Cf4GKwAwrY+GFyo5yeRbBRGTFyoOTwV76T722GPC8SF9WLDD7d83gnb2FsGnaLwYqMYtWCBBUCzCOrCQ+/LLLxcDvup1ogSiftTiiz5SNiG/IHoPjnbn81GMeP2e7EifjkSayDKCjMFIoR5M16/auP2f2I7iSj8oe3q49cKMHGKQcNtiBDC7edNNN4kxDqTmDlaw5hIFm3WHKlhL+tBDDwXtZ8Xtv40E2+xVSUmJ9Mwzz0ibN28Wx0bjs88+kzIyMqQdO3YoFv/WjzPe6o8bN0769ttvFYsdLfW9sQM99b/44gspJSVF2r17t2Kx462OOzvg9u/f+nHGlX5Q9fSQFgcR4VgWY9QZRWyQg14SxjiCLScZZmuRnBOznWagT58+FBsbK24Tg6HHx+1fG4LG6SEXGBY9IziyWS6wxSmUslh+XJ5OCWOKyFZvN9OGfErqn0m5k1IoYWA+2WRT0aRc8dhWrNPzqUp57grkJMPMFj54ZKkNBrZs2SIyEAfLUjOtwK0uMgbD8SH0w6i4bf8GxOjtPyicHna/wr4V+MAxEN0SGxUtVtyQsllZ1eoSCh+WSWkZeVQwRu65wBkek88bnUiJqQVUfkw2rc2nzOFJlDTGfly+OJfyx6RQ0qtFVIVd5bYVUfaQJEqZYhVvV4nsZKEzZLdX9Kr83iHpVLBBecEB9JaQu2zmzJlBkdUXs7X4hcYgtNnAhA12DoPjw+oTo3Hi9m88jNz+DT97iy/j9u3bRQW63H5xs5WsNIjSuu6m3bFD6UFli8uIXjfRKR9nUvorWfRh1TUU90AU1RSupA45BZRyYAEV/H4LWf7vDLp10EPU++eVZD0jlmhZEXV47Z+U1lhA2ZVdqWKulXqNf57i9hVQ7o44ujvKrl364Yd01p9stHD1X+ip8XdTRO0fdHEn+164jmAGFLNZCCvADlRIyaT+u9QSiNkr5/OXLFkiniPOy9Gulrbq+2pH8Zc+1ufieOHChWJdKT4v5/MDcf0nbP8Gxqjt39A9Pazvq66uFmMY6gbbraV8TiGdMSKPCq0lVBBdSLnIinOxhaJOkTuDZzVSfXU9lbybQ3mLyqiq0f4eioigSOwXHBlBVLNbflJPVWuKqZSiKeZix76eTOehlDkwnErezqIsq/tMHshJ9uyzz4qF2qtXr1asxgGBuriuUJ6tbS0Y37v55pvFzCjWlwaatrR/o2DE9n8SUixjOYlexVd9ZPbAAmp06X3JBRbdq5Hy+su3pqlJNHT5lRTfR3mhGWdQRFg1la62UhXujuuKKf/1fMqe2UAx/fpQbFQdle5uoKpVxVQd5vQre7iE8maWUlh72VF2iFSMrkHwJj74L7/8UozNOP47A1H/GGfBHr94joHx/v37i/1+nc9rTTFq+2ltcdZHbxehF0jNhGBbxPF98sknzc7xpvh6/fb2v52ObTlG20/bQ/kDkyh3rTqSXE9FoxMoZVIuZQ9MoPSl+EEuotxJmoxYU/50dyPW5VSQmiJ/p+QS35PumOJpZLsJo7V/Q4asyL+0UkFBgWL1H4UTc6RK5bkeHDhwQMrOzpZkR6NYAjNljwX4Xbp0kSZMmCBNmzZNsWqn762OOzsIlP5HH30k6gchGF27dhXJCrTU96TT1P4rpZwROdK64iwp/pGhUl5xnf1EaZmU/ESeVN2A5zukkjUIDymUsoZlSWlPDJCSZ5fJx3VSybSx0tDBQ6U0cVwmt+88KW3EUClroT2cZMfCLGnosGQpx6rqgjJp2YfVUl3pLLvW5GWykhP7C6Xkx3OkMvwT9pdIec8OlYZmzBLH1R/OknJeGCDlrJeVZqcJffXvGaX9G+72Ftle5coRkeb+JrpvHHnus7UNrFPErQrSb3/11VeK1f/U1dWJ29oZM2aI1Rf+XrMZDGBDHMySjh49mrZu3Sp6Kf7AVfs/+/Z4iukdR8m3q3cbcZTzYgQVDL+PYuKyqYQihLX6lCjKeTefYioKqfRwNVGvFMp7bSxFVRWTjaqopNpCOdNmUfT6fCraIvcSy3tT1ktpFLk0i4owcSeoItvmOiopKqbI4VmU1ieCqg8rL4Fj5ZSbWkyxU9MoWu40WScUUFhqFmU9WEMFU2xUt7mcaMB8SgvLpfmHk2nWzDz57+XSArkzapT2bzinh/WR2Fc1EBs4W7pHqZO/uvHpp5+KfGdYAhUo8KUCqGcsH8JGz3/88YewMXbS0tLopZdeOp55GTGM/qBV7X+3lQpsvWnsu8uo5MOhVDezQIRQWSyYaQunsMZ6qq4voYLJeTR/fRUdH7JWhmEwZF2NIevDVVS8plR2jjFkcXRsMrGjMyl6l3zLLDu1kuPD2bitziEak0fx7e2WxlMaqKa0mIp3daTo7pj8scjfI/mhWna6HS3iHPH3asVTQ7R/wzk9ZOjFr8F//vMfsS+DbziPS9god1KR8twDuxdQ7hz5fdvyKX85UfmkXFlJOzATh4BN9B5asw2fXiAEAr0Y+VZDPMcXHGNXTBNxcXGUmZkpFvKjTWIPWISN6E3z9l+mWJ3oFEORq9MpEWNrw3Oopk+c7GpcEBZBZ9SUUvHyKuEU61blU/b0bCpoiKHEW2Mpqr6UqhuraNnqanIesq5alEtF9eEU2bEjRapzKEszKX2T/NpsZVzv7XKKlXuClRUNVFdqJdsxe49TcHsiWeRrzJ8j/739MRR/mXHav2H3vcWv3fz588WaPsyqeUc5WZdGUtwDYWR9PZmK9l9J1CGKZr0QS6XTs6hA/hHtnZpDQ9vLv5jvVVG5rYQi++VTcmM6Jcyz0Njx0dR4xEK2MSlkG5FMvesjaeiw3lS/agGVRA+gOOVXzhuwC/+uXbtEXrdTTz1Vsfp/30/c1q5YsUKkUnfOvaaFPtDz+oG/9ZHNBBMb0dHRdN9999G5554r7Cp6XH/b2r8rMNERRWkZStyVnzFK+xcEaqC4NTo1NTXSyy+/LFmtVsXSWgqlnImVklSUJqXhrUeXSWkZhZL0YbI0dOYOqXpXiZQ1IkeqrMiRknGeVCKNHSe/rh7LjzlFssqIZFlJkpZlJEvz66qlvFFZEoaEvQWD0vn5+cpRc/xZ/xUVFdLIkSOlKVOmSOPHjxf72DrSVn0Vb3Xc2YER9H2tN9CW6/e9/btih9zeW0xJ+AWjtH+Vlq7RQGAXJnT1kVUCoRXeUn9Y9PCJTolECB7RsTBqqJW7+2uqqGOvKBIjEJfZx0EiPGwJGncX4vEKqLrrAIpWbK0FkwX4JUKm2UCCOsSKg6eeekrUaUxMjEj+iB4F455A1ltb239zLBTV3f/BzUZp/44Y2ukBRKEjGh0zaIiW94bwvjFE72aL2LviOtnQJ4YibJXUUF9C1gpS5rwc6GahsNUFZN1rP4yy1NH8t8uJ7kqgyA/LKPIBlyMnLpF/eWjq1KkiqPTJJ59UrIGhtLRU5I/DF+iaa64RNkxeYM0p1kfilpdpiRHqrS3tP5AYqf23wAi3Dyqe7I2NjdKbb74pyY1QsfqPhupPpbEvzG8Zr+SGQ4cOSZMmTZLkRiqO3f27gN71X1hYKFL9VFVVKZbmyF9sKTU1VbLZbD7pB0v7cWUH7vQ/+eSTNtcbCIX27y1Gav+u9IMmczLAdP66devEpsP+TH+0a72NujwcT5ZWrMVHOAi24UPqHySq9PTvQtFz7SEmLNBbwaoWrHt0BcIHOnbsSHl5eWIxO/aLBY46gbp+lEDof/zxxyJyAD2sttQbSii0f28wUvtHcaVv+NtbZ5KSksQsjT93YbLcHkfRrZixlX9VaMqUKaJBPvDAA4o1MCAUBdkt0tPTT5iZA7OScq9FBMYGQ0YYPUG9lZeXi2VTRqy3QLT/1mKk9u+RQHQvvdVxZV+wYIGYTWtoEGtxAs6PP/4ojRkzRlq1apViacLdvwvoUT8ffPCB9MYbb0gHDx5ULK1j69atkvxll9asWaNY7Lj7uyBY24+Ko77W9Qa4/be+/lXcne+tHbjSD7qenoq6C1Nubm7Ad2FCHBcGthHDhdxsgUT+MohtATH4fvbZHqakXYCMGHgflgkhYaWZCLZ64/bvO0Hr9ADSISEPGip8//79itW/bNq0SYQwJCYminCGQILbrF9//dXnzDQAXyR8gb/44gtavhz5uEKfYK03bv++EdROD9x5550i5XcgYs6wLAljK0jTFOhdqbBiAIO02CGrrSA+DA4AA+Ztjw8zNlj1EMz1xu3fe4J231u1QL979+5i7ShiqnCrgWwOeoNZUXxhRo4cKTLt4loCUT/YWR4ND/9m7EugFbim6667TiR//Omnn8S/Eah/Vy2BmH3TQl+tN+QR1DKOzLne0BPTu37M3P492VFc6Qd9T08FO1s98sgjoquv9y5M2JWqqKhIhDQgHXagwLpChAcgfAJrGrUG+2Wg54IswsjiGyqo9YbZ2SeeeEKxaodab7W1tWIDbH9gxvbvM4GYPfFWx50dOOuXlZVJw4cPl+RbDMWiLStWrJDGjh0r7dy5U7E0ocX1g9boyI5IysrKkpYsWSKO9WbGjBnSrFmzlKMmgq39+Lvepk+f3qLeWnOdjrizA7O2f0fc2YEr/ZDp6akgdio5OVmMcX399deKVRuWLl0qNPELFxmpZ7pRz2CrQozh4DbKOVOKXmDtJFJtGzE+rLUEot7UtPz+qjcztP+2EnJODyAnGT6Y999/vw05+ZqDJJI2m03ctgQyFxjGiXALg9AAf2c8xpghxovgODAmFkyYqd5Cuf1rQUg6PXDppZeKEAKr1SqytbaFtsRwaQkWnWPZE3opSG4ZCNT4MDiQQMeHtRYz1lsotn+tCInZW3f6SPZ41VVXiUHXxsZGn1JUz549W/wNhDS0a9eumT5Q/6YvdpTW1k9FRYVIcYReww033CBeCxRRUVEizTzqFRmYzzvvvOPXiRKI+nFnN2K9YXIDEwCY8FCvE0Xr+gml9u+LHcWVfsj29FSw4TC6+r7kJMP+p4cOHTJELjxcC8IDjBIPhYy+CEZFYO/PP/+sWI2FUesNW0xijM8f9RYK7V9rTs7IyBh/zjnniEXMagF4xABsW+woCA8ItD5+UdHokXUEKasR1+SJo0ePit4Bcplh4XQgrx9ZNbBfAhouxmqMBG6hTj/9dBGvhZ4Lxnqcr1/9N/liR/G1/Ri93nCNba03lFBv/22xo7jSt7/DBOCDxxdg7969YiNld6CSMOCM2SksrQkkiIfCrzPGUpCqx4jceuutYjmUP+LDWgvXW0uCsf3rhWmcHkDUOm51ML4xa9YsxdoEcoGhEeLXt1+/foo1MGAneCxex2wZxs2MzI033ijGzFB3GzduVKyBwW29LU6hFMQJL0+nhDFFZFO3NdyQT0n9Myl3UgolDMwnm2wqmpQrHtuKdXq+2IXMHf6ut2Bq/3piKqenMmzYMLEjk2PsVCBiuNyBnG5Y14gv7olyuhkF5FBDT2LmzJkBy8l34nqzUdFixQ0p20VUrS6h8GGZlJaRRwVjemJrV6Jj8nmjEykxtYDKj8mmtfmUOTyJksbYj8sX51L+mBRKerWIqpDfc1sRZQ9JopQpVvF2lchOFjpDdntFr8rvHZJOBRuUFxwIRL0Zvf3rjSmdHsAvLGYd8cuG1DhIfhiIGC5nsDcorge3ZsEWD4WZQlw39nL48ssvFat/aF29RVF83xiKGRgvP7NjGZVLcZvl3l9cDA2dWU1h2OO1OoyiJs6n/F42KvymkaophlImZ9HYrlVULN+JVpVWk+W1PJp1fQnlL62i3Ill1HtCFqW1t1KWw6qzqs02qpMdYvH+OEp+bShd2VijvNKcQNSbUdu/PzDsvreO6KmPNEAY8Ea331VIgz+vH+NQv/32G6WkpPic4sgI7Ny5U2wKg9u3m2++WbG2vX5UnM9vVb3h9pby5P9yKbdrGqUpY/nlb+dT4+Bk6n2K3KObk0iZ7edT7OZcispIoyjxnkyKXp5GVb0TKfZwCZXfnkWWpdlkeWEsRW/IpvTSWyiy/H0Kvz2GzjjWQGFRCRR/vb0bidvkqGeHUsSGMipcXkDWo0Np2QT3e9h6W2+gre0Ta6oxBjpkyJCAt38VvfXbYW0acv07grgXgNkQR7y1A3Sbja6PWCTYBg4cqFia8Nf1z5kzh37//SvatPEeypsWRunxxRQzIZPisW3fsXLKH55F1VExVF9aRlET5C/m8lyyyV/MeEXHV6qm54sNzeOUY63AgPn06dPFF6lv377C1pb6ccTxfHu9/S6We3nEjdOjDbmUOMFGEZ3kDl6NhZJnjqX6t52dXibV396bGhflU/XgMopdcwdZI+LJsqta/ixkJzgvkfKPxZKlopjCx8ynZEVbOL1hUTR/TDlZoqup9FgyzRrlebNtb+oNtLV9vvHGG3TttdeKFFV66AM9rx94qx9yCQeAtzpHjhyRJkyYIH3xxReKpQl/XP9bb70lNkTGJuXJIwqlyoVDpfhH0qTCCvs50tYcaUDGp1IDJOoqpZKKOqly4lgpbeJQacATWdKy/TinUMoZJR+PyBHH1R/OknImD5WGPpsnleD1/SVS3rPyccYsqczhUqo/XCaVSTukwgnya4PTpFnlyguCOmnZ5GRhz1tTJ0m7lkmzJuZJyYMHSFlW7A1XJ5VMS2t6X12JNOvZAcev4cCBA1J2drYk98SEmq/144x6flO9+ZfCiTkStojXi9bWG2hL+5w3b57YXc3d+cAf7d8Zb3Xc2YEr/Zb9QROCSHNMzyNuCms0/QnGcTBrhtsLlah+cRTTe6jcy1MMl6VRbl8bpfe/j2KGyL2NMNw+1VNk31k0f2QDFS+vp5raSIp/LYdyH6mj8jVEdZttFPbILJqVSlQ4x0bWCQUUlppFWQ/WUMGUprlJnFflbtxpcRYVd8ujWbOTiRbkU3m9jcoplvJmp1BDaTHR0kwqOCWZsiYkUM1Muee5ppCKL06hrDGxFFHbKNabYqwKadS/+uorRVQbEBTtXG/+IrpvHOm53F7PelPBLS1i9vRIrWV02OkpYF0kctIhhkn+MVCs+oNbC2S8Xb9+vWJxwTcFVHhGMuUVLaOSmdFUONUqGy1kgVM8K4Iaa6qp0ppFufOsVFkr3iETQZHyLRt1kr+e+6up8ZQGqpEdVfGujhTdPcx+ikrnoZQ5MJxK3padorVSMeLWQFYR326L/CWvlv+Tn12G27NwisASzGNh1FBbSsVrqqhjrygKuyudMntUUdFE2RmW2ucxse4T+f58WQLlCWyHeMJ60wlL9yh18lc39Ko3sG3bNlq0aJEpHR44CYOAuCfWqwSTPgaQkel27ty5x216Xz8aNQbgMaC8dq2b6LAePalxWgIlpaZQ0kgrXfmAq70IwiksrEHu5ZVS2Y8Iy6ikggn5lD+mmCwDYim2TwRVVjRQXamVbMecMuseLqG8maUU1l52lB2a+jAd+8VQw8xsKpieTlZLYstxvz4xFGGrpIb6ErJWyA5yWyHlLq6j8MhI6tg+TMyoVlZWim0SsQ7U1b//RMVd/SOWrKnefM0kUk9FoxMoZVIuZQ9MoPSljgEngcObevO2fWJgH+17wIABYqzL1TmOJZi+v66KK/128q+lhPV5juAFoMVA4r59+8T6P0eMrj9x4kQxkIyoeX9dP241ZsyYQXfffTfFxrqf4WstNgTYajDR4SsYKsBmNVi3qc6otqV+HHE8v231ZqWUgVWUOTOZOoZVUansO3vfTFT0ajYVH4omS+8YSutVTdaaOIq7voasS6sprm84FU3JFU4+6vEsSru6hAreK6FiSqCszlbKXlVNUY/Idvk8X/Cm3oC37ROTdgjpSUhIUKza6oPW2kEg9HkiQ8bZLn+RpBEjRkjbt2/36/XX1NRIL7/8smS1WhWL79RVVEo7lOf+BpML+fn5ylETba0fFefz21JvDbb5UtYTcVLvvkOlHEzWfDhWSoPM0WVSWkahJFXkSDlFOLNSypkoH1eXSCVbG6S6XZ9KYyfYX0+eWCkmm4a+8KlUvWuHNH9EmlTo+p/jEW/rDXjTPpcuXSrl5uYqR01ope+tHQRCn8f0XKDuOfHvf//7+K+IP8BuWhjA9iUjhjPh3aPIojz3J+h14ZbCn5k5fK633VYqsPWmse8uo5IPh1LdzAKxwiIMd/+nRFLz/XUaqRFNwbaMsqYWkNXWNOEjxjkb5SeHq6h4TSlRrxiyHLa/1lr0rjek2MLyPD32Ugk22Om5AWmTMG6EjLH+BJktsCwJiS8xsxssyL+0IrD2rLPO0nR3sdbiU711iqHI1emUmJpCKcNzqKZPHFkQZPxuNuW/nk/FdTjHQlWLMil/UoH9WCY8LIwaNpRQaUVV09rabrEUVV9K1Y1VtGx1NYkJ9lbgj3qrq6sTE3RweFiFYXpCsfvqrY47Oxg3bpz06aefKkd2vNVxZwfurr+xsVF68803RRyV0Tl06JA0adIkSXY24tjbenBnB95+vtrVm3I7qyNtrTfQmvr517/+JX300UduddzZQbB/f13ph3TmZOfzfdHHLyMGl5EDDb0J2LTUd3f9AGEZyAuHzaOxMN2IIFYO2ykihdNDDz10/PrxCJz/Xd7YUbz9fIE29XYqRZwbTh0u0GcPWS3qDeVE9YM7FaxY6d+/vy76bbGjBEKfb29PAMaL1MDlI0eOKFb/kZSUJNYUGnEXMvlXlHJycoRjQbJJI9H2egunqO76jIqi3rDAX+96QwwjHD+P4zkRit1Xb3Xc2YGqj1sQdf9Sb3Xc2UFrr3/BggXS5MmTpYaGBsUSWH788Ufpueeekz744APF0oS7f6+3dtDWz9eI9TZmzBhp1apViqUJb/5dKu7q56effpJSUlKkH374QbFqq++Njjs7CIQ+9/RaCZIqYlMXJKkMBNhNC7PKSAUU6F3IkIoI14G8a9jvwcgYsd7uu+8+kcZJT3BngszMeqzoCHbY6XkBbhOQqBKNNxA88sgjYr8HfHEQwBoINm3aJJJN4pYfM9zBgNnqDVs2It17oLa7NDrs9LwA43twfPgVlW+XFKt/iYuLo969e4svENae+hNkJcYYGdI4GWV3sdZilnr7/PPPxSoVHsdzD8/eerCjOOvjF/SXX34Rs4PR0dHNzvXX9WMmGfsdvPvuu3TZZZeJrBx6U1paKpw9kq1269bt+DUF0+drlHrz9fqd7SiO9YMYRex9gQBnxP05n99WfbXodf1q0Vufe3o+8PDDD4uF2ytXrlQs/qdPnz7itg23bHrvpoU0RNgwGsG/CNgOZvxdb+o2lHrXG8JSsIIIPbyLLrpIsTIuCcXZGW913NmBO33Yn332WamysimdpJb6rdUpKyuT5F92acOGDYpFW1asWCGNHTtW2rlzp2JpTrB+vqi3p556Std6y8zMdKnvzXUCd3ag1s/MmTOlRYsWiefe6rizg2D9fFVc6XNPz0fat28vflWxvAdd6ECBW+zk5GR6++236euvv1as2rB06VKhiZ4KbutDCdQbUjdhrE2vesN6YIwD6w32ecGdx6OPPqpYGE+w02sDCC5F9D9uKwIJZibhmN5///025JZrDiL5bTab2E4x2HZlay2oN6x3DeZ6wy06Eo6aNSGoL7DTayMY38NKDasV2YwDBwbp0bPAdeBL0BYQ8rB7926hd/bZSJEculgslqCtNyQSkG9phcML1R8mPWCnpwG4zUXanu+//16xBIaLL75Y9DDWrFkjbnl8AbuLIYgXOsG8DaU3BGu9YWgFYTjYcoBpPabf9xZooQ+Ht3jxYnGbiRTfjvj7+n/99VcRJoFxK8xUthaMbx09epQee+wxxWLH39fviD/1ta43oNf1o2eK0CmsugiV+lfRW59nb2Xc2YE3+rLTk6ZOnaocNaGVvjd2+cMWWXLfe+89xeIebIGJ9ENz58716u+CUPt8UW9I9/Sf//xHsbjnRPUG9Lj+devWiZlhXGuo1T/wVsedHbjSb+kaGZ+5//77RUYPLFULNGeeeaa41cKWlrgNcgd+CbFKAbOz2CzG7KDe0FvHpttGrLeff/5ZXBfG8XCtjPew09MYrK3E2NDGjRsVS+DA6oNBgwZRY2OjiNR3BjndEKSLwFkkVGDsoN6wgsKI9QaHh1vvYA8SDyTs9DQG43lq/B5m14zAsGHD6NRTTxVjT+iJgpqaGtFTue6660S2FKYlRqs3jDeiZ6nFbnlmhtfeerCj+KKPgFSEsWDxNxaYa63fWjuKqn/NNdeITZ4RloHwBnyRkYUDXyD13LboO9r0uH5Hmz/121JvKFpdP9oSMrWMGDGi2WuhXv9tsaO40ueenk4gqwf24fzwww8VS+DB7CLCM5599lm69957dc/pFiqg3hB399xzzwWk3nbs2CE2AOfMKdpwckZGxvhzzjlHTPeqBeARX9q22FEw4GtW/aioKBHtjyVrF154oeb6J7KjOOtjFUJtba3IMIJxIcdz3em4s6OY5fNF8oB77rlH9PD00HdnP3r0KE2fPl1szo1ep2pXi1nq3xc7iit9+zsYXUDvAL/OGItBTJVRwEY0mGE+dOiQYmE8gb10karp7rvvViz+A2PDV111Fd1www2KhWkr7PR0Bg32zjvvFI7PKCB9OlIsYWE84xlsko2ceEg772+wOgRjUujlMdrBTs8P4LYIg6lYsWEUEFOInbIwSM+45rfffqP33ntPxOH5ew0ynC0nEtAHnr31YEfRSh/7m2IwGrdJHTt2PP5aoK6/Xbt2wr569WqRKUa149FZxxd9PDqfH2z6uLVEQoJbbrmlmd1Zx1d95/NVOzagys/PF872z3/+s+b6rbWjhKI+9/T8BKLn0YhxmxuozWmcufnmm+mPP/4Qt29McxAigjhLb9bgagVSlcHRYuKC0QFeu+dffWTUxZpYlUBf/+bNm6Xnn3/+uM2Vjjs7CMXPd/v27SIb9e7duxWLHa30Pekg+/Fbb72lWOxoqe+NHYSiPvf0/AxmADGFjltdI4DbboSx8KRGE9jX4q9//avf95pYv349lZeX8ziezrDTCwAIY8HaXK3TlPvKAw88IAbNsZjd7CxcuFCsqMHstj9B3asb+3AiAX1hpxcAwsLCRONGI9+3b59iDRzh4eHC8S1btkyxmBPsT4tZU/Ty/A0mTZCFu2vXroqF0QuevfVgR9FLHysisJgdsVjq7KBatNBXS2uvv0uXLsLpOc8uo2ih74sdxV/6yJyCdbX4McIKGlfn63X9+PFDosv77ruvmV0tbdX31Y4Sivrc0wsgWNJ03nnniX0OjAC+dGbt7WEc79ZbbxVLB/3JF198QTt37hTOlvEPvPbWgx1Fb32sjvjkk0/ErxFismBzd763dhRvrh89vC1btog4Mcd1ue7ORwmFzxchOwgjQu5B2Nyd760dxdP1I8FrQUGBSFqKIQbVrpW+3tcfrPr2dzABA7e46vjenj17FGvgwEoNzOTC8ZmBqqoqsd+Ev7NG//7772Icb+DAgeKHj/Ef7PQMALZvxEbNcHyBBtlg7rjjDlOEsGB8B0sDsa62Q4cOitU/4LPu3r073XjjjYqF8Rfs9AwCElPi9hJrPQMNZnKxu9sPP/ygWEIT7FPbuXNnvzueFStWiAF2/NAx/oednoHAbS4SAJSUlCiWwICxEaRCN1ICVK3BOB5ubf29zAzZjxETyRMXgYP3vZUxkj5m8vLy8ig1NbXFWI+/r3/GjBnUo0cP6tWrlzjWWl9Fr+tXcbYjieqUKVPEHhi4rfXX9WNf3alTpwpHi1UwWuur6HX9KsGuz2tvZdzZQSD05Z6A9OqrrypHTWil31qdrVu3ShkZGWJ/VT30VdzZgR76ssMTa6CBP68fe+R+9NFHXuu4s4NgrH9HAqHf0jUyAQfBytjLItCJRy+77DK69tprDbGPr1ZgggYrYvydBbmoqIhOP/10EQvJBBZ2egYF++cijgvBq4EEY3vYx3f37t2KJXjB5Azq099ZkLHGmhMJGAd2egYGg92YYfzxxx8Vi/9BxmDE7gV7bw8bd2NmHA4PexP7i71794p4PDg8TiRgDHjtrQc7SiD18eVEwSxq7969RcJP2J119L7+Sy65hFatWiW+tMhA4vhasNQ/HA9WvCA0yPE1va8fGZCxXUDPnj2P27TUD5b6d2VHCYQ+9/QMzk033SSSAQR6fA9jUcHa28PtOWZs/b3BDnqW+JGAo2WMA6+99WBHMYI+0oYjoBU9PThArfVbY0fgNDadhvNA4lH1NaPXP5b2Yd/YkSNH0vnnn3/crha9rh+OFjF5GJtFb121o7g63xc7itHr35MdJRD69ncwhgfje8i2DMcTKNSAZSPt4Xsi0Nt67LHHxGy4v9i+fbvY5B3jeNiAiTEW7PSCBAQqY1E8JjYwhhEIcKvWt2/foFmXW1hYKHLjIWWUv1ATCcDh+dPRMq2HnV4QgckMpHzClypQYF3u1q1byWazKRZjghCRsrIyv4en4LPBBu/4rBhjwrO3HuwoRtNHksvi4mKxETVmIz2dj6L19UuSJGZxV65cKRbqG7H+Dx48KLIgo2eMsUit9d3ZMe6KMcQnn3zy+GtGrJ/W2lFCUZ97ekEIvsxLliwRyQkCwQ033CBWFwQ6cNodyIKMWW/0uPwFAp85kUCQwGv3glP/q6++kl566SWpsbHR7flAr+vfsWOHJN8lSFVVVYqlCW90gDs78Pb6ly9fLk2ePFmx2NFS35V9//79Unp6urRhwwbF0oRR248j7uwgFPW5pxekoLeFJJSBSjxqsVhE9hXc5hoFzGxjksXfWZDxGWDLSKxTZowPO70gpl+/fiKtO/bYCASY1MC2iVgjbATUTboxy+wvkHn5tNNOo7i4OMXCGB12ekEOxpCwxwM29PE3yFOGbCVGCGFBPB4mdvw5a7p+/XoxQ8zjeMEFz956sKMYXR8zqdhJC4HLuOU9+eSTj7+Govf1YwvLdevWiWj4yMhIYdNSvzXX/9VXX4lrQFJQFU/nOxZf6weztFhXO3ToULf75KIYvf14sqOEoj739EKA6667TownBWp9biCzsGBZnHpbC4fvLzCO99BDD1HXrl0VCxMs8NpbD3aUYNFH+nHsrYEYNcc9a/1x/djNDeN61dXV1K1bN7fne2tHOdH1z549W8QLqre1qt3d+Y52FF/qB0vMzjrrLIqPj29m10pf7+s3u779HUxIgLElzKZWVlYqFv+BSQ2M7WHTbH+xbNky0bu79957FYv+IDYRDp4TggYv7PRCCIwtwfHh1gtjGf4EG+wgIYG/JjU2b94sVqb4MzwFITELFy7kRAJBDju9EAPJKv/yl78EJH4POfeQ5RmrE/TkyJEjYhwP62ojIiIUq74gkQDqFD8qnEgguGGnF4I8/PDDwjEglMXf4DZX70kNODwsMbv++usVi/6oiQT8vTE4oz28761MKOojaBl7rMIJRUdHK1Y7WuiruLr+goICMZmCVQqOaKGP0BSEqIwaNUq363c+f/Xq1SKzTFJSkjjWWl9Fr+tXYX0FXrsXuvpYC5qcnCzJDlCx2PFWx50duLr+7du3S6mpqdLhw4elY8eOKda26+/Zs0caMWKEhB9qb3Raq6/ieH5FRYVYY1xbW+tWx50dBHP7AaGo39I1MiEDYvcCMb6HjYQQQoIsy5MmTRKJR30Fvbo333xTPEcC1UcffVSsvPAH6C3jtnbgwIEi1TwTGrDTC3HUTa39uVQMkxmI3YOTQl47zOz6ynfffSc0sMwMe03ExsYqr+gPHB42XudEAqEFOz0TgBnHtWvXCgfiD+AsEEqCXtquXbvEki1fgQNFyc7OFr0t5KzzB//9739FIgHMSDOhBa+99WBHCQV9hHUg8wicEUJaTj31VJfna3X9SOCJiQykbK+urhbxg4MHD/ZJf/LkyVRVVSWCnuG4sfk4el+uztfq+uGsP//8cxoxYkSztcxa6Xurw/q+2VFc6XNPzyQg9x42yMEtpz+48847RW8pIyODjh49KsbHvvzyS3rnnXfo1VdfpWeffVZsy4hZ2HHjxlFeXp4IdYGDU8HMW01NDXXu3Fk4oI8//li8V0/gpFFH6KkimQMTerTD7Ab2EXAEnhNgLZsj3toBGi3rG0cfe8Ci14fVE3roA/X8jRs3CseHYOULL7xQJEbA2lxMdCA7S1hYmNjL99dffxXOBunv8R484tayR48eIl8fHKNj2I231+nN9b/xxhuiN4wNuvXQB3peP2D9Jlzpc0/PZGB87+uvvxa3nnqB22hsjrNq1SoaNGiQ2IoRM7CwIbgXDhAOD+D2EQ4Qgb/IWoJe39y5c8XkBZwzeolY4I+xQb1Blhqkx4LDY0IXdnomA2NiuHXDLRzSMmmJusE1slogTOa5554Ts7i+gHFHhKeoDvS1114Teg0NDcoZ2oIxPE4kYA7Y6ZkQpKHCmJtW8Xu7d+8WExVIawUnlZCQoLyiDbglxm05cuY9/fTTtGjRIuUVbdi+fftxh82JBEKfdohyv+CCC5RDO1reU+/bt49Y35j6c+bMETOrjzzyiDj2Rf/dd98V6ZZef/11cWvoDzCji15Zbm6uYrHjy/XDYSMnH+IZ1XW13up40uf2aTx97umZmMTERDG2h8kCX8A4HXpJmJH1l8MDo0ePFkkVkKq9sbFRsfoG0uyj58uJBEyEq7Vp7tayeWsHrG9sfZvNJj3zzDPS3r173eq4smdnZ0tTp05VjgLD5s2bpb/97W/SoUOHxLE31w+wR+4rr7yiHDXhrY47O+D2aTx97umZHIyXYftCb8b3/vWvf4kJEYSSBJIrrriCxo8fL+L9vGXTpk1idhmTJYy5YKfHiPEszLgitOREIO7ul19+CbjDU8HscGpqarOd0E6EmkgAExcIl2HMBTs9RoD4vYqKChHD5w4M+i9ZsoQmTJigWIwBkonedtttx7OxnAg4POT6Q/AzYz547a0HO4pZ9JGAEZHrSACKrCJYguV8PiYQMEuLW1ujcc0114gJFaz2QFYX9dodrx8UFRWJWL/HHntM2Lj9mE+fe3rMcS677DKRaRkrExBzh94QloUBzHIikYA/Z2m9Bbn7pkyZohy15JtvvqGysjLRq2VMDM/+sL6Kap89e7Y0ePBgqX379tLatWuFLTExUTnL2Mi3uNJHH32kHEnSypUrRQbpnTt3SqNGjZK2bNmivGKH24/59LmnxzSjX79+YnYWeeuwTA3jeBgDUwOYjU5KSopYXaGSlpYmMjhjdhqxfUh5xZgbdnpMM5A0E2N7SOsEsCYVDlDrpWV6cvXVV4sNhJCDT/5hpxkzZog9a5F5+cCBA8pZjFlhp8c0A4v7kbcO2ywilOWzzz4TTiSYwJ4WGJdEZhaEpyBzM3qrGMvDwDZjbtjpMS5BQoIVK1aIx2AL4EVKKuTo27Jli7hF79Wrl5jgQI8Vs7uMueF9b2VY344rOzIcY1OeYAN7/tbV1YmenbqbmR71A/Ssf8D6drTS59lbGXd2YGb9gwcPSikpKcpRcIEZW7l3J567+/cCbj/m02/pGhlGQXYcIsV7MIIAa6yvZRhn2OkxbsGYGBISBCu///678oxhmmCnx7gFMXrBPPDvaoyHYU7CICDWrulVWN9zMbI+sqkEcxYS7LPh6t/lWLj9eC6hqM8/hYxbcHuo7loWjGCnNYZxRr4DOEnkltersL7nYnR97EsbrEiS5PLf5Fi4/XguoajPPT3GLUgsiiDfYOXo0aPKM4Zpgp0e4xaswa2urlaOgg+M3zCMM+z0GLd06dKFtm3bphwFH7i1YRhnOHOyBzuKmfUx/vHJJ5/QrbfeKmzBBHqoNptNXLte9XMiOwrrG0+ffwoZt1gslqDt6ZWUlNBf/vIX5YhhHAjFtXXe6rizA7PrJyUlSUeOHFGOgoenn376hPvhAm4/5tPnnh7jkXvvvVfsgBZs/Pbbb3TWWWcpRwzTBDs9xiPImPzRRx8pR8EB0sPfddddyhHDNIedHnNCkJRz8+bNypHxwablvOMZ4w6evfVgR2H9/6NLL72UJk+eTPfff794zcisXbtWJI7s3bv38evXu35Y3zc7SiD0uafHnJBOnTqJ8bHy8nLFYlxmzpwpdkBjGHe0w+wGIu8dgecEiNNyxFs7qKmpEZH9jrB+E8Gi39DQILZXnDt3rmI1Hu+8845YKzx06FDFYscf9QNYPzj0uafHtArcImB7SGywY0R++uknsXPboEGDFAvDuIadHtNq+vfvL7ZVLC4uVizGYdy4cfSPf/xDOWIY97DTY7wCExq4xTXSbO5TTz1FSUlJ1L59e8US7BRRSodEWlBrP1qckkqL7U8ZDWCnx3jNjBkzKDs7m7Zv365YAsfo0aPFpuS33HKLYgkRbj+DSl5aQPXKoWBDAaUPSaKU14uoyj6MxfgA73srw/p2vLFDNzMzUzgdbKYdCNC7i4mJobi4OHFspPpR8U3/Y3rxeaLnb1pL//j9eYpZ/zrR60/S7ldKKO6VwXRJ8Sv04q/P0muPnBO07UclEPq89lbGnR2wvmf9J554Qpo3b55y5B9+/PFH6W9/+5v0+eefKxY7vly/Meu/UEoeUSg/1kmFI5Klxx8dIS08ulJKexY2mfIsKXnyDvGU26f3+i1dI8N4wcSJE8UGQk8//TQdPHhQseoHwlJefvllmjRpUujd0rYgnOInxFKYCI+8nRItxZQ+vYCyZ9ZRzCMWcQbjPez0mDbzzDPPUGpqqih5eXmKVVuw0kINR5k1a1YITVq4Ip7ypsXbn7aPp5mbp9Ij8tPoUXmUM2IojZ2WQwM6219mvIedHqMJV155peiFIQeffMsreoB79+5VXvUdJA+As4PTmz17Nj355JPKKwzjG+327NkjXXDBBcqhHS0jovft20esbz799evX08KFC8XGQpjowK3otddeq5zhnurqapEAFBmbMQiNRKC4dXbEH9cPWD809dnpyQSL/pEjR0TBbNXRo0ePl8bGRvEoSZJ4r2Opra2ls88+WyzPwjEeca66tSMeoadqqjNhqk3VxPN27dqJY9WOcujQITE7ph4DaOI5ZtPwKLcxsWICPT+8Brta8Lp6DTjGDmwXX3yx2J/j9NNPF44P14+/rRa8B4+oH7wHz/EI8IhNvvGIou59i8fTTjtNPKLgvXjEgnTcKuMYBe+FHh6x5y8e8T5VE8+xOsUR1A9w/rwAt3/j6fPaW5lA6OOLC4exY8cO8SXClw9fcCS/hB2P2Gwba15R4NhUGxyf+iWGY4AunqtfUscCTccvNQq+1M5OAAWoX2zVaaCoDgx6qoPBIwqcKlJP4TnAI5wYHtW/pQI7gF3F0QHjGvC3gPqIRovrx7FaVOeM68CjWlS7eg2qM0V9qZ8BbHiuFlw/kingvTjGo/ojgnPVHxoU1Y7PC/WOotY5HuH88ZpjwWcHJ47X1IL6BY71ANRrbK0d8PfLe312ejL+0q+oqBB66PHgy4wv3P79+0UWk4iICAoPD6dzzz1XfAnRu8ExnqPgy6I6pkBdP+vb7XC2+PGBE4RTww8WnsMx4ocJNvUHDLfr+Nxwjlrg9PD54rNGQe9W/azx2KFDh2a9E62vX+/6Mbo+Oz0ZvfV/+OEHkX0Yjq5Hjx7UvXt3uuKKK0QPgevHfPpwmBjrhAOsr68Xpa6uTvwIIvwHz+E44fzQi8b7O3fuTN26dRM9Ske4/r3XZ6cno6f+xo0b6a233hKL9W+77TbF2oTZ6wewvh1nO5wgxkJRqqqqxM50+LGMjo6mG264QThArn/v9XkiQ0YvfQzgIxUTQjiuuuoqzfVV9Lp+Fda3E2h9jFViiKSsrEwkdFVnxC+//HLxuoqv+npfv1H0OU5PRxYvXkx9+/YVDo9h2grGBjE8MmTIEHr11VfFlxzptJYvX66cwbQGvr2V0UN/zZo1tG7dOkpPT9dF3xHWt2NG/U2bNtGXX34pZvxxR4ExQC31Q7H+uaenAwiTWLVqFT388MOKhWH0AeE8yCeIHiBWwWzZskV5hXEHOz0dQC8Pv7iXXXaZYmEYfbnzzjspMTGR/vWvf7HjOwHs9HQA60R5s2nG3/Ts2VNsilRQUCAG8BnX8L63Huwo3uojRGXr1q304IMPNrPj0fl8FLPVjzd2FNb3Th/jV3jE2uUbb7zxuB0lGK4fRW997ulpzLfffiuy+TJMoLjjjjvozDPPpBUrVigWphmYvXXmqJcZSt3ZgZn0Dxw4ID311FPSkSNHFIsdrfS9tQPWN6f+7t27pREjRkh1dXWKVVt9b3Tc2UEg9LmnpyG4tb3mmmvE8jKGCSSYSLv99tvFbS7THHZ6GgKnd9111ylHDBNYYmNj6YsvvhCJEJgm2OlpBIJDsUQIM2gMYwTOP/98sRro66+/ViwMYKenETabTWRPccwfxzCBBnceGzZsUI4YwPveymih//7774tkkQgT0EMf6Hn9gPXthJI+bm3HjRsnNmdX36+lviN6XL8jWunz7K2MOztorf6YMWOk/fv366YPvLUD1mf9iRMnSpWVlW513NlBKNZPS9fIeI2a8h1ZbxnGaGCHOuTkY+yw09MAZEaOiopSjhjGWGA7AuR2ZOyw09MALDtDKm+GMSJYmsZrcZvgtbce7Cgn0j969Ci999579Nhjj4mdulS7u/Md7SihXj9tsaOwftv1EVHw8ccfi2BlR7tajH79vtpRXOlzT6+NYO8CbOCibuvHMEYDO68hjhRfeEbu6WVkZIzHFnSY7lULwCMykbbFjoIp41DWR4IBbN2H5WeOdnfnO9pRQr1+2mJHYX1t9FevXk0333yz2ExID31f7CiB0Le/g/EZ9PQ4WShjdHAnwsvR7LDTayMIV2GnxxgdbCr0xx9/KEfmhp1eG6hWdq/HLvUMwwQHPHvrwY7iSb+yspIaGxvF5suOdmcdX/Wdz2d9z+ezvvvzsVEVlkiefvrpzewowXD9vthRXOlzT68N7Ny5U0S7M4zRwXgeRxjY4dlbD3YUV/pYvF1fXy+cHlLDIw4KM7judNzZUUKxftyd760dhfV910e7fP3118U2kdiDuU+fPlRaWkpXXHGFy/ONdv166dvfwXgFfjWffvppseuU/KNBDz30EEe8M4YD481IK/XAAw+Q1WqlW265hXJycpRXzQs7PR+45557xCP2F8Uv5/jx4+mCCy4QNoYxEqmpqWJcCwkH0PObNGmS8op5YafnA1hne8kll4gdp15++WXe45YxLJi8QHtFWx0yZMjxIHoz027Pnj2Scy8FsyEA98iOeGsHuO0LRf24uDgxVvLvf/9bjBOodhAM1w9Y3xz6r7zyCi1evFhsEoT0Z1rrq+h1/Spa6QeN00tJSTnuXBxxNSuFhf/AOXW7t3bgTr+hoUE8OmZl1VIfeHv9o0ePpq5du4rnKqHYaI2uDweDEBEQqPYJ1PN//fVXEZgcEREhjrXWV/HGjr07kpOTA/L5tkNmUaSecUTLP1pTUyNS2zjii/7IkSMpPT1dsTDO5ObmUlpaGl1++eWKxY5W9Q/0/HxBqOgXFRWJ/HXq2C/TnE2bNon6GTVqVEA+36BJFz9s2DBpy5YtioVxZvjw4S7rJ1g+X1d2EIz6hYWF0tSpU5UjxhnH+gnE58sTGQzDmAp2egzDmAp2egzDmIqg2ff2xRdfFMV5oJ6xk5SUJOKwunTpoljsaFX/QM/PF4SKPlY/ICAYgcFMSzDRs3nzZtFeA/H58kRGiMATGcbR54kMz/BEBsMwjB9hp8cwjKlgp8cwjKk4CYOAiGjWq2ilL9+KK5fMuAL1g6VGzvUWLJ+vuxKM+rwXxYlR6z0Qny/39BiGMRUnYZoXa9b0Klrpu1oMzTSB+kHSSOd6C5bP110JRn18Doxn1HoPxOfLPT2GYUwFOz2GYUyFaZyebVIC3TEkhVJSkyihfyZZa2XjtnzKX25/3T1FlDvJpjw/EeVUkCr/jf4xFNMff6tAtjCMF2zKpYS7k+S2k0JJ/RMoc3m9bLRS/vQq++tu8aadymePjKEEtFWUV61Uo9iPI19H7mLleYhhotnbSIobnUd5U2dR4cRIKppaShRmIUsHovqvCih9YCKlTLFSveymiiblU/rIJMpe5NDQtsmNSnaYiSNzhcOsX15ART/iBRsteE91bdE0dKr8Nx7vST0fx98aSrQ4l7KHp9OC9VayfoNzasi6FOfXU+n0dEoakk4FG2BvGzx761vRQ7+ts7eRd6XJbSePZi3MocjFOVQqt11LpzNa106PVcl22WEOTKFc2WG6bqegJyWiraKMi6OOTu9TqVqcLbfRJEqfY39v1SL5eHjzc3xBrfdAfL7mvL3tHElhtdWy37GRbRdRSVExRQ7PorQ+EVR9uIpKqi2UM20WRa/PpyJ7fkKqqY2k+NdyKPeROipfQxQe1UjF8+SGsGo+lZD7vW+rVldR1LQcGnCG/W8R1ZFts9xIl2ZSwSnJlDUhgWpm5spNkmGcsVDkKfVUTVVym6lrVTul2hqKfCSHcl6Lp7pvij2002LKiU+gBLmkzJPbo9P77MiOcFU1xaVm0dCujVSzTf4BL+9NWS+lUeTSrKa/GWScFIjZE1+KprO3m6qoLrKpAcSOzqToXXJPbkIBlcg/YBEdIoU9MoKoWun3V1qzKHeelSpxWww6J1DU/kLKlR1gXL9wxeiCiy0U1SyhayM1orEcC6OG2lIqXlNFHXtFUZj9RZ/h2Vvfih762s3e2qjqsNzLU45a007JtoyyphaQ1aYY3LbTWEovKqRCueQ9If8F5/cJLDT0xaEUXlpAWROXUWWjbJKdbfEa+S6pVwxZDtvP8gW13gPx+Zqop1dN1snKmN5LdZQ4Ilqxo8ueS0X14RTZsSNFniX3xVblU/b0bCpoiKHETspJFE5hYQ1yL6+Uyn7E7URHSuxdQ/MbYyiuZZbqlnSyyH8nk/InFVBxnXzcJ4YibJXUUF9C1gq5AdvPYhiqXpVrH9OLz6S6x5NJbamta6dySw2Tf1A3lFBpRZXcV2t9O23+PlBPJTPzqTQsnCI6RlJkt1iKqi+l6sYqWra6mmRzcBIsWSz8l2WlUMqZWKk890BDnVQ5M03KWq8cBxjOsmIcff9kWQnOdgo4y4rhiKa4vvbbBo/I3fyqy5Jp7PXKMcP4FW6nvsJrb1tgoajurei3t5cb3e3uJzD8DeqHZ2+9L3ro+2ftbXC2UxW13gPx+XJPj2EYU3FSIGZPfCm89tYzPHvrW9FDn9fenhi13gPx+XJPj2EYU8FOj2EYU8FOj2EYU8FOj2EYU8H73oYIvO+tcfR531vP8L63Dniy8763nuEVGcbR531vPcMrMhiGYfwIOz2GYUwFOz2GYUwFr70NEVA/vPbW+6KHvn/W3gY3ar0H4vNtt2fPHumCCy5QLsUOXgBYsuGIt3awb98+0kJ/1KhRLmdn0MCcl/2oDtJ56Zq3dhAs+iijR4+mrl27KlY7WtU/0PPzBaGiv3jxYvrkk0/EcyO0n927d1NkZOTx74/W+ire2K+88kpKTk4OyOfbDrMbHTt2VA7taPlHa2pqSAv9rVu3tqh8UFtbS+3bt1eO7OCDAs7ne2sHwabvHNKjVf0DPT9fECr6P/zwg3gEgW4/a9eupQ0bNlBiYiKdc845x+2OtEXfEW/taKuB+HyDxumBQOuXl5fTxo0bRQMCWuur6HX9KqzfRCjro7e5bt06SklJofPPP19zfb2vXy99nsjwgujoaBF0+sEHHygWhjEmK1asoK+//loMC8HhMU2w0/OSp556in766SdatmyZYmEYY/Hxxx/TN998I3p45513nmJlVE4ePXr0+DPOOEPMcqgF3UU8grbYUdAzCiV9EBUVJQarMVbx5z//+fhrwXD9KKzfVEJNHz/GcHhPP/00RURENDs3GK4fRW997un5wNlnny3Wuq5atUqMmTCMEVi+fLkYdx4xYgSFhwfrVmV+IBBr37zVcWcHgdTfsWOHNGrUKGnDhg3N7M64swOuf9ZX8dYOVP2PPvpIysrKkurr673WcWcHoVj/3NNrAxaLRYzxzZgxQ4TUMEwgkB0efffdd2IM79xzz1WsjDvY6bWRq666igYPHiwc3549exQrw/gHDLEgjIodXuthp6cBvXr1ogcffJBmzpxJdXV1ipVh9GXp0qUiLx3CUtTAY+bEBM0yNGB0fSSPxG3Gs88+S2FhYYo1eK6f9e0Egz4cns1mo379+olhFke00FcJxfrnnp6G3H333WJpzdtvv61YGEZ7PvzwQ+HwRo4c2TIrMHNCeBmajNb6//nPf6ihoYGGDRsmjrXW1/v6Wd+4+v/9739py5YtYgwPDo/rx3t97unpwN/+9jfx+O9//1s8MowWwOEhmQHG8LiH5zvs9HQCvbxffvlFbILCMG0FDg9hUejhnXnmmYqV8QV2ejqCGD7cimDxN8P4CpY8bt++nR2eRrDT0xHM4GINZGlpKa1Zs0axMkzrKSwspKqqKpFwE2tImbYTNPvegmDV//nnn0UM38MPP0w9evRQrHa4flhfxdmO5AG7du2iQYMG0emnn665vope169iNH1eeyvjzg600rfZbNKIESOkTZs2KVY7XD+sr+JoX7RokZSbmys1Nja6PR9w/Xuv39I1Mrpw2WWXHV+ni9sVhnGH7PBo586dYgwPPTxGW9jp+ZFrr72WBgwYQG+99Rbt3btXsTJME8jKjY18EJZy2mmnKVZGS9jp+Zkbb7yR7rnnHuH4Dh48qFgZxt7Dw/gvHN6pp56qWBmt4bW3MoHQxyA1Fos//vjjdOGFFypWO1roq3D9B4f+woULhcPDbL/jum0QDNcPgkWfe3oB4r777hOp5nnVBgOHh+EOZDx29cVltIXX3soEUn/q1Kl01lln0ZAhQxSLtvpc/8bWxzpt9EYwaaGGXmip74ge1+9IsOhzTy/A9O/fn37//XfR+Blz8d5779H+/fvFGJ6rGDNGH7imDQBCWZB1GSmDGHOAHzmszUYPr127doqV8Qfs9AwAfuUxgI0EpNiVnglt0MM7cOAAO7wAwfveerCj+Esf4xHdunUTXwiEK1x00UUtzjfy9TvaWL+pOOtj4goOD7175/OD4fpRgl2fQ1ZkjKSPSPzJkyfTE088Qdddd51itRMM1w8cz//pp59EQTgGBpXr6+vFesjGxkaxWTp6OnDyyB6CzanPP/98ioyMpIsvvlikQce5ofL5zp8/X8RmqslltdZX0ev6VYJdn2dvZYymv2nTJjGrm5aWRldccYViNf71f/vtt/TVV1/Rhg0bhFPDEqrOnTuL0qlTJ/rTn/5E5513ntgsHbFo6uD9kSNHhHODQ8TAPhwknD/SKdXW1gqnCI0bbriBYmJiji8g1/r6VfSon3nz5tGhQ4dEinc99B1h/SZc6bPTkzGifllZmRjs/vvf/06XXHLJcTswyvVjIB6349hVH7cNPXv2FE7JuYeqBcg2AoeKFF3YcQ5rmR944AHxN1WMVj8A+itXrhROHXF4QGv9UGz/QC99nsgwKPgyx8fHiwQF6O0YCQTTIq5w/PjxoidaUFBAc+bMEaEXejg8gNtd7PyFHjB6TVjD/Nlnn9HAgQMpOztb3EIbESwt++233447PCbwsNMzMDfffDPdeuutwvHhixNI0KubMGECPfnkk+IXdfbs2fTmm2/SXXfdpZzhX7p27UqjR4+md999V+w5jGvB5ICRkrXOnTtXbBCFmXnGOPBEhozR9RG/p2bPBVrrq7iy//rrrzRx4sTjIRbIFGNUjh49KpwfdvxHD/CWW24Rdj3rB7iywxkj6Pyhhx4K+fapEiz63NMLAtCTwSTArFmzFIt/mDZtGmVkZIjd3bCXr5EdHsCEB3p/77zzDn399ddi0gBjgf4GPTxMzqiztIzBCETmUm913NmBmfTl21xpzpw5ylETWumr9rKyMmnQoEHSkiVLlFeCk59//lmSHY+Ul5enaf0442iXb/ulmTNniufATO3TWzsIhD739IIITB7gdhOJJvUCef7UiQn0MIMZxPthbxLE/2FcTe/8hRjnROwh9/CMDTu9IGP48OEifs1qtSoW7XjmmWdEDJzcMwqp5VGY6X3xxRcpNTVVhNfoAX4kELaTlJSkWBijwk4vyMC4FXotGLNavXq1Ym07Q4cOpccee4wGDx6sWEKLLl26iLG+/Px8zdc3o4cH2OEFB+z0gpBzzz1XhGcsX76c1q1bp1h9B7fN6OWps52hDCaDMDywatUqxdI2oIdecaj+WIQivO+tTLDqIyAXMXyJiYkUFRXlk/7zzz+va1CxUYGTwqw0lrf5Wv9YS3vyySeLnIjAl/p3xFs7YH3v9Xn2VsadHRhdv6KiQuynu3nzZsXSHE/6mZmZ0kcffaRYzcfAgQOlHTt2KEdNuKpn4GjHTDpmaoG78wG3f+Ppt3SNTFDRvXt3kZEFcXRYqN9acGuMlDvYq8OsYHIDq0y8BTPC2J6Rb2mDE3Z6IUCvXr2ob9++4lYXmUpaA9aE4ktvZrBuGGucvQkBwo8LssdgOR4TnLDTCxGwRhepl+D4sBrAE2+88QbHkilgPLO1afrRw0NKrEGDBikWJhjhzMke7CjBpI9F+EilU1xcTNdff72wOesjzx2y9yJmjbGDAfAvv/ySrrnmmmb1CdR6mz59unB4iPlztKP46/N1tqOwvvf63NMLMZCOKjw8/HjsmDOIVcOsJdMEkgIgTZU7sEoFM4CYJWeCn5MzMjLGn3POOeLXTi0Aj8ha0BY7CqaMWd+/+j169KBvvvmGtm3bJoJyi4qKRHjLVVddJbKQICMz05wffvhBLFfD0jX0lBELic8FDg/PkbUFONazWtzZUbh9Gk/f/g4m5EDwMnbNxywten0IxkV6KOxBwbQEs9grVqwQWZlx64+d6bB6A18Y7hmHFuz0Qpj777+f3n//fdqyZYvIMVdSUkI33XST8irjyNVXX03ff/+9WJuLHwsEbUuSxA4vBGGnF6LAyWEPCYxVIZEiJjjwHF9uf1M0MoYSUlMoRZQC8rTkv2hSLtmU5/4GA+LLli0TYT/4oZgyZcrx1RZM6MCZk2VCVR+3aIhBwxcZY3pweLiFa7EsR2eKRqYQTcujeOWYZLdXNKmYymxlVN8nnfIGR1P5nBTKX2Oh8I5EQ19LoyjlTH8CB4eeHlLzY3kaesqXXnqpmBwCRvt8Aet7r889vRAGmY4Rh4YeHiYw2rdv73eHZ6eYcuITKAEldQFVyf8VV1koa3Y+xVQVk21TLs0/nEazZseTpVF5SwDA+B1yCOKHAjuYIWu06vCY0OEkzGbAQ+pVWN9z8Yc+9prF7CP2nlV/Ff1LLKUXFVIhytQBZJEtFgv6cuEUdrb8cLhOfhoBK0V2kB8CBLKl5ObmihUuWHXhqj69Ldw+PZdA6HNPz0Sgp4fuvv8po/nHx/SyybpbMatcn0CW0izKn55JBRWKLQCcaCULExqw0zMR2CAb8Wj+Jn5aidzDy6M8UcZSXKd4Ssuwj9rFZ6RR1CnRlDwth5JHZNGyBYEZzwOYrWVCH3Z6JgKL65FxmWkJYhg7dAjgvTXjN3j2VsZM+siSjD1Zmea89957YpInLi5O1/oHrN9EIPS5p2cy0JvZvdt5UI1BKA8cHhP68NpbD3aUUNPH2lKkOb/tttvE+xiiHTt2UGVlJd17772ijgAe9ah/FHfne2tHYX3v9e3vYEwD0ift3LlTNAbGzuTJkyk5OVk5YkIddnomBF/w8ePHK0fmBtlozj77bLECgzEH7PRMCFZqYI+Hzz//XLGYF6yvffXVV5Ujxgyw0zMpr7zyikg5hXWmZiUzM5MefvhhMRbEmAfe91bGrPoY25s2bZopQ1iwSTcyzzz++OPcfkymz/veyrizg1DX/+yzz6Thw4eL52bhgw8+kDIyMsRzbj/m02/pGhlTgV3UkElEdnyKJbRBEDKSqU6cOFGxMGaDnR5D99xzj9jWEHu5tnbf3GAEoSlbt24VmVQY88JOjxEgjfzLL79Mf//732n16tWKNTSQb31ETxarUV566SXFypgVXnsrw/p2VDtCODAoHAqhHFarVewT8swzz4jAbGe4/ZhPn3t6TAsQzhIbGytueRcvXqxYg4tdu3aJ3h02+5kxYwZdeeWVyiuM2WmH2Y2OHTsqh3a09LQIC2D94NWHwygtLRWZl+EIjU5tba0Ys/v111/pxRdfbJYtWo/6AaxvJ1j0uafHeAT75yKmDburoee3aNEi5RVjUVFRIfarHTt2LCUmJor4Qzg8hnGGnR7TKlJSUmju3Lkiu/DgwYPphRdeoLKyMuXVwICNud9++23hjJcsWULp6elig+7u3bsrZzBMS9jpMV6BbRLnzJkjeoDYZW3AgAGUlpZGy5cvp4aGBuUs/cC2lgg9we02ZpuRAh/OGEvKLrzwQuUshnEPz97KsL4dX/WxixjCXNauXUuHDh0SWUuQ1OCqq66iyy+/vMXfbw2NjY20bds2kecOt67Yt/fkk08We/civAb6Wl0/f77m0menJ8P6drTSh+PbtGmTcFooGEzGTmO4NUYoDHTgwPAc6yb/+OMPUfAc5+B1JH7s0qWLGITu3bs3XXTRRYq6/tfP+k2Eoj7P3sqwvh3Wt8P6TYSiPo/pMQxjKtjpMQxjKtjpMQxjKngiQ4b17bC+HdZvIhT1uafHMIyp4NlbGda3w/p2WL+JUNTnnh7DMKaCnR7DMKaCnR7DMKaCnR7DMKaC972VYX07rG+H9ZsIRX2evZVhfTusb4f1mwhF/ZaukWEYJoRhp8cwjKlgp8cwjKngtbcyrG+H9e2wfhOhqM89PYZhTAXP3sqwvh3Wt8P6TYSiPvf0GIYxFez0GIYxFez0GIYxFTx7K8P6dljfDus3EYr63NNjGMZEEP1/B7xJ//Dgr0AAAAAASUVORK5CYII=)"
      ]
    },
    {
      "cell_type": "markdown",
      "metadata": {
        "id": "e6ZGoLgLIfri"
      },
      "source": [
        "### Task 2"
      ]
    },
    {
      "cell_type": "markdown",
      "metadata": {
        "id": "Z6yZ3_7pIfri"
      },
      "source": [
        "Create a function named `mat_operations()` that takes in two matrices a input parameters it should:<br>\n",
        " 1. Determines if the matrices are viable for operation and returns your own error message if they are not viable.\n",
        " 2. Returns the sum of the matrices.\n",
        " 3. Returns the differen of the matrices.\n",
        " 4. Returns the element-wise multiplication of the matrices.\n",
        " 5. Returns the element-wise division of the matrices.\n",
        "\n",
        "Use 5 sample matrices in which their shapes are not lower than $(3,3)$.\n",
        "In your methodology, create a flowchart discuss the functions and methods you have done. Present your results in the results section showing the description of each matrix you have declared."
      ]
    },
    {
      "cell_type": "code",
      "metadata": {
        "id": "XRtDBMVNIfri"
      },
      "source": [
        "def mat_operations(np, A1, A2):\n",
        "  \n",
        "   if A1.size > 0 or A2.size > 0:\n",
        "     if np == 'Add':\n",
        "       sum = A1+A2\n",
        "       print(f'\\nThe sum of \\n{A1} \\n\\n+\\n\\n {A2} \\n\\n is equal to:\\n\\n{sum}')\n",
        "     elif np == 'Subtract':\n",
        "       difference = A1-A2\n",
        "       print(f'\\nThe sum of \\n{A1} \\n\\n-\\n\\n {A2} \\n\\n is equal to:\\n\\n{difference}')\n",
        "     elif np == 'Multiply':\n",
        "       product == A1*A2\n",
        "       print(f'\\nThe sum of \\n{A1} \\n\\n*\\n\\n {A2} \\n\\n is equal to:\\n\\n{product}')\n",
        "     if np == 'Divide':\n",
        "       divide == A1/A2\n",
        "       print(f'\\nThe sum of \\n{A1} \\n\\n/\\n\\n {A2} \\n\\n is equal to:\\n\\n{divide}')\n",
        "   else:\n",
        "       print('Operation Not Found!')\n"
      ],
      "execution_count": 144,
      "outputs": []
    },
    {
      "cell_type": "code",
      "metadata": {
        "id": "X5UT3MtGIfri"
      },
      "source": [
        "A1 = np.array([\n",
        "    [1,2,3],\n",
        "    [4,5,6],\n",
        "    [7,8,9]\n",
        "])\n",
        "\n",
        "A2 = np.array([\n",
        "    [1,5,3],\n",
        "    [8,5,9],\n",
        "    [6,8,6]\n",
        "])\n",
        "\n"
      ],
      "execution_count": null,
      "outputs": []
    },
    {
      "cell_type": "code",
      "metadata": {
        "id": "Sms7j22UIfri",
        "colab": {
          "base_uri": "https://localhost:8080/"
        },
        "outputId": "2d425af0-30e5-45ed-f5fe-fb900d75585c"
      },
      "source": [
        "mat_operations('Subtract', A1, A2)"
      ],
      "execution_count": 143,
      "outputs": [
        {
          "output_type": "stream",
          "name": "stdout",
          "text": [
            "\n",
            "The sum of \n",
            "[[1 2 3]\n",
            " [4 5 6]\n",
            " [7 8 9]] \n",
            "\n",
            "+\n",
            "\n",
            " [[1 5 3]\n",
            " [8 5 9]\n",
            " [6 8 6]] \n",
            "\n",
            " is equal to:\n",
            "\n",
            "[[ 0 -3  0]\n",
            " [-4  0 -3]\n",
            " [ 1  0  3]]\n"
          ]
        }
      ]
    },
    {
      "cell_type": "markdown",
      "metadata": {
        "id": "V4LRAK6vIfri"
      },
      "source": [
        "# Conclusion\n",
        "### Learning all of this is very complex because I  is not used to using python, so for the whole week I decided to learn conditional statements such as if else, elif and etc.\n",
        "### In doing all the Task, there condition that are declared and must be applied, thus there are alot of limitation that comes to play which then is a big hurdle that we encounter.\n",
        "\n"
      ]
    },
    {
      "cell_type": "markdown",
      "metadata": {
        "id": "qI0-MOPMIfrj"
      },
      "source": [
        ""
      ]
    },
    {
      "cell_type": "markdown",
      "metadata": {
        "id": "u7bCsjqjYhIf"
      },
      "source": [
        "## References:\n",
        "[1] Matrix (2021).https://www.britannica.com/science/matrix-mathematics\n",
        "\n",
        "[2] Definition of Matrix Algebra (2021).https://www.merriam-webster.com/dictionary/matrix\n",
        "\n",
        "[3] numbpy multiply (2021) https://www.geeksforgeeks.org/numpy-multiply-in-python/"
      ]
    }
  ]
}