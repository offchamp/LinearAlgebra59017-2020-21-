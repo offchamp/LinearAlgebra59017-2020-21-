{
  "nbformat": 4,
  "nbformat_minor": 0,
  "metadata": {
    "kernelspec": {
      "display_name": "Python 3",
      "language": "python",
      "name": "python3"
    },
    "language_info": {
      "codemirror_mode": {
        "name": "ipython",
        "version": 3
      },
      "file_extension": ".py",
      "mimetype": "text/x-python",
      "name": "python",
      "nbconvert_exporter": "python",
      "pygments_lexer": "ipython3",
      "version": "3.8.3"
    },
    "colab": {
      "name": "Assignment6.ipynb",
      "provenance": [],
      "include_colab_link": true
    }
  },
  "cells": [
    {
      "cell_type": "markdown",
      "metadata": {
        "id": "view-in-github",
        "colab_type": "text"
      },
      "source": [
        "<a href=\"https://colab.research.google.com/github/offchamp/LinearAlgebra59017-2020-21-/blob/main/Assignment6.ipynb\" target=\"_parent\"><img src=\"https://colab.research.google.com/assets/colab-badge.svg\" alt=\"Open In Colab\"/></a>"
      ]
    },
    {
      "cell_type": "markdown",
      "metadata": {
        "id": "YH6dSOMX5qAQ"
      },
      "source": [
        "# Linear Algebra for ECE\n",
        "## Laboratory 6 : Matrix Operations"
      ]
    },
    {
      "cell_type": "markdown",
      "metadata": {
        "id": "jYeiRZm35qAU"
      },
      "source": [
        "Now that you have a fundamental knowledge about representing and operating with vectors as well as the fundamentals of matrices, we'll try to the same operations with matrices and even more."
      ]
    },
    {
      "cell_type": "markdown",
      "metadata": {
        "id": "BInKdhlu5qAV"
      },
      "source": [
        "### Objectives\n",
        "At the end of this activity you will be able to:\n",
        "1. Be familiar with the fundamental matrix operations.\n",
        "2. Apply the operations to solve intermediate equations.\n",
        "3. Apply matrix algebra in engineering solutions."
      ]
    },
    {
      "cell_type": "markdown",
      "metadata": {
        "id": "Fz9EI_8Z5qAV"
      },
      "source": [
        "## Discussion"
      ]
    },
    {
      "cell_type": "code",
      "metadata": {
        "id": "S6r8UaPu5qAW"
      },
      "source": [
        "import numpy as np\n",
        "import matplotlib.pyplot as plt\n",
        "%matplotlib inline"
      ],
      "execution_count": null,
      "outputs": []
    },
    {
      "cell_type": "markdown",
      "metadata": {
        "id": "ORllWzOl5qAX"
      },
      "source": [
        "## Transposition [1]\n",
        "\n",
        "Transpose of a matrix is obtained by changing rows to columns and columns to rows. In other words, transpose of A[][] is obtained by changing A[i][j] to A[j][i]. In layman's term, in row 1, we transpose it to column 1 just like turning a vertical to horizontal."
      ]
    },
    {
      "cell_type": "markdown",
      "metadata": {
        "id": "4LtZTUbY5qAY"
      },
      "source": [
        "One of the fundamental operations in matrix algebra is Transposition. The transpose of a matrix is done by flipping the values of its elements over its diagonals. With this, the rows and columns from the original matrix will be switched. So for a matrix $A$ its transpose is denoted as $A^T$. So for example:"
      ]
    },
    {
      "cell_type": "markdown",
      "metadata": {
        "id": "HZeNXvo-5qAY"
      },
      "source": [
        "$$A = \\begin{bmatrix} 1 & 2 & 5\\\\5 & -1 &0 \\\\ 0 & -3 & 3\\end{bmatrix} $$"
      ]
    },
    {
      "cell_type": "markdown",
      "metadata": {
        "id": "tgGXC4Uz5qAZ"
      },
      "source": [
        "$$ A^T = \\begin{bmatrix} 1 & 5 & 0\\\\2 & -1 &-3 \\\\ 5 & 0 & 3\\end{bmatrix}$$"
      ]
    },
    {
      "cell_type": "markdown",
      "metadata": {
        "id": "JMVtzwZG5qAZ"
      },
      "source": [
        "This can now be achieved programmatically by using `np.transpose()` or using the `T` method."
      ]
    },
    {
      "cell_type": "code",
      "metadata": {
        "colab": {
          "base_uri": "https://localhost:8080/"
        },
        "id": "7cIxacBV5qAa",
        "outputId": "7bb8ad55-d919-474e-c9cf-72feacdca966"
      },
      "source": [
        "A = np.array([\n",
        "    [1 ,2, 5],\n",
        "    [5, -1, 0],\n",
        "    [0, -3, 3]\n",
        "])\n",
        "A"
      ],
      "execution_count": null,
      "outputs": [
        {
          "output_type": "execute_result",
          "data": {
            "text/plain": [
              "array([[ 1,  2,  5],\n",
              "       [ 5, -1,  0],\n",
              "       [ 0, -3,  3]])"
            ]
          },
          "metadata": {},
          "execution_count": 67
        }
      ]
    },
    {
      "cell_type": "code",
      "metadata": {
        "colab": {
          "base_uri": "https://localhost:8080/"
        },
        "id": "AhW8-DMO5qAb",
        "outputId": "ee436ce6-851e-419c-d4df-519581d9b6cb"
      },
      "source": [
        "AT1 = np.transpose(A)\n",
        "AT1"
      ],
      "execution_count": null,
      "outputs": [
        {
          "output_type": "execute_result",
          "data": {
            "text/plain": [
              "array([[ 1,  5,  0],\n",
              "       [ 2, -1, -3],\n",
              "       [ 5,  0,  3]])"
            ]
          },
          "metadata": {},
          "execution_count": 68
        }
      ]
    },
    {
      "cell_type": "code",
      "metadata": {
        "id": "eP1SHyCK5qAb",
        "colab": {
          "base_uri": "https://localhost:8080/"
        },
        "outputId": "660a8054-e906-48cb-a44c-d84ff8bec25f"
      },
      "source": [
        "AT2 = A.T\n",
        "AT2"
      ],
      "execution_count": null,
      "outputs": [
        {
          "output_type": "execute_result",
          "data": {
            "text/plain": [
              "array([[ 1,  5,  0],\n",
              "       [ 2, -1, -3],\n",
              "       [ 5,  0,  3]])"
            ]
          },
          "metadata": {},
          "execution_count": 69
        }
      ]
    },
    {
      "cell_type": "code",
      "metadata": {
        "id": "sQzzt0hr5qAb",
        "colab": {
          "base_uri": "https://localhost:8080/"
        },
        "outputId": "0904ed64-33e1-44c7-8144-b38da3429668"
      },
      "source": [
        "np.array_equiv(AT1, AT2)"
      ],
      "execution_count": null,
      "outputs": [
        {
          "output_type": "execute_result",
          "data": {
            "text/plain": [
              "True"
            ]
          },
          "metadata": {},
          "execution_count": 70
        }
      ]
    },
    {
      "cell_type": "code",
      "metadata": {
        "id": "Z2piL7OG5qAb",
        "colab": {
          "base_uri": "https://localhost:8080/"
        },
        "outputId": "cd945a7b-ae58-4ae5-aceb-1d13669e6a64"
      },
      "source": [
        "B = np.array([\n",
        "    [1,2,3,4],\n",
        "    [1,0,2,1],\n",
        "])\n",
        "B.shape"
      ],
      "execution_count": null,
      "outputs": [
        {
          "output_type": "execute_result",
          "data": {
            "text/plain": [
              "(2, 4)"
            ]
          },
          "metadata": {},
          "execution_count": 71
        }
      ]
    },
    {
      "cell_type": "code",
      "metadata": {
        "id": "AJ99IXpz5qAc",
        "colab": {
          "base_uri": "https://localhost:8080/"
        },
        "outputId": "52d57180-7b02-4364-c965-04f571ab385c"
      },
      "source": [
        "np.transpose(B).shape"
      ],
      "execution_count": null,
      "outputs": [
        {
          "output_type": "execute_result",
          "data": {
            "text/plain": [
              "(4, 2)"
            ]
          },
          "metadata": {},
          "execution_count": 72
        }
      ]
    },
    {
      "cell_type": "code",
      "metadata": {
        "id": "lZCQUI7M5qAc",
        "colab": {
          "base_uri": "https://localhost:8080/"
        },
        "outputId": "b6ff0c54-801f-45db-bda6-cbff740e5e5d"
      },
      "source": [
        "B.T.shape"
      ],
      "execution_count": null,
      "outputs": [
        {
          "output_type": "execute_result",
          "data": {
            "text/plain": [
              "(4, 2)"
            ]
          },
          "metadata": {},
          "execution_count": 73
        }
      ]
    },
    {
      "cell_type": "markdown",
      "metadata": {
        "id": "-GmVMkBk5qAc"
      },
      "source": [
        "#### Try to create your own matrix (you can try non-squares) to test transposition."
      ]
    },
    {
      "cell_type": "code",
      "metadata": {
        "id": "agJQTy6E5qAc",
        "colab": {
          "base_uri": "https://localhost:8080/"
        },
        "outputId": "2cde26c5-45c2-4e05-ba55-753d1dc7d712"
      },
      "source": [
        "## Try out your code here.\n",
        "Z=np.array([\n",
        "    [3,6,9],\n",
        "    [1,0,1]        \n",
        "])\n",
        "Z.shape"
      ],
      "execution_count": null,
      "outputs": [
        {
          "output_type": "execute_result",
          "data": {
            "text/plain": [
              "(2, 3)"
            ]
          },
          "metadata": {},
          "execution_count": 74
        }
      ]
    },
    {
      "cell_type": "code",
      "metadata": {
        "colab": {
          "base_uri": "https://localhost:8080/"
        },
        "id": "m6NkJ8GlLjXS",
        "outputId": "025f908f-2307-40f0-c963-5edb4f74c17b"
      },
      "source": [
        "np.transpose(Z).shape"
      ],
      "execution_count": null,
      "outputs": [
        {
          "output_type": "execute_result",
          "data": {
            "text/plain": [
              "(3, 2)"
            ]
          },
          "metadata": {},
          "execution_count": 75
        }
      ]
    },
    {
      "cell_type": "code",
      "metadata": {
        "colab": {
          "base_uri": "https://localhost:8080/"
        },
        "id": "jJsTKo-bLphu",
        "outputId": "9f6baf18-dbc8-4e6f-d168-416baf7173cb"
      },
      "source": [
        "Z.T.shape"
      ],
      "execution_count": null,
      "outputs": [
        {
          "output_type": "execute_result",
          "data": {
            "text/plain": [
              "(3, 2)"
            ]
          },
          "metadata": {},
          "execution_count": 76
        }
      ]
    },
    {
      "cell_type": "code",
      "metadata": {
        "colab": {
          "base_uri": "https://localhost:8080/"
        },
        "id": "Z3ZZVLBGLxeE",
        "outputId": "e98584c9-9506-4714-d52e-d259ed5d3544"
      },
      "source": [
        "ZT = Z.T\n",
        "ZT"
      ],
      "execution_count": null,
      "outputs": [
        {
          "output_type": "execute_result",
          "data": {
            "text/plain": [
              "array([[3, 1],\n",
              "       [6, 0],\n",
              "       [9, 1]])"
            ]
          },
          "metadata": {},
          "execution_count": 77
        }
      ]
    },
    {
      "cell_type": "markdown",
      "metadata": {
        "id": "xkLTJ0fl5qAc"
      },
      "source": [
        "## Dot Product / Inner Product [2] [3]\n",
        "The dot product of two vectors is the sum of the products of elements with regards to position. The first element of the first vector is multiplied by the first element of the second vector and so on. \n",
        "\n",
        "An inner product is a generalization of the dot product. In a vector space, it is a way to multiply vectors together, with the result of this multiplication being a scalar."
      ]
    },
    {
      "cell_type": "markdown",
      "metadata": {
        "id": "6kzi5rKI5qAd"
      },
      "source": [
        "If you recall the dot product from laboratory activity before, we will try to implement the same operation with matrices. In matrix dot product we are going to get the sum of products of the vectors by row-column pairs. So if we have two matrices $X$ and $Y$:\n",
        "\n",
        "$$X = \\begin{bmatrix}x_{(0,0)}&x_{(0,1)}\\\\ x_{(1,0)}&x_{(1,1)}\\end{bmatrix}, Y = \\begin{bmatrix}y_{(0,0)}&y_{(0,1)}\\\\ y_{(1,0)}&y_{(1,1)}\\end{bmatrix}$$\n",
        "\n",
        "The dot product will then be computed as:\n",
        "$$X \\cdot Y= \\begin{bmatrix} x_{(0,0)}*y_{(0,0)} + x_{(0,1)}*y_{(1,0)} & x_{(0,0)}*y_{(0,1)} + x_{(0,1)}*y_{(1,1)} \\\\  x_{(1,0)}*y_{(0,0)} + x_{(1,1)}*y_{(1,0)} & x_{(1,0)}*y_{(0,1)} + x_{(1,1)}*y_{(1,1)}\n",
        "\\end{bmatrix}$$\n",
        "\n",
        "So if we assign values to $X$ and $Y$:\n",
        "$$X = \\begin{bmatrix}1&2\\\\ 0&1\\end{bmatrix}, Y = \\begin{bmatrix}-1&0\\\\ 2&2\\end{bmatrix}$$"
      ]
    },
    {
      "cell_type": "markdown",
      "metadata": {
        "id": "JqxInb_P5qAd"
      },
      "source": [
        "$$X \\cdot Y= \\begin{bmatrix} 1*-1 + 2*2 & 1*0 + 2*2 \\\\  0*-1 + 1*2 & 0*0 + 1*2 \\end{bmatrix} = \\begin{bmatrix} 3 & 4 \\\\2 & 2 \\end{bmatrix}$$\n",
        "This could be achieved programmatically using `np.dot()`, `np.matmul()` or the `@` operator."
      ]
    },
    {
      "cell_type": "code",
      "metadata": {
        "id": "tcFdaGtG5qAd"
      },
      "source": [
        "X = np.array([\n",
        "    [1,2],\n",
        "    [0,1]\n",
        "])\n",
        "Y = np.array([\n",
        "    [-1,0],\n",
        "    [2,2]\n",
        "])"
      ],
      "execution_count": null,
      "outputs": []
    },
    {
      "cell_type": "code",
      "metadata": {
        "colab": {
          "base_uri": "https://localhost:8080/"
        },
        "id": "U-s-XqsqXYn1",
        "outputId": "d23aadc9-c64f-4a48-996c-38505a0944bc"
      },
      "source": [
        "np.array_equiv(X, Y)"
      ],
      "execution_count": null,
      "outputs": [
        {
          "output_type": "execute_result",
          "data": {
            "text/plain": [
              "False"
            ]
          },
          "metadata": {},
          "execution_count": 79
        }
      ]
    },
    {
      "cell_type": "code",
      "metadata": {
        "id": "RUczGxF85qAe",
        "colab": {
          "base_uri": "https://localhost:8080/"
        },
        "outputId": "fb1148b7-9e23-49e0-a1e2-41f20e388328"
      },
      "source": [
        "np.dot(X,Y)"
      ],
      "execution_count": null,
      "outputs": [
        {
          "output_type": "execute_result",
          "data": {
            "text/plain": [
              "array([[3, 4],\n",
              "       [2, 2]])"
            ]
          },
          "metadata": {},
          "execution_count": 80
        }
      ]
    },
    {
      "cell_type": "code",
      "metadata": {
        "id": "q-mALRKb5qAe",
        "colab": {
          "base_uri": "https://localhost:8080/"
        },
        "outputId": "3c2ce406-6e75-4cc0-a9e9-50615c0ca7da"
      },
      "source": [
        "X.dot(Y)"
      ],
      "execution_count": null,
      "outputs": [
        {
          "output_type": "execute_result",
          "data": {
            "text/plain": [
              "array([[3, 4],\n",
              "       [2, 2]])"
            ]
          },
          "metadata": {},
          "execution_count": 81
        }
      ]
    },
    {
      "cell_type": "code",
      "metadata": {
        "id": "ZTuRvubF5qAe",
        "colab": {
          "base_uri": "https://localhost:8080/"
        },
        "outputId": "03d4f75a-1da2-47ac-8078-dbb4fc7f6214"
      },
      "source": [
        "X @ Y"
      ],
      "execution_count": null,
      "outputs": [
        {
          "output_type": "execute_result",
          "data": {
            "text/plain": [
              "array([[3, 4],\n",
              "       [2, 2]])"
            ]
          },
          "metadata": {},
          "execution_count": 82
        }
      ]
    },
    {
      "cell_type": "code",
      "metadata": {
        "id": "kKqFUIuC5qAe",
        "colab": {
          "base_uri": "https://localhost:8080/"
        },
        "outputId": "398851b8-b2f5-49f4-a277-b83ee6b2e811"
      },
      "source": [
        "np.matmul(X,Y)"
      ],
      "execution_count": null,
      "outputs": [
        {
          "output_type": "execute_result",
          "data": {
            "text/plain": [
              "array([[3, 4],\n",
              "       [2, 2]])"
            ]
          },
          "metadata": {},
          "execution_count": 83
        }
      ]
    },
    {
      "cell_type": "code",
      "metadata": {
        "id": "Ty1dji7QOBUZ"
      },
      "source": [
        "D = np.array([\n",
        "    [3,2,2],\n",
        "    [3,1,3],\n",
        "    [5,3,2]\n",
        "])\n",
        "E = np.array([\n",
        "    [-2,0,5],\n",
        "    [2,4,6],\n",
        "    [7,4,3]\n",
        "])"
      ],
      "execution_count": null,
      "outputs": []
    },
    {
      "cell_type": "code",
      "metadata": {
        "colab": {
          "base_uri": "https://localhost:8080/"
        },
        "id": "hx-ww5y9OHKU",
        "outputId": "d2921456-f458-4c7d-e13c-8ae3a48e60ff"
      },
      "source": [
        "D @ E"
      ],
      "execution_count": null,
      "outputs": [
        {
          "output_type": "execute_result",
          "data": {
            "text/plain": [
              "array([[12, 16, 33],\n",
              "       [17, 16, 30],\n",
              "       [10, 20, 49]])"
            ]
          },
          "metadata": {},
          "execution_count": 85
        }
      ]
    },
    {
      "cell_type": "code",
      "metadata": {
        "colab": {
          "base_uri": "https://localhost:8080/"
        },
        "id": "Z0gcf6UIOKMR",
        "outputId": "108ce6bb-8593-4de5-fc63-9935cd71d215"
      },
      "source": [
        "D.dot(E)"
      ],
      "execution_count": null,
      "outputs": [
        {
          "output_type": "execute_result",
          "data": {
            "text/plain": [
              "array([[12, 16, 33],\n",
              "       [17, 16, 30],\n",
              "       [10, 20, 49]])"
            ]
          },
          "metadata": {},
          "execution_count": 86
        }
      ]
    },
    {
      "cell_type": "code",
      "metadata": {
        "colab": {
          "base_uri": "https://localhost:8080/"
        },
        "id": "nklBm-huOM2S",
        "outputId": "41d7de62-9cdc-45f0-fed2-39f9a412b062"
      },
      "source": [
        "np.matmul(D, E)"
      ],
      "execution_count": null,
      "outputs": [
        {
          "output_type": "execute_result",
          "data": {
            "text/plain": [
              "array([[12, 16, 33],\n",
              "       [17, 16, 30],\n",
              "       [10, 20, 49]])"
            ]
          },
          "metadata": {},
          "execution_count": 87
        }
      ]
    },
    {
      "cell_type": "code",
      "metadata": {
        "colab": {
          "base_uri": "https://localhost:8080/"
        },
        "id": "lvjJit8FOQtr",
        "outputId": "47f0af14-0bdc-4fba-a472-496490a3dacb"
      },
      "source": [
        "np.dot(D, E)"
      ],
      "execution_count": null,
      "outputs": [
        {
          "output_type": "execute_result",
          "data": {
            "text/plain": [
              "array([[12, 16, 33],\n",
              "       [17, 16, 30],\n",
              "       [10, 20, 49]])"
            ]
          },
          "metadata": {},
          "execution_count": 88
        }
      ]
    },
    {
      "cell_type": "markdown",
      "metadata": {
        "id": "tmcO-1oc5qAf"
      },
      "source": [
        "In matrix dot products there are additional rules compared with vector dot products. Since vector dot products were just in one dimension there are less restrictions. Since now we are dealing with Rank 2 vectors we need to consider some rules:\n",
        "\n",
        "### Rule 1: The inner dimensions of the two matrices in question must be the same. \n",
        "\n",
        "So given a matrix $A$ with a shape of $(a,b)$ where $a$ and $b$ are any integers. If we want to do a dot product between $A$ and another matrix $B$, then matrix $B$ should have a shape of $(b,c)$ where $b$ and $c$ are any integers. So for given the following matrices:\n",
        "\n",
        "$$A = \\begin{bmatrix}2&4\\\\5&-2\\\\0&1\\end{bmatrix}, B = \\begin{bmatrix}1&1\\\\3&3\\\\-1&-2\\end{bmatrix}, C = \\begin{bmatrix}0&1&1\\\\1&1&2\\end{bmatrix}$$\n",
        "\n",
        "So in this case $A$ has a shape of $(3,2)$, $B$ has a shape of $(3,2)$ and $C$ has a shape of $(2,3)$. So the only matrix pairs that is eligible to perform dot product is matrices $A \\cdot C$, or $B \\cdot C$.  "
      ]
    },
    {
      "cell_type": "code",
      "metadata": {
        "colab": {
          "base_uri": "https://localhost:8080/"
        },
        "id": "BHg0ldDB5qAf",
        "outputId": "b27cdfaf-3d89-4880-ea98-cd35e3f21bbd"
      },
      "source": [
        "A = np.array([\n",
        "    [2, 4],\n",
        "    [5, -2],\n",
        "    [0, 1]\n",
        "])\n",
        "B = np.array([\n",
        "    [1,1],\n",
        "    [3,3],\n",
        "    [-1,-2]\n",
        "])\n",
        "C = np.array([\n",
        "    [0,1,1],\n",
        "    [1,1,2]\n",
        "])\n",
        "print(A.shape)\n",
        "print(B.shape)\n",
        "print(C.shape)"
      ],
      "execution_count": null,
      "outputs": [
        {
          "output_type": "stream",
          "name": "stdout",
          "text": [
            "(3, 2)\n",
            "(3, 2)\n",
            "(2, 3)\n"
          ]
        }
      ]
    },
    {
      "cell_type": "code",
      "metadata": {
        "colab": {
          "base_uri": "https://localhost:8080/"
        },
        "id": "v5A58bku5qAg",
        "outputId": "4e8aa658-2062-488a-fcfc-992395049bee"
      },
      "source": [
        "A @ C"
      ],
      "execution_count": null,
      "outputs": [
        {
          "output_type": "execute_result",
          "data": {
            "text/plain": [
              "array([[ 4,  6, 10],\n",
              "       [-2,  3,  1],\n",
              "       [ 1,  1,  2]])"
            ]
          },
          "metadata": {},
          "execution_count": 90
        }
      ]
    },
    {
      "cell_type": "code",
      "metadata": {
        "id": "XpFBfYcr5qAg",
        "colab": {
          "base_uri": "https://localhost:8080/"
        },
        "outputId": "c37c8026-4f9d-40e6-f95d-b9c85eaa6556"
      },
      "source": [
        "B @ C"
      ],
      "execution_count": null,
      "outputs": [
        {
          "output_type": "execute_result",
          "data": {
            "text/plain": [
              "array([[ 1,  2,  3],\n",
              "       [ 3,  6,  9],\n",
              "       [-2, -3, -5]])"
            ]
          },
          "metadata": {},
          "execution_count": 91
        }
      ]
    },
    {
      "cell_type": "code",
      "metadata": {
        "id": "dQNPPUjLPt57"
      },
      "source": [
        ""
      ],
      "execution_count": null,
      "outputs": []
    },
    {
      "cell_type": "markdown",
      "metadata": {
        "id": "xrKDcZQu5qAg"
      },
      "source": [
        "If you would notice the shape of the dot product changed and its shape is not the same as any of the matrices we used. The shape of a dot product is actually derived from the shapes of the matrices used. So recall matrix $A$ with a shape of $(a,b)$ and matrix $B$ with a shape of $(b,c)$, $A \\cdot B$ should have a shape $(a,c)$."
      ]
    },
    {
      "cell_type": "code",
      "metadata": {
        "colab": {
          "base_uri": "https://localhost:8080/"
        },
        "id": "GV5OX8Yq5qAg",
        "outputId": "e1e85734-4052-42b5-8993-1e1f9613148c"
      },
      "source": [
        "A @ B.T"
      ],
      "execution_count": null,
      "outputs": [
        {
          "output_type": "execute_result",
          "data": {
            "text/plain": [
              "array([[  6,  18, -10],\n",
              "       [  3,   9,  -1],\n",
              "       [  1,   3,  -2]])"
            ]
          },
          "metadata": {},
          "execution_count": 92
        }
      ]
    },
    {
      "cell_type": "code",
      "metadata": {
        "colab": {
          "base_uri": "https://localhost:8080/"
        },
        "id": "3lB2SJC45qAi",
        "outputId": "a7efc2c1-dde1-4fcf-c7fd-6617e9d0d6a8"
      },
      "source": [
        "X = np.array([\n",
        "    [1,2,3,0]\n",
        "])\n",
        "Y = np.array([\n",
        "    [1,0,4,-1]\n",
        "])\n",
        "print(X.shape)\n",
        "print(Y.shape)"
      ],
      "execution_count": null,
      "outputs": [
        {
          "output_type": "stream",
          "name": "stdout",
          "text": [
            "(1, 4)\n",
            "(1, 4)\n"
          ]
        }
      ]
    },
    {
      "cell_type": "code",
      "metadata": {
        "colab": {
          "base_uri": "https://localhost:8080/"
        },
        "id": "6wmNHDiG5qAi",
        "outputId": "100e95c5-d0d6-46b4-c381-efc565f7042a"
      },
      "source": [
        "Y.T @ X"
      ],
      "execution_count": null,
      "outputs": [
        {
          "output_type": "execute_result",
          "data": {
            "text/plain": [
              "array([[ 1,  2,  3,  0],\n",
              "       [ 0,  0,  0,  0],\n",
              "       [ 4,  8, 12,  0],\n",
              "       [-1, -2, -3,  0]])"
            ]
          },
          "metadata": {},
          "execution_count": 94
        }
      ]
    },
    {
      "cell_type": "code",
      "metadata": {
        "colab": {
          "base_uri": "https://localhost:8080/"
        },
        "id": "56reEXdeRXjl",
        "outputId": "08bd49cc-cc60-469e-a33b-222a530e6b19"
      },
      "source": [
        "X @ Y.T"
      ],
      "execution_count": null,
      "outputs": [
        {
          "output_type": "execute_result",
          "data": {
            "text/plain": [
              "array([[13]])"
            ]
          },
          "metadata": {},
          "execution_count": 95
        }
      ]
    },
    {
      "cell_type": "markdown",
      "metadata": {
        "id": "eeaqcqWN5qAi"
      },
      "source": [
        "And youcan see that when you try to multiply A and B, it returns `ValueError` pertaining to matrix shape mismatch."
      ]
    },
    {
      "cell_type": "markdown",
      "metadata": {
        "id": "4LuGMTDV5qAi"
      },
      "source": [
        "### Rule 2: Dot Product has special properties\n",
        "\n",
        "Dot products are prevalent in matrix algebra, this implies that it has several unique properties and it should be considered when formulation solutions:\n",
        " 1. $A \\cdot B \\neq B \\cdot A$\n",
        " 2. $A \\cdot (B \\cdot C) = (A \\cdot B) \\cdot C$\n",
        " 3. $A\\cdot(B+C) = A\\cdot B + A\\cdot C$\n",
        " 4. $(B+C)\\cdot A = B\\cdot A + C\\cdot A$\n",
        " 5. $A\\cdot I = A$\n",
        " 6. $A\\cdot \\emptyset = \\emptyset$ "
      ]
    },
    {
      "cell_type": "markdown",
      "metadata": {
        "id": "1Q88K3zL5qAi"
      },
      "source": [
        "I'll be doing just one of the properties and I'll leave the rest to test your skills!"
      ]
    },
    {
      "cell_type": "code",
      "metadata": {
        "id": "NIuJS5DD5qAj"
      },
      "source": [
        "A = np.array([\n",
        "    [3,2,1],\n",
        "    [4,5,1],\n",
        "    [1,1,1]\n",
        "])\n",
        "B = np.array([\n",
        "    [4,1,6],\n",
        "    [4,1,9],\n",
        "    [1,4,8]\n",
        "])\n",
        "C = np.array([\n",
        "    [1,1,0],\n",
        "    [0,1,1],\n",
        "    [1,0,1]\n",
        "])"
      ],
      "execution_count": null,
      "outputs": []
    },
    {
      "cell_type": "code",
      "metadata": {
        "colab": {
          "base_uri": "https://localhost:8080/"
        },
        "id": "rMKQRQiGXqIO",
        "outputId": "c22fcfcf-4f51-4c96-d1f6-5a68a59c58dc"
      },
      "source": [
        "np.eye(3)"
      ],
      "execution_count": null,
      "outputs": [
        {
          "output_type": "execute_result",
          "data": {
            "text/plain": [
              "array([[1., 0., 0.],\n",
              "       [0., 1., 0.],\n",
              "       [0., 0., 1.]])"
            ]
          },
          "metadata": {},
          "execution_count": 97
        }
      ]
    },
    {
      "cell_type": "code",
      "metadata": {
        "colab": {
          "base_uri": "https://localhost:8080/"
        },
        "id": "C-jC2s9zX5lr",
        "outputId": "826f9276-240f-4848-b6bd-521dd0ad7dd3"
      },
      "source": [
        "A.dot(np.eye(3))"
      ],
      "execution_count": null,
      "outputs": [
        {
          "output_type": "execute_result",
          "data": {
            "text/plain": [
              "array([[3., 2., 1.],\n",
              "       [4., 5., 1.],\n",
              "       [1., 1., 1.]])"
            ]
          },
          "metadata": {},
          "execution_count": 98
        }
      ]
    },
    {
      "cell_type": "code",
      "metadata": {
        "colab": {
          "base_uri": "https://localhost:8080/"
        },
        "id": "odT_OJP3TZ4w",
        "outputId": "e07171e6-156b-40c0-9844-570c27d592f2"
      },
      "source": [
        "np.array_equal(A@B, B@A)"
      ],
      "execution_count": null,
      "outputs": [
        {
          "output_type": "execute_result",
          "data": {
            "text/plain": [
              "False"
            ]
          },
          "metadata": {},
          "execution_count": 99
        }
      ]
    },
    {
      "cell_type": "code",
      "metadata": {
        "colab": {
          "base_uri": "https://localhost:8080/"
        },
        "id": "tiDdHhxcWgVM",
        "outputId": "f8589081-8c1b-44ed-9d0a-5eb55551dbd2"
      },
      "source": [
        "E = A @ (B @ C)\n",
        "E"
      ],
      "execution_count": null,
      "outputs": [
        {
          "output_type": "execute_result",
          "data": {
            "text/plain": [
              "array([[ 65,  30,  53],\n",
              "       [114,  50,  90],\n",
              "       [ 32,  15,  29]])"
            ]
          },
          "metadata": {},
          "execution_count": 100
        }
      ]
    },
    {
      "cell_type": "code",
      "metadata": {
        "colab": {
          "base_uri": "https://localhost:8080/"
        },
        "id": "ExZZG4eZWpAl",
        "outputId": "119d43fc-b158-425b-eace-ed82afda787e"
      },
      "source": [
        "F = (A @ B) @ C\n",
        "F"
      ],
      "execution_count": null,
      "outputs": [
        {
          "output_type": "execute_result",
          "data": {
            "text/plain": [
              "array([[ 65,  30,  53],\n",
              "       [114,  50,  90],\n",
              "       [ 32,  15,  29]])"
            ]
          },
          "metadata": {},
          "execution_count": 101
        }
      ]
    },
    {
      "cell_type": "code",
      "metadata": {
        "colab": {
          "base_uri": "https://localhost:8080/"
        },
        "id": "UfXEP6q-W5yL",
        "outputId": "c3afbae2-f0e0-40fe-8be3-84dd84a81d66"
      },
      "source": [
        "np.array_equal(E, X)"
      ],
      "execution_count": null,
      "outputs": [
        {
          "output_type": "execute_result",
          "data": {
            "text/plain": [
              "False"
            ]
          },
          "metadata": {},
          "execution_count": 102
        }
      ]
    },
    {
      "cell_type": "code",
      "metadata": {
        "colab": {
          "base_uri": "https://localhost:8080/"
        },
        "id": "FJnDxAlTWud1",
        "outputId": "d62dd873-3bbd-44fc-c711-73b0c4c348f0"
      },
      "source": [
        "np.array_equiv(E, F)"
      ],
      "execution_count": null,
      "outputs": [
        {
          "output_type": "execute_result",
          "data": {
            "text/plain": [
              "True"
            ]
          },
          "metadata": {},
          "execution_count": 103
        }
      ]
    },
    {
      "cell_type": "code",
      "metadata": {
        "id": "SFOQkxtHWuVg"
      },
      "source": [
        ""
      ],
      "execution_count": null,
      "outputs": []
    },
    {
      "cell_type": "code",
      "metadata": {
        "colab": {
          "base_uri": "https://localhost:8080/"
        },
        "id": "R2xJmFlUVlbb",
        "outputId": "4664d313-8c35-4d42-8597-a4954f9be248"
      },
      "source": [
        "A @ E"
      ],
      "execution_count": null,
      "outputs": [
        {
          "output_type": "execute_result",
          "data": {
            "text/plain": [
              "array([[455, 205, 368],\n",
              "       [862, 385, 691],\n",
              "       [211,  95, 172]])"
            ]
          },
          "metadata": {},
          "execution_count": 104
        }
      ]
    },
    {
      "cell_type": "code",
      "metadata": {
        "colab": {
          "base_uri": "https://localhost:8080/"
        },
        "id": "UhgjprXt5qAj",
        "outputId": "381fa8f7-1f99-4b33-8f96-8a470b60569d"
      },
      "source": [
        "z_mat = np.zeros(A.shape)\n",
        "z_mat"
      ],
      "execution_count": null,
      "outputs": [
        {
          "output_type": "execute_result",
          "data": {
            "text/plain": [
              "array([[0., 0., 0.],\n",
              "       [0., 0., 0.],\n",
              "       [0., 0., 0.]])"
            ]
          },
          "metadata": {},
          "execution_count": 105
        }
      ]
    },
    {
      "cell_type": "code",
      "metadata": {
        "colab": {
          "base_uri": "https://localhost:8080/"
        },
        "id": "Y88CuKNy5qAj",
        "outputId": "28e0d982-6b13-4211-c5ca-2fb587862e2a"
      },
      "source": [
        "a_dot_z = A.dot(np.zeros(A.shape))\n",
        "a_dot_z"
      ],
      "execution_count": null,
      "outputs": [
        {
          "output_type": "execute_result",
          "data": {
            "text/plain": [
              "array([[0., 0., 0.],\n",
              "       [0., 0., 0.],\n",
              "       [0., 0., 0.]])"
            ]
          },
          "metadata": {},
          "execution_count": 106
        }
      ]
    },
    {
      "cell_type": "code",
      "metadata": {
        "colab": {
          "base_uri": "https://localhost:8080/"
        },
        "id": "7gLbl0xi5qAj",
        "outputId": "a63ec940-ee16-4971-d3f6-af580881657d"
      },
      "source": [
        "np.array_equal(a_dot_z,z_mat)"
      ],
      "execution_count": null,
      "outputs": [
        {
          "output_type": "execute_result",
          "data": {
            "text/plain": [
              "True"
            ]
          },
          "metadata": {},
          "execution_count": 107
        }
      ]
    },
    {
      "cell_type": "code",
      "metadata": {
        "colab": {
          "base_uri": "https://localhost:8080/"
        },
        "id": "O-BVE7BT5qAj",
        "outputId": "5f1b32dd-6b7d-47a1-8745-3566bdeb0817"
      },
      "source": [
        "null_mat = np.empty(A.shape, dtype=float)\n",
        "null = np.array(null_mat,dtype=float)\n",
        "print(null)\n",
        "np.allclose(a_dot_z,null)"
      ],
      "execution_count": null,
      "outputs": [
        {
          "output_type": "stream",
          "name": "stdout",
          "text": [
            "[[0. 0. 0.]\n",
            " [0. 0. 0.]\n",
            " [0. 0. 0.]]\n"
          ]
        },
        {
          "output_type": "execute_result",
          "data": {
            "text/plain": [
              "True"
            ]
          },
          "metadata": {},
          "execution_count": 108
        }
      ]
    },
    {
      "cell_type": "markdown",
      "metadata": {
        "id": "meSNX76X5qAk"
      },
      "source": [
        "## Determinant [4]\n",
        "is a mathematical construct used in problem solving that is found by a special formula, if matrix for example is 2x2, its determinant can be solved using the formula ad-bc"
      ]
    },
    {
      "cell_type": "markdown",
      "metadata": {
        "id": "usidzlzW5qAk"
      },
      "source": [
        "A determinant is a scalar value derived from a square matrix. The determinant is a fundamental and important value used in matrix algebra. Although it will not be evident in this laboratory on how it can be used practically, but it will be reatly used in future lessons.\n",
        "\n",
        "The determinant of some matrix $A$ is denoted as $det(A)$ or $|A|$. So let's say $A$ is represented as:\n",
        "$$A = \\begin{bmatrix}a_{(0,0)}&a_{(0,1)}\\\\a_{(1,0)}&a_{(1,1)}\\end{bmatrix}$$\n",
        "We can compute for the determinant as:\n",
        "$$|A| = a_{(0,0)}*a_{(1,1)} - a_{(1,0)}*a_{(0,1)}$$\n",
        "So if we have $A$ as:\n",
        "$$A = \\begin{bmatrix}1&4\\\\0&3\\end{bmatrix}, |A| = 3$$\n",
        "\n",
        "But you might wonder how about square matrices beyond the shape $(2,2)$? We can approach this problem by using several methods such as co-factor expansion and the minors method. This can be taught in the lecture of the laboratory but we can achieve the strenuous computation of high-dimensional matrices programmatically using Python. We can achieve this by using `np.linalg.det()`."
      ]
    },
    {
      "cell_type": "code",
      "metadata": {
        "id": "-H6sOqcu5qAk",
        "colab": {
          "base_uri": "https://localhost:8080/"
        },
        "outputId": "fc8a58b0-ea45-42bb-8915-1f96d3c68f3c"
      },
      "source": [
        "## Now other mathematics classes would require you to solve this by hand, \n",
        "## and that is great for practicing your memorization and coordination skills \n",
        "## but in this class we aim for simplicity and speed so we'll use programming\n",
        "## but it's completely fine if you want to try to solve this one by hand.\n",
        "B = np.array([\n",
        "    [1,3,5,6],\n",
        "    [0,3,1,3],\n",
        "    [3,1,8,2],\n",
        "    [5,2,6,8]\n",
        "])\n",
        "np.linalg.det(B)"
      ],
      "execution_count": null,
      "outputs": [
        {
          "output_type": "execute_result",
          "data": {
            "text/plain": [
              "-235.0000000000002"
            ]
          },
          "metadata": {},
          "execution_count": 156
        }
      ]
    },
    {
      "cell_type": "code",
      "metadata": {
        "id": "UXIlruLY5qAk",
        "colab": {
          "base_uri": "https://localhost:8080/"
        },
        "outputId": "cea23823-b5d6-4d38-ce7a-e917227adebb"
      },
      "source": [
        "A = np.array([\n",
        "    [1,4],\n",
        "    [0,3]\n",
        "])\n",
        "np.linalg.det(A)"
      ],
      "execution_count": null,
      "outputs": [
        {
          "output_type": "execute_result",
          "data": {
            "text/plain": [
              "3.0000000000000004"
            ]
          },
          "metadata": {},
          "execution_count": 157
        }
      ]
    },
    {
      "cell_type": "code",
      "metadata": {
        "colab": {
          "base_uri": "https://localhost:8080/"
        },
        "id": "sRPD8UryYoTd",
        "outputId": "7272e9db-9456-4dea-cc2b-47e209f0a92d"
      },
      "source": [
        "B = np.array([\n",
        "              [1, 5, 2],\n",
        "              [3, -1 ,-1],\n",
        "              [0, -2, 1]\n",
        "])\n",
        "np.linalg.det(B)"
      ],
      "execution_count": null,
      "outputs": [
        {
          "output_type": "execute_result",
          "data": {
            "text/plain": [
              "-30.000000000000014"
            ]
          },
          "metadata": {},
          "execution_count": 158
        }
      ]
    },
    {
      "cell_type": "markdown",
      "metadata": {
        "id": "YgnCzR5i5qAk"
      },
      "source": [
        "## Inverse [5]\n",
        "The inverse of matrix [A] is [A]^−1, and is defined by the property: [A][A]^-1 = [A]^-1[A] = [I]"
      ]
    },
    {
      "cell_type": "markdown",
      "metadata": {
        "id": "NyZt93mR5qAk"
      },
      "source": [
        "The inverse of a matrix is another fundamental operation in matrix algebra. Determining the inverse of a matrix let us determine if its solvability and its characteristic as a system of linear equation — we'll expand on this in the nect module. Another use of the inverse matrix is solving the problem of divisibility between matrices. Although element-wise division exists but dividing the entire concept of matrices does not exists. Inverse matrices provides a related operation that could have the same concept of \"dividing\" matrices.\n",
        "\n",
        "Now to determine the inverse of a matrix we need to perform several steps. So let's say we have a matrix $M$:\n",
        "$$M = \\begin{bmatrix}1&7\\\\-3&5\\end{bmatrix}$$\n",
        "First, we need to get the determinant of $M$.\n",
        "$$|M| = (1)(5)-(-3)(7) = 26$$\n",
        "Next, we need to reform the matrix into the inverse form:\n",
        "$$M^{-1} = \\frac{1}{|M|} \\begin{bmatrix} m_{(1,1)} & -m_{(0,1)} \\\\ -m_{(1,0)} & m_{(0,0)}\\end{bmatrix}$$\n",
        "So that will be:\n",
        "$$M^{-1} = \\frac{1}{26} \\begin{bmatrix} 5 & -7 \\\\ 3 & 1\\end{bmatrix} = \\begin{bmatrix} \\frac{5}{26} & \\frac{-7}{26} \\\\ \\frac{3}{26} & \\frac{1}{26}\\end{bmatrix}$$\n",
        "For higher-dimension matrices you might need to use co-factors, minors, adjugates, and other reduction techinques. To solve this programmatially we can use `np.linalg.inv()`."
      ]
    },
    {
      "cell_type": "code",
      "metadata": {
        "id": "6o_tzKcx5qAl",
        "colab": {
          "base_uri": "https://localhost:8080/"
        },
        "outputId": "6f442089-fcc7-4fe9-e8f2-1aa8fe5566f8"
      },
      "source": [
        "M = np.array([\n",
        "    [1,7],\n",
        "    [-3, 5]\n",
        "])\n",
        "\n",
        "np.array(M @ np.linalg.inv(M), dtype=int)"
      ],
      "execution_count": null,
      "outputs": [
        {
          "output_type": "execute_result",
          "data": {
            "text/plain": [
              "array([[1, 0],\n",
              "       [0, 1]])"
            ]
          },
          "metadata": {},
          "execution_count": 112
        }
      ]
    },
    {
      "cell_type": "code",
      "metadata": {
        "colab": {
          "base_uri": "https://localhost:8080/"
        },
        "id": "crpht7JFZ1gU",
        "outputId": "d0ec8ca7-42c9-4447-feba-8153bb129903"
      },
      "source": [
        "P = np.array([\n",
        "              [6, 9, 0],\n",
        "              [4, 2, -1],\n",
        "              [3, 6, 7]\n",
        "])\n",
        "Q = np.linalg.inv(P)\n",
        "Q"
      ],
      "execution_count": null,
      "outputs": [
        {
          "output_type": "execute_result",
          "data": {
            "text/plain": [
              "array([[-0.12578616,  0.39622642,  0.05660377],\n",
              "       [ 0.19496855, -0.26415094, -0.03773585],\n",
              "       [-0.11320755,  0.05660377,  0.1509434 ]])"
            ]
          },
          "metadata": {},
          "execution_count": 113
        }
      ]
    },
    {
      "cell_type": "code",
      "metadata": {
        "colab": {
          "base_uri": "https://localhost:8080/"
        },
        "id": "5hMKCRpzaIf0",
        "outputId": "924dd844-df15-4a3c-f398-ee3b700ddc16"
      },
      "source": [
        "P @ Q"
      ],
      "execution_count": null,
      "outputs": [
        {
          "output_type": "execute_result",
          "data": {
            "text/plain": [
              "array([[ 1.00000000e+00, -5.55111512e-17, -6.93889390e-18],\n",
              "       [ 8.32667268e-17,  1.00000000e+00, -2.77555756e-17],\n",
              "       [ 2.77555756e-17, -1.38777878e-17,  1.00000000e+00]])"
            ]
          },
          "metadata": {},
          "execution_count": 114
        }
      ]
    },
    {
      "cell_type": "code",
      "metadata": {
        "id": "67IPZoJM5qAl",
        "colab": {
          "base_uri": "https://localhost:8080/"
        },
        "outputId": "0e021a5a-0601-4488-d6d8-2773823dd5ad"
      },
      "source": [
        "## And now let's test your skills in solving a matrix with high dimensions:\n",
        "N = np.array([\n",
        "    [18,5,23,1,0,33,5],\n",
        "    [0,45,0,11,2,4,2],\n",
        "    [5,9,20,0,0,0,3],\n",
        "    [1,6,4,4,8,43,1],\n",
        "    [8,6,8,7,1,6,1],\n",
        "    [-5,15,2,0,0,6,-30],\n",
        "    [-2,-5,1,2,1,20,12],\n",
        "])\n",
        "N_inv = np.linalg.inv(N)\n",
        "np.array(N @ N_inv,dtype=int)"
      ],
      "execution_count": null,
      "outputs": [
        {
          "output_type": "execute_result",
          "data": {
            "text/plain": [
              "array([[0, 0, 0, 0, 0, 0, 0],\n",
              "       [0, 0, 0, 0, 0, 0, 0],\n",
              "       [0, 0, 1, 0, 0, 0, 0],\n",
              "       [0, 0, 0, 1, 0, 0, 0],\n",
              "       [0, 0, 0, 0, 0, 0, 0],\n",
              "       [0, 0, 0, 0, 0, 0, 0],\n",
              "       [0, 0, 0, 0, 0, 0, 1]])"
            ]
          },
          "metadata": {},
          "execution_count": 115
        }
      ]
    },
    {
      "cell_type": "markdown",
      "metadata": {
        "id": "v3tMlBTN5qAl"
      },
      "source": [
        "To validate the wether if the matric that you have solved is really the inverse, we follow this dot product property for a matrix $M$:\n",
        "$$M\\cdot M^{-1} = I$$"
      ]
    },
    {
      "cell_type": "code",
      "metadata": {
        "id": "UPMGu4cQ5qAm",
        "colab": {
          "base_uri": "https://localhost:8080/"
        },
        "outputId": "132dfecc-4e57-4e96-c3d9-0f43fc66a7dd"
      },
      "source": [
        "squad = np.array([\n",
        "    [1.0, 1.0, 0.5],\n",
        "    [0.7, 0.7, 0.9],\n",
        "    [0.3, 0.3, 1.0]\n",
        "])\n",
        "weights = np.array([\n",
        "    [0.2, 0.2, 0.6]\n",
        "])\n",
        "p_grade = squad @ weights.T\n",
        "p_grade\n"
      ],
      "execution_count": null,
      "outputs": [
        {
          "output_type": "execute_result",
          "data": {
            "text/plain": [
              "array([[0.7 ],\n",
              "       [0.82],\n",
              "       [0.72]])"
            ]
          },
          "metadata": {},
          "execution_count": 116
        }
      ]
    },
    {
      "cell_type": "markdown",
      "metadata": {
        "id": "hlP1zGsC5qAm"
      },
      "source": [
        "## Activity"
      ]
    },
    {
      "cell_type": "markdown",
      "metadata": {
        "id": "HpB1u3t05qAm"
      },
      "source": [
        "### Task 1"
      ]
    },
    {
      "cell_type": "markdown",
      "metadata": {
        "id": "RHhAZ_IM5qAm"
      },
      "source": [
        "Prove and implement the remaining 6 matrix multiplication properties. You may create your own matrices in which their shapes should not be lower than $(3,3)$.\n",
        "In your methodology, create individual flowcharts for each property and discuss the property you would then present your proofs or validity of your implementation in the results section by comparing your result to present functions from NumPy."
      ]
    },
    {
      "cell_type": "code",
      "metadata": {
        "id": "S0RNScmO5qAn",
        "colab": {
          "base_uri": "https://localhost:8080/"
        },
        "outputId": "ca76af10-1a0b-4349-f404-3c50157bd706"
      },
      "source": [
        "firstrule1 = A1 @ B1\n",
        "firstrule2 = B1 @ A1\n",
        "\n",
        "if np.all(firstrule1 == firstrule2):\n",
        "  print('A*B is equal to B*A')\n",
        "else:\n",
        "  print('A*B is not equal to B*A')"
      ],
      "execution_count": null,
      "outputs": [
        {
          "output_type": "stream",
          "name": "stdout",
          "text": [
            "A*B is not equal to B*A\n"
          ]
        }
      ]
    },
    {
      "cell_type": "code",
      "metadata": {
        "id": "RLPgIfWf5qAn",
        "colab": {
          "base_uri": "https://localhost:8080/"
        },
        "outputId": "31f51605-af9e-481e-dc6d-bf693339978f"
      },
      "source": [
        "secondrule1 = (A1@B1)@C1\n",
        "secondrule2 = A1@(B1@C1)\n",
        "\n",
        "if np.all(secondrule1 == secondrule2):\n",
        "  print('(A*B)*C is equal to A*(B*C)')\n",
        "else:\n",
        "  print('(A*B)*C is not equal to A*(B*C)')\n"
      ],
      "execution_count": null,
      "outputs": [
        {
          "output_type": "stream",
          "name": "stdout",
          "text": [
            "(A*B)*C is equal to A*(B*C)\n"
          ]
        }
      ]
    },
    {
      "cell_type": "code",
      "metadata": {
        "id": "MbEUgX265qAn",
        "colab": {
          "base_uri": "https://localhost:8080/"
        },
        "outputId": "89e8ac7d-eb4d-41bd-b4a8-046aba0f6729"
      },
      "source": [
        "thirdrule1 = A1@(B1+C1)\n",
        "thirdrule2 = A1@B1+A1@C1\n",
        "\n",
        "if np.all(thirdrule1 == thirdrule2):\n",
        "  print('A*(B+C) is equal to AB+AC')\n",
        "else:\n",
        "  print('A*(B+C) is not equal to AB+AC')"
      ],
      "execution_count": null,
      "outputs": [
        {
          "output_type": "stream",
          "name": "stdout",
          "text": [
            "A*(B+C) is equal to AB+AC\n"
          ]
        }
      ]
    },
    {
      "cell_type": "code",
      "metadata": {
        "id": "fRNEo0kG5qAn",
        "colab": {
          "base_uri": "https://localhost:8080/"
        },
        "outputId": "e9f3a563-2c20-430b-d0ef-f9c8316a9185"
      },
      "source": [
        "fourthrule1 = (B1+C1)@A1\n",
        "fourthrule2 = B1@A1+C1@A1\n",
        "\n",
        "if np.all(fourthrule1 == fourthrule2):\n",
        "  print('(B+C)*A is equal to BA+CA')\n",
        "else:\n",
        "  print('(B+C)*A is not equal to BA+CA')"
      ],
      "execution_count": null,
      "outputs": [
        {
          "output_type": "stream",
          "name": "stdout",
          "text": [
            "(B+C)*A is equal to BA+CA\n"
          ]
        }
      ]
    },
    {
      "cell_type": "code",
      "metadata": {
        "id": "q1MRaCin5qAn",
        "colab": {
          "base_uri": "https://localhost:8080/"
        },
        "outputId": "467d5062-0928-460b-f779-cd2264751df8"
      },
      "source": [
        "fifthrule1 = Identity@A1\n",
        "fifthrule2 = A1@Identity\n",
        "\n",
        "if np.all(fifthrule1 == fifthrule2):\n",
        "  print('AI = A is equal to IA = A')\n",
        "else:\n",
        "  print('AI = A is not equal to IA = A')"
      ],
      "execution_count": null,
      "outputs": [
        {
          "output_type": "stream",
          "name": "stdout",
          "text": [
            "AI = A is equal to IA = A\n"
          ]
        }
      ]
    },
    {
      "cell_type": "code",
      "metadata": {
        "id": "KVfmaz9R5qAn",
        "colab": {
          "base_uri": "https://localhost:8080/"
        },
        "outputId": "d312ef21-7d78-4fbb-ba8d-91e828f88651"
      },
      "source": [
        "sixthrule = A1*0\n",
        "\n",
        "if np.all(sixthrule == 0):\n",
        "  print('A*0 is equal to 0')\n",
        "else:\n",
        "  print('A*0 is not equal to 0')\n"
      ],
      "execution_count": null,
      "outputs": [
        {
          "output_type": "stream",
          "name": "stdout",
          "text": [
            "A*0 is equal to 0\n"
          ]
        }
      ]
    },
    {
      "cell_type": "markdown",
      "metadata": {
        "id": "orJNucpOIXCw"
      },
      "source": [
        "![Assignment6.png](data:image/png;base64,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)"
      ]
    },
    {
      "cell_type": "markdown",
      "metadata": {
        "id": "HQjpp42R5qAn"
      },
      "source": [
        "## Conclusion"
      ]
    },
    {
      "cell_type": "markdown",
      "metadata": {
        "id": "Tx0zyjMm5qAo"
      },
      "source": [
        "During this laboratory exercise, I was able to learn alot more of the coding aspect involving matrices and this is important because in future lesson, matrix multiplication and these other operations are the fundamentals of what we must do as a ECE student, and to also expand your programming language knowledge is a bonus."
      ]
    },
    {
      "cell_type": "markdown",
      "metadata": {
        "id": "NngXBcufsy_y"
      },
      "source": [
        "#References:\n",
        "[1] Python Program to find transpose of a matrix (2020). https://www.geeksforgeeks.org/python-program-to-find-transpose-of-a-matrix/\n",
        "\n",
        "[2] Linear Algebra Basics: Dot Product and Matrix Multiplication (2020). https://towardsdatascience.com/linear-algebra-basics-dot-product-and-matrix-multiplication-2a7624942810\n",
        "\n",
        "[3] Inner Product (2021). https://mathworld.wolfram.com/InnerProduct.html#:~:text=An%20inner%20product%20is%20a,this%20multiplication%20being%20a%20scalar.\n",
        "\n",
        "[4] Determinant and Cramer's Rule (2021). https://courses.lumenlearning.com/boundless-algebra/chapter/determinants-and-cramers-rule/\n",
        "\n",
        "[5] Inverses of Matrices (2021). https://courses.lumenlearning.com/boundless-algebra/chapter/inverses-of-matrices/ \n"
      ]
    }
  ]
}