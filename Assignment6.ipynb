{
  "nbformat": 4,
  "nbformat_minor": 0,
  "metadata": {
    "kernelspec": {
      "display_name": "Python 3",
      "language": "python",
      "name": "python3"
    },
    "language_info": {
      "codemirror_mode": {
        "name": "ipython",
        "version": 3
      },
      "file_extension": ".py",
      "mimetype": "text/x-python",
      "name": "python",
      "nbconvert_exporter": "python",
      "pygments_lexer": "ipython3",
      "version": "3.8.3"
    },
    "colab": {
      "name": "Assignment6.ipynb",
      "provenance": [],
      "collapsed_sections": [
        "-GmVMkBk5qAc",
        "tmcO-1oc5qAf",
        "4LuGMTDV5qAi"
      ],
      "include_colab_link": true
    }
  },
  "cells": [
    {
      "cell_type": "markdown",
      "metadata": {
        "id": "view-in-github",
        "colab_type": "text"
      },
      "source": [
        "<a href=\"https://colab.research.google.com/github/offchamp/LinearAlgebra59017-2020-21-/blob/main/Assignment6.ipynb\" target=\"_parent\"><img src=\"https://colab.research.google.com/assets/colab-badge.svg\" alt=\"Open In Colab\"/></a>"
      ]
    },
    {
      "cell_type": "markdown",
      "metadata": {
        "id": "YH6dSOMX5qAQ"
      },
      "source": [
        "# Linear Algebra for ECE\n",
        "## Laboratory 6 : Matrix Operations"
      ]
    },
    {
      "cell_type": "markdown",
      "metadata": {
        "id": "jYeiRZm35qAU"
      },
      "source": [
        "Now that you have a fundamental knowledge about representing and operating with vectors as well as the fundamentals of matrices, we'll try to the same operations with matrices and even more."
      ]
    },
    {
      "cell_type": "markdown",
      "metadata": {
        "id": "BInKdhlu5qAV"
      },
      "source": [
        "### Objectives\n",
        "At the end of this activity you will be able to:\n",
        "1. Be familiar with the fundamental matrix operations.\n",
        "2. Apply the operations to solve intermediate equations.\n",
        "3. Apply matrix algebra in engineering solutions."
      ]
    },
    {
      "cell_type": "markdown",
      "metadata": {
        "id": "Fz9EI_8Z5qAV"
      },
      "source": [
        "## Discussion"
      ]
    },
    {
      "cell_type": "code",
      "metadata": {
        "id": "S6r8UaPu5qAW"
      },
      "source": [
        "import numpy as np\n",
        "import matplotlib.pyplot as plt\n",
        "%matplotlib inline"
      ],
      "execution_count": null,
      "outputs": []
    },
    {
      "cell_type": "markdown",
      "metadata": {
        "id": "ORllWzOl5qAX"
      },
      "source": [
        "## Transposition [1]\n",
        "\n",
        "Transpose of a matrix is obtained by changing rows to columns and columns to rows. In other words, transpose of A[][] is obtained by changing A[i][j] to A[j][i]. In layman's term, in row 1, we transpose it to column 1 just like turning a vertical to horizontal."
      ]
    },
    {
      "cell_type": "markdown",
      "metadata": {
        "id": "4LtZTUbY5qAY"
      },
      "source": [
        "One of the fundamental operations in matrix algebra is Transposition. The transpose of a matrix is done by flipping the values of its elements over its diagonals. With this, the rows and columns from the original matrix will be switched. So for a matrix $A$ its transpose is denoted as $A^T$. So for example:"
      ]
    },
    {
      "cell_type": "markdown",
      "metadata": {
        "id": "HZeNXvo-5qAY"
      },
      "source": [
        "$$A = \\begin{bmatrix} 1 & 2 & 5\\\\5 & -1 &0 \\\\ 0 & -3 & 3\\end{bmatrix} $$"
      ]
    },
    {
      "cell_type": "markdown",
      "metadata": {
        "id": "tgGXC4Uz5qAZ"
      },
      "source": [
        "$$ A^T = \\begin{bmatrix} 1 & 5 & 0\\\\2 & -1 &-3 \\\\ 5 & 0 & 3\\end{bmatrix}$$"
      ]
    },
    {
      "cell_type": "markdown",
      "metadata": {
        "id": "JMVtzwZG5qAZ"
      },
      "source": [
        "This can now be achieved programmatically by using `np.transpose()` or using the `T` method."
      ]
    },
    {
      "cell_type": "code",
      "metadata": {
        "colab": {
          "base_uri": "https://localhost:8080/"
        },
        "id": "7cIxacBV5qAa",
        "outputId": "7bb8ad55-d919-474e-c9cf-72feacdca966"
      },
      "source": [
        "A = np.array([\n",
        "    [1 ,2, 5],\n",
        "    [5, -1, 0],\n",
        "    [0, -3, 3]\n",
        "])\n",
        "A"
      ],
      "execution_count": null,
      "outputs": [
        {
          "output_type": "execute_result",
          "data": {
            "text/plain": [
              "array([[ 1,  2,  5],\n",
              "       [ 5, -1,  0],\n",
              "       [ 0, -3,  3]])"
            ]
          },
          "metadata": {},
          "execution_count": 67
        }
      ]
    },
    {
      "cell_type": "code",
      "metadata": {
        "colab": {
          "base_uri": "https://localhost:8080/"
        },
        "id": "AhW8-DMO5qAb",
        "outputId": "ee436ce6-851e-419c-d4df-519581d9b6cb"
      },
      "source": [
        "AT1 = np.transpose(A)\n",
        "AT1"
      ],
      "execution_count": null,
      "outputs": [
        {
          "output_type": "execute_result",
          "data": {
            "text/plain": [
              "array([[ 1,  5,  0],\n",
              "       [ 2, -1, -3],\n",
              "       [ 5,  0,  3]])"
            ]
          },
          "metadata": {},
          "execution_count": 68
        }
      ]
    },
    {
      "cell_type": "code",
      "metadata": {
        "id": "eP1SHyCK5qAb",
        "colab": {
          "base_uri": "https://localhost:8080/"
        },
        "outputId": "660a8054-e906-48cb-a44c-d84ff8bec25f"
      },
      "source": [
        "AT2 = A.T\n",
        "AT2"
      ],
      "execution_count": null,
      "outputs": [
        {
          "output_type": "execute_result",
          "data": {
            "text/plain": [
              "array([[ 1,  5,  0],\n",
              "       [ 2, -1, -3],\n",
              "       [ 5,  0,  3]])"
            ]
          },
          "metadata": {},
          "execution_count": 69
        }
      ]
    },
    {
      "cell_type": "code",
      "metadata": {
        "id": "sQzzt0hr5qAb",
        "colab": {
          "base_uri": "https://localhost:8080/"
        },
        "outputId": "0904ed64-33e1-44c7-8144-b38da3429668"
      },
      "source": [
        "np.array_equiv(AT1, AT2)"
      ],
      "execution_count": null,
      "outputs": [
        {
          "output_type": "execute_result",
          "data": {
            "text/plain": [
              "True"
            ]
          },
          "metadata": {},
          "execution_count": 70
        }
      ]
    },
    {
      "cell_type": "code",
      "metadata": {
        "id": "Z2piL7OG5qAb",
        "colab": {
          "base_uri": "https://localhost:8080/"
        },
        "outputId": "cd945a7b-ae58-4ae5-aceb-1d13669e6a64"
      },
      "source": [
        "B = np.array([\n",
        "    [1,2,3,4],\n",
        "    [1,0,2,1],\n",
        "])\n",
        "B.shape"
      ],
      "execution_count": null,
      "outputs": [
        {
          "output_type": "execute_result",
          "data": {
            "text/plain": [
              "(2, 4)"
            ]
          },
          "metadata": {},
          "execution_count": 71
        }
      ]
    },
    {
      "cell_type": "code",
      "metadata": {
        "id": "AJ99IXpz5qAc",
        "colab": {
          "base_uri": "https://localhost:8080/"
        },
        "outputId": "52d57180-7b02-4364-c965-04f571ab385c"
      },
      "source": [
        "np.transpose(B).shape"
      ],
      "execution_count": null,
      "outputs": [
        {
          "output_type": "execute_result",
          "data": {
            "text/plain": [
              "(4, 2)"
            ]
          },
          "metadata": {},
          "execution_count": 72
        }
      ]
    },
    {
      "cell_type": "code",
      "metadata": {
        "id": "lZCQUI7M5qAc",
        "colab": {
          "base_uri": "https://localhost:8080/"
        },
        "outputId": "b6ff0c54-801f-45db-bda6-cbff740e5e5d"
      },
      "source": [
        "B.T.shape"
      ],
      "execution_count": null,
      "outputs": [
        {
          "output_type": "execute_result",
          "data": {
            "text/plain": [
              "(4, 2)"
            ]
          },
          "metadata": {},
          "execution_count": 73
        }
      ]
    },
    {
      "cell_type": "markdown",
      "metadata": {
        "id": "-GmVMkBk5qAc"
      },
      "source": [
        "#### Try to create your own matrix (you can try non-squares) to test transposition."
      ]
    },
    {
      "cell_type": "code",
      "metadata": {
        "id": "agJQTy6E5qAc",
        "colab": {
          "base_uri": "https://localhost:8080/"
        },
        "outputId": "2cde26c5-45c2-4e05-ba55-753d1dc7d712"
      },
      "source": [
        "## Try out your code here.\n",
        "Z=np.array([\n",
        "    [3,6,9],\n",
        "    [1,0,1]        \n",
        "])\n",
        "Z.shape"
      ],
      "execution_count": null,
      "outputs": [
        {
          "output_type": "execute_result",
          "data": {
            "text/plain": [
              "(2, 3)"
            ]
          },
          "metadata": {},
          "execution_count": 74
        }
      ]
    },
    {
      "cell_type": "code",
      "metadata": {
        "colab": {
          "base_uri": "https://localhost:8080/"
        },
        "id": "m6NkJ8GlLjXS",
        "outputId": "025f908f-2307-40f0-c963-5edb4f74c17b"
      },
      "source": [
        "np.transpose(Z).shape"
      ],
      "execution_count": null,
      "outputs": [
        {
          "output_type": "execute_result",
          "data": {
            "text/plain": [
              "(3, 2)"
            ]
          },
          "metadata": {},
          "execution_count": 75
        }
      ]
    },
    {
      "cell_type": "code",
      "metadata": {
        "colab": {
          "base_uri": "https://localhost:8080/"
        },
        "id": "jJsTKo-bLphu",
        "outputId": "9f6baf18-dbc8-4e6f-d168-416baf7173cb"
      },
      "source": [
        "Z.T.shape"
      ],
      "execution_count": null,
      "outputs": [
        {
          "output_type": "execute_result",
          "data": {
            "text/plain": [
              "(3, 2)"
            ]
          },
          "metadata": {},
          "execution_count": 76
        }
      ]
    },
    {
      "cell_type": "code",
      "metadata": {
        "colab": {
          "base_uri": "https://localhost:8080/"
        },
        "id": "Z3ZZVLBGLxeE",
        "outputId": "e98584c9-9506-4714-d52e-d259ed5d3544"
      },
      "source": [
        "ZT = Z.T\n",
        "ZT"
      ],
      "execution_count": null,
      "outputs": [
        {
          "output_type": "execute_result",
          "data": {
            "text/plain": [
              "array([[3, 1],\n",
              "       [6, 0],\n",
              "       [9, 1]])"
            ]
          },
          "metadata": {},
          "execution_count": 77
        }
      ]
    },
    {
      "cell_type": "markdown",
      "metadata": {
        "id": "xkLTJ0fl5qAc"
      },
      "source": [
        "## Dot Product / Inner Product [2] [3]\n",
        "The dot product of two vectors is the sum of the products of elements with regards to position. The first element of the first vector is multiplied by the first element of the second vector and so on. \n",
        "\n",
        "An inner product is a generalization of the dot product. In a vector space, it is a way to multiply vectors together, with the result of this multiplication being a scalar."
      ]
    },
    {
      "cell_type": "markdown",
      "metadata": {
        "id": "6kzi5rKI5qAd"
      },
      "source": [
        "If you recall the dot product from laboratory activity before, we will try to implement the same operation with matrices. In matrix dot product we are going to get the sum of products of the vectors by row-column pairs. So if we have two matrices $X$ and $Y$:\n",
        "\n",
        "$$X = \\begin{bmatrix}x_{(0,0)}&x_{(0,1)}\\\\ x_{(1,0)}&x_{(1,1)}\\end{bmatrix}, Y = \\begin{bmatrix}y_{(0,0)}&y_{(0,1)}\\\\ y_{(1,0)}&y_{(1,1)}\\end{bmatrix}$$\n",
        "\n",
        "The dot product will then be computed as:\n",
        "$$X \\cdot Y= \\begin{bmatrix} x_{(0,0)}*y_{(0,0)} + x_{(0,1)}*y_{(1,0)} & x_{(0,0)}*y_{(0,1)} + x_{(0,1)}*y_{(1,1)} \\\\  x_{(1,0)}*y_{(0,0)} + x_{(1,1)}*y_{(1,0)} & x_{(1,0)}*y_{(0,1)} + x_{(1,1)}*y_{(1,1)}\n",
        "\\end{bmatrix}$$\n",
        "\n",
        "So if we assign values to $X$ and $Y$:\n",
        "$$X = \\begin{bmatrix}1&2\\\\ 0&1\\end{bmatrix}, Y = \\begin{bmatrix}-1&0\\\\ 2&2\\end{bmatrix}$$"
      ]
    },
    {
      "cell_type": "markdown",
      "metadata": {
        "id": "JqxInb_P5qAd"
      },
      "source": [
        "$$X \\cdot Y= \\begin{bmatrix} 1*-1 + 2*2 & 1*0 + 2*2 \\\\  0*-1 + 1*2 & 0*0 + 1*2 \\end{bmatrix} = \\begin{bmatrix} 3 & 4 \\\\2 & 2 \\end{bmatrix}$$\n",
        "This could be achieved programmatically using `np.dot()`, `np.matmul()` or the `@` operator."
      ]
    },
    {
      "cell_type": "code",
      "metadata": {
        "id": "tcFdaGtG5qAd"
      },
      "source": [
        "X = np.array([\n",
        "    [1,2],\n",
        "    [0,1]\n",
        "])\n",
        "Y = np.array([\n",
        "    [-1,0],\n",
        "    [2,2]\n",
        "])"
      ],
      "execution_count": null,
      "outputs": []
    },
    {
      "cell_type": "code",
      "metadata": {
        "colab": {
          "base_uri": "https://localhost:8080/"
        },
        "id": "U-s-XqsqXYn1",
        "outputId": "d23aadc9-c64f-4a48-996c-38505a0944bc"
      },
      "source": [
        "np.array_equiv(X, Y)"
      ],
      "execution_count": null,
      "outputs": [
        {
          "output_type": "execute_result",
          "data": {
            "text/plain": [
              "False"
            ]
          },
          "metadata": {},
          "execution_count": 79
        }
      ]
    },
    {
      "cell_type": "code",
      "metadata": {
        "id": "RUczGxF85qAe",
        "colab": {
          "base_uri": "https://localhost:8080/"
        },
        "outputId": "fb1148b7-9e23-49e0-a1e2-41f20e388328"
      },
      "source": [
        "np.dot(X,Y)"
      ],
      "execution_count": null,
      "outputs": [
        {
          "output_type": "execute_result",
          "data": {
            "text/plain": [
              "array([[3, 4],\n",
              "       [2, 2]])"
            ]
          },
          "metadata": {},
          "execution_count": 80
        }
      ]
    },
    {
      "cell_type": "code",
      "metadata": {
        "id": "q-mALRKb5qAe",
        "colab": {
          "base_uri": "https://localhost:8080/"
        },
        "outputId": "3c2ce406-6e75-4cc0-a9e9-50615c0ca7da"
      },
      "source": [
        "X.dot(Y)"
      ],
      "execution_count": null,
      "outputs": [
        {
          "output_type": "execute_result",
          "data": {
            "text/plain": [
              "array([[3, 4],\n",
              "       [2, 2]])"
            ]
          },
          "metadata": {},
          "execution_count": 81
        }
      ]
    },
    {
      "cell_type": "code",
      "metadata": {
        "id": "ZTuRvubF5qAe",
        "colab": {
          "base_uri": "https://localhost:8080/"
        },
        "outputId": "03d4f75a-1da2-47ac-8078-dbb4fc7f6214"
      },
      "source": [
        "X @ Y"
      ],
      "execution_count": null,
      "outputs": [
        {
          "output_type": "execute_result",
          "data": {
            "text/plain": [
              "array([[3, 4],\n",
              "       [2, 2]])"
            ]
          },
          "metadata": {},
          "execution_count": 82
        }
      ]
    },
    {
      "cell_type": "code",
      "metadata": {
        "id": "kKqFUIuC5qAe",
        "colab": {
          "base_uri": "https://localhost:8080/"
        },
        "outputId": "398851b8-b2f5-49f4-a277-b83ee6b2e811"
      },
      "source": [
        "np.matmul(X,Y)"
      ],
      "execution_count": null,
      "outputs": [
        {
          "output_type": "execute_result",
          "data": {
            "text/plain": [
              "array([[3, 4],\n",
              "       [2, 2]])"
            ]
          },
          "metadata": {},
          "execution_count": 83
        }
      ]
    },
    {
      "cell_type": "code",
      "metadata": {
        "id": "Ty1dji7QOBUZ"
      },
      "source": [
        "D = np.array([\n",
        "    [3,2,2],\n",
        "    [3,1,3],\n",
        "    [5,3,2]\n",
        "])\n",
        "E = np.array([\n",
        "    [-2,0,5],\n",
        "    [2,4,6],\n",
        "    [7,4,3]\n",
        "])"
      ],
      "execution_count": null,
      "outputs": []
    },
    {
      "cell_type": "code",
      "metadata": {
        "colab": {
          "base_uri": "https://localhost:8080/"
        },
        "id": "hx-ww5y9OHKU",
        "outputId": "d2921456-f458-4c7d-e13c-8ae3a48e60ff"
      },
      "source": [
        "D @ E"
      ],
      "execution_count": null,
      "outputs": [
        {
          "output_type": "execute_result",
          "data": {
            "text/plain": [
              "array([[12, 16, 33],\n",
              "       [17, 16, 30],\n",
              "       [10, 20, 49]])"
            ]
          },
          "metadata": {},
          "execution_count": 85
        }
      ]
    },
    {
      "cell_type": "code",
      "metadata": {
        "colab": {
          "base_uri": "https://localhost:8080/"
        },
        "id": "Z0gcf6UIOKMR",
        "outputId": "108ce6bb-8593-4de5-fc63-9935cd71d215"
      },
      "source": [
        "D.dot(E)"
      ],
      "execution_count": null,
      "outputs": [
        {
          "output_type": "execute_result",
          "data": {
            "text/plain": [
              "array([[12, 16, 33],\n",
              "       [17, 16, 30],\n",
              "       [10, 20, 49]])"
            ]
          },
          "metadata": {},
          "execution_count": 86
        }
      ]
    },
    {
      "cell_type": "code",
      "metadata": {
        "colab": {
          "base_uri": "https://localhost:8080/"
        },
        "id": "nklBm-huOM2S",
        "outputId": "41d7de62-9cdc-45f0-fed2-39f9a412b062"
      },
      "source": [
        "np.matmul(D, E)"
      ],
      "execution_count": null,
      "outputs": [
        {
          "output_type": "execute_result",
          "data": {
            "text/plain": [
              "array([[12, 16, 33],\n",
              "       [17, 16, 30],\n",
              "       [10, 20, 49]])"
            ]
          },
          "metadata": {},
          "execution_count": 87
        }
      ]
    },
    {
      "cell_type": "code",
      "metadata": {
        "colab": {
          "base_uri": "https://localhost:8080/"
        },
        "id": "lvjJit8FOQtr",
        "outputId": "47f0af14-0bdc-4fba-a472-496490a3dacb"
      },
      "source": [
        "np.dot(D, E)"
      ],
      "execution_count": null,
      "outputs": [
        {
          "output_type": "execute_result",
          "data": {
            "text/plain": [
              "array([[12, 16, 33],\n",
              "       [17, 16, 30],\n",
              "       [10, 20, 49]])"
            ]
          },
          "metadata": {},
          "execution_count": 88
        }
      ]
    },
    {
      "cell_type": "markdown",
      "metadata": {
        "id": "tmcO-1oc5qAf"
      },
      "source": [
        "In matrix dot products there are additional rules compared with vector dot products. Since vector dot products were just in one dimension there are less restrictions. Since now we are dealing with Rank 2 vectors we need to consider some rules:\n",
        "\n",
        "### Rule 1: The inner dimensions of the two matrices in question must be the same. \n",
        "\n",
        "So given a matrix $A$ with a shape of $(a,b)$ where $a$ and $b$ are any integers. If we want to do a dot product between $A$ and another matrix $B$, then matrix $B$ should have a shape of $(b,c)$ where $b$ and $c$ are any integers. So for given the following matrices:\n",
        "\n",
        "$$A = \\begin{bmatrix}2&4\\\\5&-2\\\\0&1\\end{bmatrix}, B = \\begin{bmatrix}1&1\\\\3&3\\\\-1&-2\\end{bmatrix}, C = \\begin{bmatrix}0&1&1\\\\1&1&2\\end{bmatrix}$$\n",
        "\n",
        "So in this case $A$ has a shape of $(3,2)$, $B$ has a shape of $(3,2)$ and $C$ has a shape of $(2,3)$. So the only matrix pairs that is eligible to perform dot product is matrices $A \\cdot C$, or $B \\cdot C$.  "
      ]
    },
    {
      "cell_type": "code",
      "metadata": {
        "colab": {
          "base_uri": "https://localhost:8080/"
        },
        "id": "BHg0ldDB5qAf",
        "outputId": "b27cdfaf-3d89-4880-ea98-cd35e3f21bbd"
      },
      "source": [
        "A = np.array([\n",
        "    [2, 4],\n",
        "    [5, -2],\n",
        "    [0, 1]\n",
        "])\n",
        "B = np.array([\n",
        "    [1,1],\n",
        "    [3,3],\n",
        "    [-1,-2]\n",
        "])\n",
        "C = np.array([\n",
        "    [0,1,1],\n",
        "    [1,1,2]\n",
        "])\n",
        "print(A.shape)\n",
        "print(B.shape)\n",
        "print(C.shape)"
      ],
      "execution_count": null,
      "outputs": [
        {
          "output_type": "stream",
          "name": "stdout",
          "text": [
            "(3, 2)\n",
            "(3, 2)\n",
            "(2, 3)\n"
          ]
        }
      ]
    },
    {
      "cell_type": "code",
      "metadata": {
        "colab": {
          "base_uri": "https://localhost:8080/"
        },
        "id": "v5A58bku5qAg",
        "outputId": "4e8aa658-2062-488a-fcfc-992395049bee"
      },
      "source": [
        "A @ C"
      ],
      "execution_count": null,
      "outputs": [
        {
          "output_type": "execute_result",
          "data": {
            "text/plain": [
              "array([[ 4,  6, 10],\n",
              "       [-2,  3,  1],\n",
              "       [ 1,  1,  2]])"
            ]
          },
          "metadata": {},
          "execution_count": 90
        }
      ]
    },
    {
      "cell_type": "code",
      "metadata": {
        "id": "XpFBfYcr5qAg",
        "colab": {
          "base_uri": "https://localhost:8080/"
        },
        "outputId": "c37c8026-4f9d-40e6-f95d-b9c85eaa6556"
      },
      "source": [
        "B @ C"
      ],
      "execution_count": null,
      "outputs": [
        {
          "output_type": "execute_result",
          "data": {
            "text/plain": [
              "array([[ 1,  2,  3],\n",
              "       [ 3,  6,  9],\n",
              "       [-2, -3, -5]])"
            ]
          },
          "metadata": {},
          "execution_count": 91
        }
      ]
    },
    {
      "cell_type": "code",
      "metadata": {
        "id": "dQNPPUjLPt57"
      },
      "source": [
        ""
      ],
      "execution_count": null,
      "outputs": []
    },
    {
      "cell_type": "markdown",
      "metadata": {
        "id": "xrKDcZQu5qAg"
      },
      "source": [
        "If you would notice the shape of the dot product changed and its shape is not the same as any of the matrices we used. The shape of a dot product is actually derived from the shapes of the matrices used. So recall matrix $A$ with a shape of $(a,b)$ and matrix $B$ with a shape of $(b,c)$, $A \\cdot B$ should have a shape $(a,c)$."
      ]
    },
    {
      "cell_type": "code",
      "metadata": {
        "colab": {
          "base_uri": "https://localhost:8080/"
        },
        "id": "GV5OX8Yq5qAg",
        "outputId": "e1e85734-4052-42b5-8993-1e1f9613148c"
      },
      "source": [
        "A @ B.T"
      ],
      "execution_count": null,
      "outputs": [
        {
          "output_type": "execute_result",
          "data": {
            "text/plain": [
              "array([[  6,  18, -10],\n",
              "       [  3,   9,  -1],\n",
              "       [  1,   3,  -2]])"
            ]
          },
          "metadata": {},
          "execution_count": 92
        }
      ]
    },
    {
      "cell_type": "code",
      "metadata": {
        "colab": {
          "base_uri": "https://localhost:8080/"
        },
        "id": "3lB2SJC45qAi",
        "outputId": "a7efc2c1-dde1-4fcf-c7fd-6617e9d0d6a8"
      },
      "source": [
        "X = np.array([\n",
        "    [1,2,3,0]\n",
        "])\n",
        "Y = np.array([\n",
        "    [1,0,4,-1]\n",
        "])\n",
        "print(X.shape)\n",
        "print(Y.shape)"
      ],
      "execution_count": null,
      "outputs": [
        {
          "output_type": "stream",
          "name": "stdout",
          "text": [
            "(1, 4)\n",
            "(1, 4)\n"
          ]
        }
      ]
    },
    {
      "cell_type": "code",
      "metadata": {
        "colab": {
          "base_uri": "https://localhost:8080/"
        },
        "id": "6wmNHDiG5qAi",
        "outputId": "100e95c5-d0d6-46b4-c381-efc565f7042a"
      },
      "source": [
        "Y.T @ X"
      ],
      "execution_count": null,
      "outputs": [
        {
          "output_type": "execute_result",
          "data": {
            "text/plain": [
              "array([[ 1,  2,  3,  0],\n",
              "       [ 0,  0,  0,  0],\n",
              "       [ 4,  8, 12,  0],\n",
              "       [-1, -2, -3,  0]])"
            ]
          },
          "metadata": {},
          "execution_count": 94
        }
      ]
    },
    {
      "cell_type": "code",
      "metadata": {
        "colab": {
          "base_uri": "https://localhost:8080/"
        },
        "id": "56reEXdeRXjl",
        "outputId": "08bd49cc-cc60-469e-a33b-222a530e6b19"
      },
      "source": [
        "X @ Y.T"
      ],
      "execution_count": null,
      "outputs": [
        {
          "output_type": "execute_result",
          "data": {
            "text/plain": [
              "array([[13]])"
            ]
          },
          "metadata": {},
          "execution_count": 95
        }
      ]
    },
    {
      "cell_type": "markdown",
      "metadata": {
        "id": "eeaqcqWN5qAi"
      },
      "source": [
        "And youcan see that when you try to multiply A and B, it returns `ValueError` pertaining to matrix shape mismatch."
      ]
    },
    {
      "cell_type": "markdown",
      "metadata": {
        "id": "4LuGMTDV5qAi"
      },
      "source": [
        "### Rule 2: Dot Product has special properties\n",
        "\n",
        "Dot products are prevalent in matrix algebra, this implies that it has several unique properties and it should be considered when formulation solutions:\n",
        " 1. $A \\cdot B \\neq B \\cdot A$\n",
        " 2. $A \\cdot (B \\cdot C) = (A \\cdot B) \\cdot C$\n",
        " 3. $A\\cdot(B+C) = A\\cdot B + A\\cdot C$\n",
        " 4. $(B+C)\\cdot A = B\\cdot A + C\\cdot A$\n",
        " 5. $A\\cdot I = A$\n",
        " 6. $A\\cdot \\emptyset = \\emptyset$ "
      ]
    },
    {
      "cell_type": "markdown",
      "metadata": {
        "id": "1Q88K3zL5qAi"
      },
      "source": [
        "I'll be doing just one of the properties and I'll leave the rest to test your skills!"
      ]
    },
    {
      "cell_type": "code",
      "metadata": {
        "id": "NIuJS5DD5qAj"
      },
      "source": [
        "A = np.array([\n",
        "    [3,2,1],\n",
        "    [4,5,1],\n",
        "    [1,1,1]\n",
        "])\n",
        "B = np.array([\n",
        "    [4,1,6],\n",
        "    [4,1,9],\n",
        "    [1,4,8]\n",
        "])\n",
        "C = np.array([\n",
        "    [1,1,0],\n",
        "    [0,1,1],\n",
        "    [1,0,1]\n",
        "])"
      ],
      "execution_count": null,
      "outputs": []
    },
    {
      "cell_type": "code",
      "metadata": {
        "colab": {
          "base_uri": "https://localhost:8080/"
        },
        "id": "rMKQRQiGXqIO",
        "outputId": "c22fcfcf-4f51-4c96-d1f6-5a68a59c58dc"
      },
      "source": [
        "np.eye(3)"
      ],
      "execution_count": null,
      "outputs": [
        {
          "output_type": "execute_result",
          "data": {
            "text/plain": [
              "array([[1., 0., 0.],\n",
              "       [0., 1., 0.],\n",
              "       [0., 0., 1.]])"
            ]
          },
          "metadata": {},
          "execution_count": 97
        }
      ]
    },
    {
      "cell_type": "code",
      "metadata": {
        "colab": {
          "base_uri": "https://localhost:8080/"
        },
        "id": "C-jC2s9zX5lr",
        "outputId": "826f9276-240f-4848-b6bd-521dd0ad7dd3"
      },
      "source": [
        "A.dot(np.eye(3))"
      ],
      "execution_count": null,
      "outputs": [
        {
          "output_type": "execute_result",
          "data": {
            "text/plain": [
              "array([[3., 2., 1.],\n",
              "       [4., 5., 1.],\n",
              "       [1., 1., 1.]])"
            ]
          },
          "metadata": {},
          "execution_count": 98
        }
      ]
    },
    {
      "cell_type": "code",
      "metadata": {
        "colab": {
          "base_uri": "https://localhost:8080/"
        },
        "id": "odT_OJP3TZ4w",
        "outputId": "e07171e6-156b-40c0-9844-570c27d592f2"
      },
      "source": [
        "np.array_equal(A@B, B@A)"
      ],
      "execution_count": null,
      "outputs": [
        {
          "output_type": "execute_result",
          "data": {
            "text/plain": [
              "False"
            ]
          },
          "metadata": {},
          "execution_count": 99
        }
      ]
    },
    {
      "cell_type": "code",
      "metadata": {
        "colab": {
          "base_uri": "https://localhost:8080/"
        },
        "id": "tiDdHhxcWgVM",
        "outputId": "f8589081-8c1b-44ed-9d0a-5eb55551dbd2"
      },
      "source": [
        "E = A @ (B @ C)\n",
        "E"
      ],
      "execution_count": null,
      "outputs": [
        {
          "output_type": "execute_result",
          "data": {
            "text/plain": [
              "array([[ 65,  30,  53],\n",
              "       [114,  50,  90],\n",
              "       [ 32,  15,  29]])"
            ]
          },
          "metadata": {},
          "execution_count": 100
        }
      ]
    },
    {
      "cell_type": "code",
      "metadata": {
        "colab": {
          "base_uri": "https://localhost:8080/"
        },
        "id": "ExZZG4eZWpAl",
        "outputId": "119d43fc-b158-425b-eace-ed82afda787e"
      },
      "source": [
        "F = (A @ B) @ C\n",
        "F"
      ],
      "execution_count": null,
      "outputs": [
        {
          "output_type": "execute_result",
          "data": {
            "text/plain": [
              "array([[ 65,  30,  53],\n",
              "       [114,  50,  90],\n",
              "       [ 32,  15,  29]])"
            ]
          },
          "metadata": {},
          "execution_count": 101
        }
      ]
    },
    {
      "cell_type": "code",
      "metadata": {
        "colab": {
          "base_uri": "https://localhost:8080/"
        },
        "id": "UfXEP6q-W5yL",
        "outputId": "c3afbae2-f0e0-40fe-8be3-84dd84a81d66"
      },
      "source": [
        "np.array_equal(E, X)"
      ],
      "execution_count": null,
      "outputs": [
        {
          "output_type": "execute_result",
          "data": {
            "text/plain": [
              "False"
            ]
          },
          "metadata": {},
          "execution_count": 102
        }
      ]
    },
    {
      "cell_type": "code",
      "metadata": {
        "colab": {
          "base_uri": "https://localhost:8080/"
        },
        "id": "FJnDxAlTWud1",
        "outputId": "d62dd873-3bbd-44fc-c711-73b0c4c348f0"
      },
      "source": [
        "np.array_equiv(E, F)"
      ],
      "execution_count": null,
      "outputs": [
        {
          "output_type": "execute_result",
          "data": {
            "text/plain": [
              "True"
            ]
          },
          "metadata": {},
          "execution_count": 103
        }
      ]
    },
    {
      "cell_type": "code",
      "metadata": {
        "id": "SFOQkxtHWuVg"
      },
      "source": [
        ""
      ],
      "execution_count": null,
      "outputs": []
    },
    {
      "cell_type": "code",
      "metadata": {
        "colab": {
          "base_uri": "https://localhost:8080/"
        },
        "id": "R2xJmFlUVlbb",
        "outputId": "4664d313-8c35-4d42-8597-a4954f9be248"
      },
      "source": [
        "A @ E"
      ],
      "execution_count": null,
      "outputs": [
        {
          "output_type": "execute_result",
          "data": {
            "text/plain": [
              "array([[455, 205, 368],\n",
              "       [862, 385, 691],\n",
              "       [211,  95, 172]])"
            ]
          },
          "metadata": {},
          "execution_count": 104
        }
      ]
    },
    {
      "cell_type": "code",
      "metadata": {
        "colab": {
          "base_uri": "https://localhost:8080/"
        },
        "id": "UhgjprXt5qAj",
        "outputId": "381fa8f7-1f99-4b33-8f96-8a470b60569d"
      },
      "source": [
        "z_mat = np.zeros(A.shape)\n",
        "z_mat"
      ],
      "execution_count": null,
      "outputs": [
        {
          "output_type": "execute_result",
          "data": {
            "text/plain": [
              "array([[0., 0., 0.],\n",
              "       [0., 0., 0.],\n",
              "       [0., 0., 0.]])"
            ]
          },
          "metadata": {},
          "execution_count": 105
        }
      ]
    },
    {
      "cell_type": "code",
      "metadata": {
        "colab": {
          "base_uri": "https://localhost:8080/"
        },
        "id": "Y88CuKNy5qAj",
        "outputId": "28e0d982-6b13-4211-c5ca-2fb587862e2a"
      },
      "source": [
        "a_dot_z = A.dot(np.zeros(A.shape))\n",
        "a_dot_z"
      ],
      "execution_count": null,
      "outputs": [
        {
          "output_type": "execute_result",
          "data": {
            "text/plain": [
              "array([[0., 0., 0.],\n",
              "       [0., 0., 0.],\n",
              "       [0., 0., 0.]])"
            ]
          },
          "metadata": {},
          "execution_count": 106
        }
      ]
    },
    {
      "cell_type": "code",
      "metadata": {
        "colab": {
          "base_uri": "https://localhost:8080/"
        },
        "id": "7gLbl0xi5qAj",
        "outputId": "a63ec940-ee16-4971-d3f6-af580881657d"
      },
      "source": [
        "np.array_equal(a_dot_z,z_mat)"
      ],
      "execution_count": null,
      "outputs": [
        {
          "output_type": "execute_result",
          "data": {
            "text/plain": [
              "True"
            ]
          },
          "metadata": {},
          "execution_count": 107
        }
      ]
    },
    {
      "cell_type": "code",
      "metadata": {
        "colab": {
          "base_uri": "https://localhost:8080/"
        },
        "id": "O-BVE7BT5qAj",
        "outputId": "5f1b32dd-6b7d-47a1-8745-3566bdeb0817"
      },
      "source": [
        "null_mat = np.empty(A.shape, dtype=float)\n",
        "null = np.array(null_mat,dtype=float)\n",
        "print(null)\n",
        "np.allclose(a_dot_z,null)"
      ],
      "execution_count": null,
      "outputs": [
        {
          "output_type": "stream",
          "name": "stdout",
          "text": [
            "[[0. 0. 0.]\n",
            " [0. 0. 0.]\n",
            " [0. 0. 0.]]\n"
          ]
        },
        {
          "output_type": "execute_result",
          "data": {
            "text/plain": [
              "True"
            ]
          },
          "metadata": {},
          "execution_count": 108
        }
      ]
    },
    {
      "cell_type": "markdown",
      "metadata": {
        "id": "meSNX76X5qAk"
      },
      "source": [
        "## Determinant [4]\n",
        "is a mathematical construct used in problem solving that is found by a special formula, if matrix for example is 2x2, its determinant can be solved using the formula ad-bc"
      ]
    },
    {
      "cell_type": "markdown",
      "metadata": {
        "id": "usidzlzW5qAk"
      },
      "source": [
        "A determinant is a scalar value derived from a square matrix. The determinant is a fundamental and important value used in matrix algebra. Although it will not be evident in this laboratory on how it can be used practically, but it will be reatly used in future lessons.\n",
        "\n",
        "The determinant of some matrix $A$ is denoted as $det(A)$ or $|A|$. So let's say $A$ is represented as:\n",
        "$$A = \\begin{bmatrix}a_{(0,0)}&a_{(0,1)}\\\\a_{(1,0)}&a_{(1,1)}\\end{bmatrix}$$\n",
        "We can compute for the determinant as:\n",
        "$$|A| = a_{(0,0)}*a_{(1,1)} - a_{(1,0)}*a_{(0,1)}$$\n",
        "So if we have $A$ as:\n",
        "$$A = \\begin{bmatrix}1&4\\\\0&3\\end{bmatrix}, |A| = 3$$\n",
        "\n",
        "But you might wonder how about square matrices beyond the shape $(2,2)$? We can approach this problem by using several methods such as co-factor expansion and the minors method. This can be taught in the lecture of the laboratory but we can achieve the strenuous computation of high-dimensional matrices programmatically using Python. We can achieve this by using `np.linalg.det()`."
      ]
    },
    {
      "cell_type": "code",
      "metadata": {
        "id": "-H6sOqcu5qAk",
        "colab": {
          "base_uri": "https://localhost:8080/"
        },
        "outputId": "fc8a58b0-ea45-42bb-8915-1f96d3c68f3c"
      },
      "source": [
        "## Now other mathematics classes would require you to solve this by hand, \n",
        "## and that is great for practicing your memorization and coordination skills \n",
        "## but in this class we aim for simplicity and speed so we'll use programming\n",
        "## but it's completely fine if you want to try to solve this one by hand.\n",
        "B = np.array([\n",
        "    [1,3,5,6],\n",
        "    [0,3,1,3],\n",
        "    [3,1,8,2],\n",
        "    [5,2,6,8]\n",
        "])\n",
        "np.linalg.det(B)"
      ],
      "execution_count": null,
      "outputs": [
        {
          "output_type": "execute_result",
          "data": {
            "text/plain": [
              "-235.0000000000002"
            ]
          },
          "metadata": {},
          "execution_count": 156
        }
      ]
    },
    {
      "cell_type": "code",
      "metadata": {
        "id": "UXIlruLY5qAk",
        "colab": {
          "base_uri": "https://localhost:8080/"
        },
        "outputId": "cea23823-b5d6-4d38-ce7a-e917227adebb"
      },
      "source": [
        "A = np.array([\n",
        "    [1,4],\n",
        "    [0,3]\n",
        "])\n",
        "np.linalg.det(A)"
      ],
      "execution_count": null,
      "outputs": [
        {
          "output_type": "execute_result",
          "data": {
            "text/plain": [
              "3.0000000000000004"
            ]
          },
          "metadata": {},
          "execution_count": 157
        }
      ]
    },
    {
      "cell_type": "code",
      "metadata": {
        "colab": {
          "base_uri": "https://localhost:8080/"
        },
        "id": "sRPD8UryYoTd",
        "outputId": "7272e9db-9456-4dea-cc2b-47e209f0a92d"
      },
      "source": [
        "B = np.array([\n",
        "              [1, 5, 2],\n",
        "              [3, -1 ,-1],\n",
        "              [0, -2, 1]\n",
        "])\n",
        "np.linalg.det(B)"
      ],
      "execution_count": null,
      "outputs": [
        {
          "output_type": "execute_result",
          "data": {
            "text/plain": [
              "-30.000000000000014"
            ]
          },
          "metadata": {},
          "execution_count": 158
        }
      ]
    },
    {
      "cell_type": "markdown",
      "metadata": {
        "id": "YgnCzR5i5qAk"
      },
      "source": [
        "## Inverse [5]\n",
        "The inverse of matrix [A] is [A]^−1, and is defined by the property: [A][A]^-1 = [A]^-1[A] = [I]"
      ]
    },
    {
      "cell_type": "markdown",
      "metadata": {
        "id": "NyZt93mR5qAk"
      },
      "source": [
        "The inverse of a matrix is another fundamental operation in matrix algebra. Determining the inverse of a matrix let us determine if its solvability and its characteristic as a system of linear equation — we'll expand on this in the nect module. Another use of the inverse matrix is solving the problem of divisibility between matrices. Although element-wise division exists but dividing the entire concept of matrices does not exists. Inverse matrices provides a related operation that could have the same concept of \"dividing\" matrices.\n",
        "\n",
        "Now to determine the inverse of a matrix we need to perform several steps. So let's say we have a matrix $M$:\n",
        "$$M = \\begin{bmatrix}1&7\\\\-3&5\\end{bmatrix}$$\n",
        "First, we need to get the determinant of $M$.\n",
        "$$|M| = (1)(5)-(-3)(7) = 26$$\n",
        "Next, we need to reform the matrix into the inverse form:\n",
        "$$M^{-1} = \\frac{1}{|M|} \\begin{bmatrix} m_{(1,1)} & -m_{(0,1)} \\\\ -m_{(1,0)} & m_{(0,0)}\\end{bmatrix}$$\n",
        "So that will be:\n",
        "$$M^{-1} = \\frac{1}{26} \\begin{bmatrix} 5 & -7 \\\\ 3 & 1\\end{bmatrix} = \\begin{bmatrix} \\frac{5}{26} & \\frac{-7}{26} \\\\ \\frac{3}{26} & \\frac{1}{26}\\end{bmatrix}$$\n",
        "For higher-dimension matrices you might need to use co-factors, minors, adjugates, and other reduction techinques. To solve this programmatially we can use `np.linalg.inv()`."
      ]
    },
    {
      "cell_type": "code",
      "metadata": {
        "id": "6o_tzKcx5qAl",
        "colab": {
          "base_uri": "https://localhost:8080/"
        },
        "outputId": "6f442089-fcc7-4fe9-e8f2-1aa8fe5566f8"
      },
      "source": [
        "M = np.array([\n",
        "    [1,7],\n",
        "    [-3, 5]\n",
        "])\n",
        "\n",
        "np.array(M @ np.linalg.inv(M), dtype=int)"
      ],
      "execution_count": null,
      "outputs": [
        {
          "output_type": "execute_result",
          "data": {
            "text/plain": [
              "array([[1, 0],\n",
              "       [0, 1]])"
            ]
          },
          "metadata": {},
          "execution_count": 112
        }
      ]
    },
    {
      "cell_type": "code",
      "metadata": {
        "colab": {
          "base_uri": "https://localhost:8080/"
        },
        "id": "crpht7JFZ1gU",
        "outputId": "d0ec8ca7-42c9-4447-feba-8153bb129903"
      },
      "source": [
        "P = np.array([\n",
        "              [6, 9, 0],\n",
        "              [4, 2, -1],\n",
        "              [3, 6, 7]\n",
        "])\n",
        "Q = np.linalg.inv(P)\n",
        "Q"
      ],
      "execution_count": null,
      "outputs": [
        {
          "output_type": "execute_result",
          "data": {
            "text/plain": [
              "array([[-0.12578616,  0.39622642,  0.05660377],\n",
              "       [ 0.19496855, -0.26415094, -0.03773585],\n",
              "       [-0.11320755,  0.05660377,  0.1509434 ]])"
            ]
          },
          "metadata": {},
          "execution_count": 113
        }
      ]
    },
    {
      "cell_type": "code",
      "metadata": {
        "colab": {
          "base_uri": "https://localhost:8080/"
        },
        "id": "5hMKCRpzaIf0",
        "outputId": "924dd844-df15-4a3c-f398-ee3b700ddc16"
      },
      "source": [
        "P @ Q"
      ],
      "execution_count": null,
      "outputs": [
        {
          "output_type": "execute_result",
          "data": {
            "text/plain": [
              "array([[ 1.00000000e+00, -5.55111512e-17, -6.93889390e-18],\n",
              "       [ 8.32667268e-17,  1.00000000e+00, -2.77555756e-17],\n",
              "       [ 2.77555756e-17, -1.38777878e-17,  1.00000000e+00]])"
            ]
          },
          "metadata": {},
          "execution_count": 114
        }
      ]
    },
    {
      "cell_type": "code",
      "metadata": {
        "id": "67IPZoJM5qAl",
        "colab": {
          "base_uri": "https://localhost:8080/"
        },
        "outputId": "0e021a5a-0601-4488-d6d8-2773823dd5ad"
      },
      "source": [
        "## And now let's test your skills in solving a matrix with high dimensions:\n",
        "N = np.array([\n",
        "    [18,5,23,1,0,33,5],\n",
        "    [0,45,0,11,2,4,2],\n",
        "    [5,9,20,0,0,0,3],\n",
        "    [1,6,4,4,8,43,1],\n",
        "    [8,6,8,7,1,6,1],\n",
        "    [-5,15,2,0,0,6,-30],\n",
        "    [-2,-5,1,2,1,20,12],\n",
        "])\n",
        "N_inv = np.linalg.inv(N)\n",
        "np.array(N @ N_inv,dtype=int)"
      ],
      "execution_count": null,
      "outputs": [
        {
          "output_type": "execute_result",
          "data": {
            "text/plain": [
              "array([[0, 0, 0, 0, 0, 0, 0],\n",
              "       [0, 0, 0, 0, 0, 0, 0],\n",
              "       [0, 0, 1, 0, 0, 0, 0],\n",
              "       [0, 0, 0, 1, 0, 0, 0],\n",
              "       [0, 0, 0, 0, 0, 0, 0],\n",
              "       [0, 0, 0, 0, 0, 0, 0],\n",
              "       [0, 0, 0, 0, 0, 0, 1]])"
            ]
          },
          "metadata": {},
          "execution_count": 115
        }
      ]
    },
    {
      "cell_type": "markdown",
      "metadata": {
        "id": "v3tMlBTN5qAl"
      },
      "source": [
        "To validate the wether if the matric that you have solved is really the inverse, we follow this dot product property for a matrix $M$:\n",
        "$$M\\cdot M^{-1} = I$$"
      ]
    },
    {
      "cell_type": "code",
      "metadata": {
        "id": "UPMGu4cQ5qAm",
        "colab": {
          "base_uri": "https://localhost:8080/"
        },
        "outputId": "132dfecc-4e57-4e96-c3d9-0f43fc66a7dd"
      },
      "source": [
        "squad = np.array([\n",
        "    [1.0, 1.0, 0.5],\n",
        "    [0.7, 0.7, 0.9],\n",
        "    [0.3, 0.3, 1.0]\n",
        "])\n",
        "weights = np.array([\n",
        "    [0.2, 0.2, 0.6]\n",
        "])\n",
        "p_grade = squad @ weights.T\n",
        "p_grade\n"
      ],
      "execution_count": null,
      "outputs": [
        {
          "output_type": "execute_result",
          "data": {
            "text/plain": [
              "array([[0.7 ],\n",
              "       [0.82],\n",
              "       [0.72]])"
            ]
          },
          "metadata": {},
          "execution_count": 116
        }
      ]
    },
    {
      "cell_type": "markdown",
      "metadata": {
        "id": "hlP1zGsC5qAm"
      },
      "source": [
        "## Activity"
      ]
    },
    {
      "cell_type": "markdown",
      "metadata": {
        "id": "HpB1u3t05qAm"
      },
      "source": [
        "### Task 1"
      ]
    },
    {
      "cell_type": "markdown",
      "metadata": {
        "id": "RHhAZ_IM5qAm"
      },
      "source": [
        "Prove and implement the remaining 6 matrix multiplication properties. You may create your own matrices in which their shapes should not be lower than $(3,3)$.\n",
        "In your methodology, create individual flowcharts for each property and discuss the property you would then present your proofs or validity of your implementation in the results section by comparing your result to present functions from NumPy."
      ]
    },
    {
      "cell_type": "code",
      "metadata": {
        "id": "S0RNScmO5qAn",
        "colab": {
          "base_uri": "https://localhost:8080/"
        },
        "outputId": "ca76af10-1a0b-4349-f404-3c50157bd706"
      },
      "source": [
        "firstrule1 = A1 @ B1\n",
        "firstrule2 = B1 @ A1\n",
        "\n",
        "if np.all(firstrule1 == firstrule2):\n",
        "  print('A*B is equal to B*A')\n",
        "else:\n",
        "  print('A*B is not equal to B*A')"
      ],
      "execution_count": null,
      "outputs": [
        {
          "output_type": "stream",
          "name": "stdout",
          "text": [
            "A*B is not equal to B*A\n"
          ]
        }
      ]
    },
    {
      "cell_type": "code",
      "metadata": {
        "id": "RLPgIfWf5qAn",
        "colab": {
          "base_uri": "https://localhost:8080/"
        },
        "outputId": "31f51605-af9e-481e-dc6d-bf693339978f"
      },
      "source": [
        "secondrule1 = (A1@B1)@C1\n",
        "secondrule2 = A1@(B1@C1)\n",
        "\n",
        "if np.all(secondrule1 == secondrule2):\n",
        "  print('(A*B)*C is equal to A*(B*C)')\n",
        "else:\n",
        "  print('(A*B)*C is not equal to A*(B*C)')\n"
      ],
      "execution_count": null,
      "outputs": [
        {
          "output_type": "stream",
          "name": "stdout",
          "text": [
            "(A*B)*C is equal to A*(B*C)\n"
          ]
        }
      ]
    },
    {
      "cell_type": "code",
      "metadata": {
        "id": "MbEUgX265qAn",
        "colab": {
          "base_uri": "https://localhost:8080/"
        },
        "outputId": "89e8ac7d-eb4d-41bd-b4a8-046aba0f6729"
      },
      "source": [
        "thirdrule1 = A1@(B1+C1)\n",
        "thirdrule2 = A1@B1+A1@C1\n",
        "\n",
        "if np.all(thirdrule1 == thirdrule2):\n",
        "  print('A*(B+C) is equal to AB+AC')\n",
        "else:\n",
        "  print('A*(B+C) is not equal to AB+AC')"
      ],
      "execution_count": null,
      "outputs": [
        {
          "output_type": "stream",
          "name": "stdout",
          "text": [
            "A*(B+C) is equal to AB+AC\n"
          ]
        }
      ]
    },
    {
      "cell_type": "code",
      "metadata": {
        "id": "fRNEo0kG5qAn",
        "colab": {
          "base_uri": "https://localhost:8080/"
        },
        "outputId": "e9f3a563-2c20-430b-d0ef-f9c8316a9185"
      },
      "source": [
        "fourthrule1 = (B1+C1)@A1\n",
        "fourthrule2 = B1@A1+C1@A1\n",
        "\n",
        "if np.all(fourthrule1 == fourthrule2):\n",
        "  print('(B+C)*A is equal to BA+CA')\n",
        "else:\n",
        "  print('(B+C)*A is not equal to BA+CA')"
      ],
      "execution_count": null,
      "outputs": [
        {
          "output_type": "stream",
          "name": "stdout",
          "text": [
            "(B+C)*A is equal to BA+CA\n"
          ]
        }
      ]
    },
    {
      "cell_type": "code",
      "metadata": {
        "id": "q1MRaCin5qAn",
        "colab": {
          "base_uri": "https://localhost:8080/"
        },
        "outputId": "467d5062-0928-460b-f779-cd2264751df8"
      },
      "source": [
        "fifthrule1 = Identity@A1\n",
        "fifthrule2 = A1@Identity\n",
        "\n",
        "if np.all(fifthrule1 == fifthrule2):\n",
        "  print('AI = A is equal to IA = A')\n",
        "else:\n",
        "  print('AI = A is not equal to IA = A')"
      ],
      "execution_count": null,
      "outputs": [
        {
          "output_type": "stream",
          "name": "stdout",
          "text": [
            "AI = A is equal to IA = A\n"
          ]
        }
      ]
    },
    {
      "cell_type": "code",
      "metadata": {
        "id": "KVfmaz9R5qAn",
        "colab": {
          "base_uri": "https://localhost:8080/"
        },
        "outputId": "d312ef21-7d78-4fbb-ba8d-91e828f88651"
      },
      "source": [
        "sixthrule = A1*0\n",
        "\n",
        "if np.all(sixthrule == 0):\n",
        "  print('A*0 is equal to 0')\n",
        "else:\n",
        "  print('A*0 is not equal to 0')\n"
      ],
      "execution_count": null,
      "outputs": [
        {
          "output_type": "stream",
          "name": "stdout",
          "text": [
            "A*0 is equal to 0\n"
          ]
        }
      ]
    },
    {
      "cell_type": "markdown",
      "metadata": {
        "id": "rJr2UKP9c3CN"
      },
      "source": [
        "![Assignment6.png](data:image/png;base64,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)"
      ]
    },
    {
      "cell_type": "markdown",
      "metadata": {
        "id": "HQjpp42R5qAn"
      },
      "source": [
        "## Conclusion"
      ]
    },
    {
      "cell_type": "markdown",
      "metadata": {
        "id": "Tx0zyjMm5qAo"
      },
      "source": [
        "During this laboratory exercise, I was able to learn alot more of the coding aspect involving matrices and this is important because in future lesson, matrix multiplication and these other operations are the fundamentals of what we must do as a ECE student, and to also expand your programming language knowledge is a bonus."
      ]
    },
    {
      "cell_type": "markdown",
      "metadata": {
        "id": "NngXBcufsy_y"
      },
      "source": [
        "#References:\n",
        "[1] Python Program to find transpose of a matrix (2020). https://www.geeksforgeeks.org/python-program-to-find-transpose-of-a-matrix/\n",
        "\n",
        "[2] Linear Algebra Basics: Dot Product and Matrix Multiplication (2020). https://towardsdatascience.com/linear-algebra-basics-dot-product-and-matrix-multiplication-2a7624942810\n",
        "\n",
        "[3] Inner Product (2021). https://mathworld.wolfram.com/InnerProduct.html#:~:text=An%20inner%20product%20is%20a,this%20multiplication%20being%20a%20scalar.\n",
        "\n",
        "[4] Determinant and Cramer's Rule (2021). https://courses.lumenlearning.com/boundless-algebra/chapter/determinants-and-cramers-rule/\n",
        "\n",
        "[5] Inverses of Matrices (2021). https://courses.lumenlearning.com/boundless-algebra/chapter/inverses-of-matrices/ \n"
      ]
    }
  ]
}